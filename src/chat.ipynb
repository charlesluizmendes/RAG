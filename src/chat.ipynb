{
 "cells": [
  {
   "cell_type": "code",
   "execution_count": 5,
   "id": "ea0752f9",
   "metadata": {},
   "outputs": [
    {
     "name": "stdout",
     "output_type": "stream",
     "text": [
      "[youtube] Extracting URL: https://www.youtube.com/watch?v=Vn3sPf2Mink&ab_channel=Metr%C3%B3poles\n",
      "[youtube] Vn3sPf2Mink: Downloading webpage\n",
      "[youtube] Vn3sPf2Mink: Downloading tv client config\n",
      "[youtube] Vn3sPf2Mink: Downloading tv player API JSON\n",
      "[youtube] Vn3sPf2Mink: Downloading ios player API JSON\n",
      "[youtube] Vn3sPf2Mink: Downloading m3u8 information\n",
      "[info] Vn3sPf2Mink: Downloading 1 format(s): 140\n",
      "[download] ..\\audio\\“Me prontifiquei a colocar uma retroescavadeira”, diz Cid Gomes sobre ocupação do plenário do Senado.m4a has already been downloaded\n",
      "[download] 100% of    1.41MiB\n",
      "[ExtractAudio] Not converting audio ..\\audio\\“Me prontifiquei a colocar uma retroescavadeira”, diz Cid Gomes sobre ocupação do plenário do Senado.m4a; file is already in target format m4a\n",
      "Transcribing part 1!\n"
     ]
    }
   ],
   "source": [
    "%run llm.ipynb"
   ]
  },
  {
   "cell_type": "code",
   "execution_count": 6,
   "id": "6710535d",
   "metadata": {},
   "outputs": [
    {
     "name": "stdout",
     "output_type": "stream",
     "text": [
      "\n",
      "\n",
      "\u001b[1m> Entering new StuffDocumentsChain chain...\u001b[0m\n",
      "\n",
      "\n",
      "\u001b[1m> Entering new LLMChain chain...\u001b[0m\n",
      "Prompt after formatting:\n",
      "\u001b[32;1m\u001b[1;3mSystem: Use the following pieces of context to answer the user's question.\n",
      "If you don't know the answer, just say that you don't know, don't try to make up an answer.\n",
      "----------------\n",
      "Como amanhã muitos senadores, já esteve eu por exemplo, vou pegar um avião agora às 9 horas da noite. Então amanhã será, e essa matéria, essa MP é urgente, se não trará prejuízo para 10 milhões de brasileiros, que é o que está nessa faixa de dois salários mínimos. Então vai ser votada de forma virtual. Semana que vem, o que eu ouvi do presidente é que ele não aceitará. Tá certo? Não aceitará. Tá apelando, hein? Vai ser no plenário amanhã? Amanhã vai ser virtual. Mas como é que vai ser virtual no plenário? O problema é onde que ele vai fazer. Sim, mas aí também é segredo de Estado. É segredo de Estado. Se ele disser que vai fazer aqui, vão querer invadir a casa dele. Onde ele vai ficar, as pessoas vão ver. Eu vou ficar lá no Ceará, no meu apartamento. Acho que não vão entrar lá não. Ele falou que ele vai fazer... Ele disse esse prazo? Textualmente ele disse que semana que vem, é como quem diz, por bem ou por mal, semana que vem, o plenário tem que estar livre pra ter a sua normalidade. Passou uma linha no chão. Passou um risco. Então até amanhã eles podem ficar lá? A tolerância até amanhã, eles podem ficar lá a partir da semana que vem? Pra ser preciso com a palavra dele, semana que vem, as nossas tarefas serão no plenário da casa. E ele falou das condições sobre as sapatinas também? Qualquer coisa, eu até me prontifiquei a colocar uma reta escavadeira. Pra desacorrentar o magmó.\n",
      "Human: \n",
      "Faca um resumo desse documento.\n",
      "\u001b[0m\n",
      "\n",
      "\u001b[1m> Finished chain.\u001b[0m\n",
      "\n",
      "\u001b[1m> Finished chain.\u001b[0m\n"
     ]
    },
    {
     "data": {
      "text/plain": [
       "'O documento discute a votação de uma Medida Provisória (MP) que é considerada urgente, pois afeta 10 milhões de brasileiros que ganham até dois salários mínimos. A votação será realizada de forma virtual devido à ausência de muitos senadores que estarão viajando. O presidente do Senado indicou que, na próxima semana, as atividades devem retornar ao plenário de forma normal, e ele não aceitará mais adiamentos. Há uma menção a questões de segurança e logística sobre onde as votações virtuais serão realizadas, com um tom de sigilo para evitar invasões.'"
      ]
     },
     "execution_count": 6,
     "metadata": {},
     "output_type": "execute_result"
    }
   ],
   "source": [
    "question = \"\"\"\n",
    "Faca um resumo desse documento.\n",
    "\"\"\"\n",
    "chain.run(input_documents=document, question=question)"
   ]
  }
 ],
 "metadata": {
  "kernelspec": {
   "display_name": "venv (3.12.4)",
   "language": "python",
   "name": "python3"
  },
  "language_info": {
   "codemirror_mode": {
    "name": "ipython",
    "version": 3
   },
   "file_extension": ".py",
   "mimetype": "text/x-python",
   "name": "python",
   "nbconvert_exporter": "python",
   "pygments_lexer": "ipython3",
   "version": "3.12.4"
  }
 },
 "nbformat": 4,
 "nbformat_minor": 5
}
