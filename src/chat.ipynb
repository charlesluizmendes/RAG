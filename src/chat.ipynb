{
 "cells": [
  {
   "cell_type": "markdown",
   "id": "7b2cec41",
   "metadata": {},
   "source": [
    "# LLM"
   ]
  },
  {
   "cell_type": "code",
   "execution_count": 5,
   "id": "0f81dcd7",
   "metadata": {},
   "outputs": [
    {
     "name": "stderr",
     "output_type": "stream",
     "text": [
      "Loading checkpoint shards: 100%|██████████| 2/2 [00:05<00:00,  2.83s/it]\n",
      "Device set to use cuda:0\n",
      "Setting `pad_token_id` to `eos_token_id`:128001 for open-end generation.\n"
     ]
    }
   ],
   "source": [
    "%run huggingFace.ipynb"
   ]
  },
  {
   "cell_type": "markdown",
   "id": "c538085c",
   "metadata": {},
   "source": [
    "# Chat"
   ]
  },
  {
   "cell_type": "code",
   "execution_count": 6,
   "id": "6b2ba03e",
   "metadata": {},
   "outputs": [],
   "source": [
    "question = \"**Disciplina** <História>, sendo o **Conteúdo** <Patrimônio> e o **Objetivo da Aula** é <Importancia das Artes>.\""
   ]
  },
  {
   "cell_type": "code",
   "execution_count": 7,
   "id": "8541264e",
   "metadata": {},
   "outputs": [
    {
     "name": "stderr",
     "output_type": "stream",
     "text": [
      "Setting `pad_token_id` to `eos_token_id`:128001 for open-end generation.\n"
     ]
    }
   ],
   "source": [
    "answer = retriver_chain.invoke({\"input\": question})"
   ]
  },
  {
   "cell_type": "code",
   "execution_count": 8,
   "id": "6e436471",
   "metadata": {},
   "outputs": [
    {
     "name": "stdout",
     "output_type": "stream",
     "text": [
      "\n",
      "\n",
      "Identificar oportunidades, Mobilização de pessoas e Planejamento e administração.\n"
     ]
    }
   ],
   "source": [
    "print(answer[\"answer\"])"
   ]
  }
 ],
 "metadata": {
  "kernelspec": {
   "display_name": "venv (3.12.4)",
   "language": "python",
   "name": "python3"
  },
  "language_info": {
   "codemirror_mode": {
    "name": "ipython",
    "version": 3
   },
   "file_extension": ".py",
   "mimetype": "text/x-python",
   "name": "python",
   "nbconvert_exporter": "python",
   "pygments_lexer": "ipython3",
   "version": "3.12.4"
  }
 },
 "nbformat": 4,
 "nbformat_minor": 5
}
