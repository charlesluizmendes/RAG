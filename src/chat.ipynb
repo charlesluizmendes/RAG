{
 "cells": [
  {
   "cell_type": "markdown",
   "id": "271addfa",
   "metadata": {},
   "source": [
    "# Chat (HuggingFace)"
   ]
  },
  {
   "cell_type": "markdown",
   "id": "1f57ade1",
   "metadata": {},
   "source": [
    "### LLM"
   ]
  },
  {
   "cell_type": "code",
   "execution_count": 1,
   "id": "41ec6c3d",
   "metadata": {},
   "outputs": [
    {
     "name": "stderr",
     "output_type": "stream",
     "text": [
      "d:\\Visual Code\\RAG\\venv\\Lib\\site-packages\\tqdm\\auto.py:21: TqdmWarning: IProgress not found. Please update jupyter and ipywidgets. See https://ipywidgets.readthedocs.io/en/stable/user_install.html\n",
      "  from .autonotebook import tqdm as notebook_tqdm\n",
      "Loading checkpoint shards: 100%|██████████| 2/2 [00:05<00:00,  2.50s/it]\n",
      "Device set to use cuda:0\n"
     ]
    }
   ],
   "source": [
    "%run huggingFace.ipynb"
   ]
  },
  {
   "cell_type": "markdown",
   "id": "6b21a6f4",
   "metadata": {},
   "source": [
    "### QuestionAnswer"
   ]
  },
  {
   "cell_type": "code",
   "execution_count": 8,
   "id": "df0d484b",
   "metadata": {},
   "outputs": [
    {
     "name": "stderr",
     "output_type": "stream",
     "text": [
      "Setting `pad_token_id` to `eos_token_id`:128001 for open-end generation.\n"
     ]
    }
   ],
   "source": [
    "question = \"**Disciplina** <Matemática>, sendo o **Conteúdo** <Frações> e o **Objetivo da Aula** é <Utilização para calcular taxa de juros>.\"\n",
    "answer = retriver_chain.invoke({\"input\": question})"
   ]
  },
  {
   "cell_type": "code",
   "execution_count": 9,
   "id": "147c7bb0",
   "metadata": {},
   "outputs": [
    {
     "name": "stdout",
     "output_type": "stream",
     "text": [
      "\n",
      "\n",
      "Identificar oportunidades, Mobilização de recursos e Educação financeira e econômica.\n"
     ]
    }
   ],
   "source": [
    "print(answer[\"answer\"])"
   ]
  },
  {
   "cell_type": "markdown",
   "id": "c538085c",
   "metadata": {},
   "source": [
    "# Chat (OpenAI)"
   ]
  },
  {
   "cell_type": "markdown",
   "id": "f3acdb6d",
   "metadata": {},
   "source": [
    "### LLM"
   ]
  },
  {
   "cell_type": "code",
   "execution_count": 10,
   "id": "7ddd3a95",
   "metadata": {},
   "outputs": [],
   "source": [
    "%run openAI.ipynb"
   ]
  },
  {
   "cell_type": "markdown",
   "id": "2cb52297",
   "metadata": {},
   "source": [
    "### QuestionAnswer"
   ]
  },
  {
   "cell_type": "code",
   "execution_count": 11,
   "id": "6b2ba03e",
   "metadata": {},
   "outputs": [],
   "source": [
    "question = \"**Disciplina** <Matemática>, sendo o **Conteúdo** <Frações> e o **Objetivo da Aula** é <Utilização para calcular taxa de juros>.\"\n",
    "answer = chat_chain.invoke({\"query\": question})"
   ]
  },
  {
   "cell_type": "code",
   "execution_count": 12,
   "id": "be3e69fa",
   "metadata": {},
   "outputs": [
    {
     "name": "stdout",
     "output_type": "stream",
     "text": [
      "Educação financeira e econômica, Mobilização de pessoas e Gestão de finanças.\n"
     ]
    }
   ],
   "source": [
    "print(answer[\"result\"])"
   ]
  }
 ],
 "metadata": {
  "kernelspec": {
   "display_name": "venv (3.12.4)",
   "language": "python",
   "name": "python3"
  },
  "language_info": {
   "codemirror_mode": {
    "name": "ipython",
    "version": 3
   },
   "file_extension": ".py",
   "mimetype": "text/x-python",
   "name": "python",
   "nbconvert_exporter": "python",
   "pygments_lexer": "ipython3",
   "version": "3.12.4"
  }
 },
 "nbformat": 4,
 "nbformat_minor": 5
}
