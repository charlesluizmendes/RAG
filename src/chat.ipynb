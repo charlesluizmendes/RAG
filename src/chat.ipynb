{
 "cells": [
  {
   "cell_type": "markdown",
   "id": "7b2cec41",
   "metadata": {},
   "source": [
    "# LLM"
   ]
  },
  {
   "cell_type": "code",
   "execution_count": 1,
   "id": "0f81dcd7",
   "metadata": {},
   "outputs": [
    {
     "name": "stdout",
     "output_type": "stream",
     "text": [
      "Visão, Valorizar ideias e Consciência de si e autoeficácia.\n"
     ]
    }
   ],
   "source": [
    "%run llm.ipynb"
   ]
  },
  {
   "cell_type": "markdown",
   "id": "c538085c",
   "metadata": {},
   "source": [
    "# Chat"
   ]
  },
  {
   "cell_type": "code",
   "execution_count": 2,
   "id": "6b2ba03e",
   "metadata": {},
   "outputs": [],
   "source": [
    "question = \"Aula de <História>, sendo o conteúdo <Patrimonio> e o objetivo da aula é <Importância dos Museus>.\""
   ]
  },
  {
   "cell_type": "code",
   "execution_count": 3,
   "id": "8541264e",
   "metadata": {},
   "outputs": [],
   "source": [
    "answer = chat_chain.invoke({\"query\": question})"
   ]
  },
  {
   "cell_type": "code",
   "execution_count": 4,
   "id": "6e436471",
   "metadata": {},
   "outputs": [
    {
     "name": "stdout",
     "output_type": "stream",
     "text": [
      "Visão, Valorizar ideias e Aprender com a experiência.\n"
     ]
    }
   ],
   "source": [
    "print(answer[\"result\"])"
   ]
  },
  {
   "cell_type": "markdown",
   "id": "ca5e7796",
   "metadata": {},
   "source": [
    "# Debug"
   ]
  },
  {
   "cell_type": "code",
   "execution_count": 5,
   "id": "bdd9cd19",
   "metadata": {},
   "outputs": [
    {
     "name": "stdout",
     "output_type": "stream",
     "text": [
      "\u001b[32;1m\u001b[1;3m[chain/start]\u001b[0m \u001b[1m[chain:RetrievalQA] Entering Chain run with input:\n",
      "\u001b[0m{\n",
      "  \"query\": \"Aula de <Matemática>, sendo o conteúdo <Frações> e o objetivo da aula é <Utilização em cálculo de juros>.\"\n",
      "}\n",
      "\u001b[32;1m\u001b[1;3m[chain/start]\u001b[0m \u001b[1m[chain:RetrievalQA > chain:StuffDocumentsChain] Entering Chain run with input:\n",
      "\u001b[0m[inputs]\n",
      "\u001b[32;1m\u001b[1;3m[chain/start]\u001b[0m \u001b[1m[chain:RetrievalQA > chain:StuffDocumentsChain > chain:LLMChain] Entering Chain run with input:\n",
      "\u001b[0m{\n",
      "  \"question\": \"Aula de <Matemática>, sendo o conteúdo <Frações> e o objetivo da aula é <Utilização em cálculo de juros>.\",\n",
      "  \"context\": \"Educação financeira e econômica: é desenvolver conhecimentos financeiros \\ne econômicos, saber calcular o custo de transformar uma ideia numa atividade criadora \\nde valor. Planejar, colocar em prática e avaliar decisões financeiras ao longo do tempo. \\nGerir as finanças para assegurar que a atividade de criação de valor possa manter-se a \\nlongo prazo. \\n \\nMobilização de pessoas: é inspirar, entusiasmar e mobilizar parceiros\\n\\nAprender com a experiência: é aprender fazendo. Usar o máximo de iniciativas \\npara a criação de valor como uma oportunidade de aprendizagem. Aprender com os \\noutros, incluindo os pares e os mentores. É refletir e aprender com os sucessos e com \\nos fracassos, tanto os nossos como os dos outros.\\n\\nresponsável e ética. \\n \\nConsciência de si e autoeficácia: acreditar em si mesmo e procurar o \\ndesenvolvimento contínuo, refletir sobre os seus desejos, necessidades e \\naspirações a curto, médio e longo prazo, identificar e avaliar as forças \\ne as fraquezas individuais e coletivas e acreditar na capacidade para \\ninfluenciar o curso dos acontecimentos, apesar da incerteza, das contrariedades e dos \\npossíveis obstáculos. \\n \\nMotivação e perseverança: é manter o foco e não desistir! Ser determinado\\n\\ncompetências necessárias em diferentes etapas, incluindo competências técnicas, \\nlegais, financeiras e digitais.\"\n",
      "}\n",
      "\u001b[32;1m\u001b[1;3m[llm/start]\u001b[0m \u001b[1m[chain:RetrievalQA > chain:StuffDocumentsChain > chain:LLMChain > llm:ChatOpenAI] Entering LLM run with input:\n",
      "\u001b[0m{\n",
      "  \"prompts\": [\n",
      "    \"Human: \\nVocê é um assistente educacional.\\n\\nO usuário fornecerá os dados de uma aula em formato estruturado, incluindo:\\n- A disciplina;\\n- O conteúdo;\\n- O objetivo da aula.\\n\\nCom base no documento ENTRECOMP (que está no contexto abaixo), identifique **três competências empreendedoras** que se relacionam diretamente com essa aula.\\nRetorne apenas os **nomes das competências**, separados por vírgula e a última separada por e.\\nExemplo de formato: Visão, Pensamento ético e sustentável e Valorizar ideias.\\n\\nContexto: Educação financeira e econômica: é desenvolver conhecimentos financeiros \\ne econômicos, saber calcular o custo de transformar uma ideia numa atividade criadora \\nde valor. Planejar, colocar em prática e avaliar decisões financeiras ao longo do tempo. \\nGerir as finanças para assegurar que a atividade de criação de valor possa manter-se a \\nlongo prazo. \\n \\nMobilização de pessoas: é inspirar, entusiasmar e mobilizar parceiros\\n\\nAprender com a experiência: é aprender fazendo. Usar o máximo de iniciativas \\npara a criação de valor como uma oportunidade de aprendizagem. Aprender com os \\noutros, incluindo os pares e os mentores. É refletir e aprender com os sucessos e com \\nos fracassos, tanto os nossos como os dos outros.\\n\\nresponsável e ética. \\n \\nConsciência de si e autoeficácia: acreditar em si mesmo e procurar o \\ndesenvolvimento contínuo, refletir sobre os seus desejos, necessidades e \\naspirações a curto, médio e longo prazo, identificar e avaliar as forças \\ne as fraquezas individuais e coletivas e acreditar na capacidade para \\ninfluenciar o curso dos acontecimentos, apesar da incerteza, das contrariedades e dos \\npossíveis obstáculos. \\n \\nMotivação e perseverança: é manter o foco e não desistir! Ser determinado\\n\\ncompetências necessárias em diferentes etapas, incluindo competências técnicas, \\nlegais, financeiras e digitais.\\n\\nPergunta: Aula de <Matemática>, sendo o conteúdo <Frações> e o objetivo da aula é <Utilização em cálculo de juros>.\\n\\nResposta:\"\n",
      "  ]\n",
      "}\n",
      "\u001b[36;1m\u001b[1;3m[llm/end]\u001b[0m \u001b[1m[chain:RetrievalQA > chain:StuffDocumentsChain > chain:LLMChain > llm:ChatOpenAI] [930ms] Exiting LLM run with output:\n",
      "\u001b[0m{\n",
      "  \"generations\": [\n",
      "    [\n",
      "      {\n",
      "        \"text\": \"Consciência de si e autoeficácia, Aprender com a experiência e Motivação e perseverança.\",\n",
      "        \"generation_info\": {\n",
      "          \"finish_reason\": \"stop\",\n",
      "          \"logprobs\": null\n",
      "        },\n",
      "        \"type\": \"ChatGeneration\",\n",
      "        \"message\": {\n",
      "          \"lc\": 1,\n",
      "          \"type\": \"constructor\",\n",
      "          \"id\": [\n",
      "            \"langchain\",\n",
      "            \"schema\",\n",
      "            \"messages\",\n",
      "            \"AIMessage\"\n",
      "          ],\n",
      "          \"kwargs\": {\n",
      "            \"content\": \"Consciência de si e autoeficácia, Aprender com a experiência e Motivação e perseverança.\",\n",
      "            \"additional_kwargs\": {\n",
      "              \"refusal\": null\n",
      "            },\n",
      "            \"response_metadata\": {\n",
      "              \"token_usage\": {\n",
      "                \"completion_tokens\": 23,\n",
      "                \"prompt_tokens\": 449,\n",
      "                \"total_tokens\": 472,\n",
      "                \"completion_tokens_details\": {\n",
      "                  \"accepted_prediction_tokens\": 0,\n",
      "                  \"audio_tokens\": 0,\n",
      "                  \"reasoning_tokens\": 0,\n",
      "                  \"rejected_prediction_tokens\": 0\n",
      "                },\n",
      "                \"prompt_tokens_details\": {\n",
      "                  \"audio_tokens\": 0,\n",
      "                  \"cached_tokens\": 0\n",
      "                }\n",
      "              },\n",
      "              \"model_name\": \"gpt-4o-mini-2024-07-18\",\n",
      "              \"system_fingerprint\": \"fp_34a54ae93c\",\n",
      "              \"id\": \"chatcmpl-C22NFf6MGMiRSk7VTI2TM6ayqUl5Z\",\n",
      "              \"service_tier\": \"default\",\n",
      "              \"finish_reason\": \"stop\",\n",
      "              \"logprobs\": null\n",
      "            },\n",
      "            \"type\": \"ai\",\n",
      "            \"id\": \"run--744d57c5-501f-432a-8b47-f8dba59815e6-0\",\n",
      "            \"usage_metadata\": {\n",
      "              \"input_tokens\": 449,\n",
      "              \"output_tokens\": 23,\n",
      "              \"total_tokens\": 472,\n",
      "              \"input_token_details\": {\n",
      "                \"audio\": 0,\n",
      "                \"cache_read\": 0\n",
      "              },\n",
      "              \"output_token_details\": {\n",
      "                \"audio\": 0,\n",
      "                \"reasoning\": 0\n",
      "              }\n",
      "            },\n",
      "            \"tool_calls\": [],\n",
      "            \"invalid_tool_calls\": []\n",
      "          }\n",
      "        }\n",
      "      }\n",
      "    ]\n",
      "  ],\n",
      "  \"llm_output\": {\n",
      "    \"token_usage\": {\n",
      "      \"completion_tokens\": 23,\n",
      "      \"prompt_tokens\": 449,\n",
      "      \"total_tokens\": 472,\n",
      "      \"completion_tokens_details\": {\n",
      "        \"accepted_prediction_tokens\": 0,\n",
      "        \"audio_tokens\": 0,\n",
      "        \"reasoning_tokens\": 0,\n",
      "        \"rejected_prediction_tokens\": 0\n",
      "      },\n",
      "      \"prompt_tokens_details\": {\n",
      "        \"audio_tokens\": 0,\n",
      "        \"cached_tokens\": 0\n",
      "      }\n",
      "    },\n",
      "    \"model_name\": \"gpt-4o-mini-2024-07-18\",\n",
      "    \"system_fingerprint\": \"fp_34a54ae93c\",\n",
      "    \"id\": \"chatcmpl-C22NFf6MGMiRSk7VTI2TM6ayqUl5Z\",\n",
      "    \"service_tier\": \"default\"\n",
      "  },\n",
      "  \"run\": null,\n",
      "  \"type\": \"LLMResult\"\n",
      "}\n",
      "\u001b[36;1m\u001b[1;3m[chain/end]\u001b[0m \u001b[1m[chain:RetrievalQA > chain:StuffDocumentsChain > chain:LLMChain] [931ms] Exiting Chain run with output:\n",
      "\u001b[0m{\n",
      "  \"text\": \"Consciência de si e autoeficácia, Aprender com a experiência e Motivação e perseverança.\"\n",
      "}\n",
      "\u001b[36;1m\u001b[1;3m[chain/end]\u001b[0m \u001b[1m[chain:RetrievalQA > chain:StuffDocumentsChain] [932ms] Exiting Chain run with output:\n",
      "\u001b[0m{\n",
      "  \"output_text\": \"Consciência de si e autoeficácia, Aprender com a experiência e Motivação e perseverança.\"\n",
      "}\n",
      "\u001b[36;1m\u001b[1;3m[chain/end]\u001b[0m \u001b[1m[chain:RetrievalQA] [1.44s] Exiting Chain run with output:\n",
      "\u001b[0m[outputs]\n"
     ]
    }
   ],
   "source": [
    "set_debug(True)\n",
    "\n",
    "question = \"Aula de <Matemática>, sendo o conteúdo <Frações> e o objetivo da aula é <Utilização em cálculo de juros>.\"\n",
    "answer = chat_chain.invoke({\"query\": question})\n",
    "answer[\"source_documents\"]\n",
    "\n",
    "set_debug(False)"
   ]
  }
 ],
 "metadata": {
  "kernelspec": {
   "display_name": "venv (3.12.4)",
   "language": "python",
   "name": "python3"
  },
  "language_info": {
   "codemirror_mode": {
    "name": "ipython",
    "version": 3
   },
   "file_extension": ".py",
   "mimetype": "text/x-python",
   "name": "python",
   "nbconvert_exporter": "python",
   "pygments_lexer": "ipython3",
   "version": "3.12.4"
  }
 },
 "nbformat": 4,
 "nbformat_minor": 5
}
