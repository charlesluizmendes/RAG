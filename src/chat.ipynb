{
 "cells": [
  {
   "cell_type": "code",
   "execution_count": 7,
   "id": "ea0752f9",
   "metadata": {},
   "outputs": [
    {
     "name": "stderr",
     "output_type": "stream",
     "text": [
      "USER_AGENT environment variable not set, consider setting it to identify your requests.\n"
     ]
    }
   ],
   "source": [
    "%run llm.ipynb"
   ]
  },
  {
   "cell_type": "code",
   "execution_count": 8,
   "id": "6710535d",
   "metadata": {},
   "outputs": [
    {
     "name": "stdout",
     "output_type": "stream",
     "text": [
      "\n",
      "\n",
      "\u001b[1m> Entering new StuffDocumentsChain chain...\u001b[0m\n",
      "\n",
      "\n",
      "\u001b[1m> Entering new LLMChain chain...\u001b[0m\n",
      "Prompt after formatting:\n",
      "\u001b[32;1m\u001b[1;3mSystem: Use the following pieces of context to answer the user's question.\n",
      "If you don't know the answer, just say that you don't know, don't try to make up an answer.\n",
      "----------------\n",
      "SOLID e DDD no Python. Aplicando SOLID e DDD utilizano Python… | by Hugo Habbema | MediumSitemapOpen in appSign upSign inMedium LogoWriteSign upSign inZoom image will be displayedSOLID e DDD no PythonAplicando SOLID e DDD utilizano Python na PráticaHugo Habbema4 min read·Feb 3, 2024--1ShareIntroduçãoDesenvolver software robusto e eficiente é um desafio constante para os programadores. Duas abordagens essenciais para atingir esse objetivo são os princípios SOLID e a implementação do Domain-Driven Design (DDD). Neste artigo, exploraremos como aplicar esses conceitos na prática utilizando a linguagem de programação Python.SOLID: Os Cinco Princípios da Programação Orientada a Objetos1. Princípio da Responsabilidade Única (SRP)O SRP destaca a importância de uma classe ter uma única razão para mudar. Isso significa que uma classe deve ter apenas uma responsabilidade. Vamos considerar um exemplo prático em Python.class ManipuladorArquivo:    def ler_arquivo(self, caminho):        # lógica para ler arquivo    def salvar_arquivo(self, caminho, dados):        # lógica para salvar dados em um arquivoA classe ManipuladorArquivo possui a responsabilidade única de lidar com operações de leitura e escrita em arquivos.2. Princípio Aberto/Fechado (OCP)O OCP enfatiza que uma classe deve estar aberta para extensão, mas fechada para modificação. Em outras palavras, você pode adicionar novos comportamentos sem alterar o código existente. Vamos ver um exemplo em Python.from abc import ABC, abstractmethodclass Pagamento(ABC):    @abstractmethod    def realizar_pagamento(self, valor):        passclass PagamentoCartao(Pagamento):    def realizar_pagamento(self, valor):        # lógica específica para pagamento com cartãoclass PagamentoBoleto(Pagamento):    def realizar_pagamento(self, valor):        # lógica específica para pagamento com boletoA classe Pagamento é abstrata e pode ser estendida para adicionar novos métodos de pagamento sem modificar o código existente.3. Princípio da Substituição de Liskov (LSP)O LSP afirma que objetos de uma superclasse devem ser substituíveis por objetos de suas subclasses sem afetar a integridade do programa. Vamos ilustrar isso com um exemplo em Python.#superclasseclass Ave:    def voar(self):        passclass Pato(Ave):    def voar(self):        # lógica específica para um pato voarclass Pinguim(Ave):    def voar(self):        raise Exception(\"Pinguins não podem voar\")Aqui, Pato e Pinguim são subclasses de Ave, mas a implementação de voar é específica para cada uma, respeitando o princípio LSP.4. Princípio da Segregação de Interface (ISP)O ISP afirma que uma classe não deve ser forçada a implementar interfaces que não utiliza. Em Python, isso pode ser exemplificado da seguinte forma:from abc import ABC, abstractmethodclass Trabalhador(ABC):    @abstractmethod    def trabalhar(self):        pass    @abstractmethod    def pausar(self):        passclass Operario(Trabalhador):    def trabalhar(self):        # lógica específica para operários trabalharem    def pausar(self):        # lógica específica para pausa de operáriosAqui, a classe Operario implementa apenas os métodos necessários, respeitando o princípio ISP.5. Princípio da Inversão de Dependência (DIP)O DIP destaca que módulos de alto nível não devem depender de módulos de baixo nível, ambos devem depender de abstrações. Vamos ver um exemplo em Python:class LightBulb:    def turn_on(self):        # lógica para ligar a lâmpada    def turn_off(self):        # lógica para desligar a lâmpadaclass Switch:    def __init__(self, device):        self.device = device    def operate(self):        # lógica para operar o dispositivo        self.device.turn_on()A classe Switch depende de uma abstração (device) em vez de uma implementação específica (LightBulb), seguindo o princípio DIP.Resumindo…Zoom image will be displayedDomain-Driven Design (DDD): Uma Visão PráticaO DDD concentra-se em modelar o domínio da aplicação para garantir que o código reflita o mundo real. Abaixo, aplicamos conceitos do DDD em um contexto Python.1. Entidades e Objetos de ValorNo DDD, uma entidade é um objeto identificável por um ID único. Já um objeto de valor é um objeto que pode ser substituído por outro objeto com as mesmas propriedades. Vamos considerar um exemplo de Cliente como uma entidade e Endereco como um objeto de valor.from dataclasses import dataclass@dataclassclass Cliente:    id: int    nome: str    endereco: Endereco@dataclassclass Endereco:    rua: str    cidade: str    estado: str2. Agregados e Raízes de AgregadosAgregados são grupos de entidades e objetos de valor tratados como uma única unidade. Uma raiz de agregado é a entidade principal que atua como ponto de entrada para o restante do agregado. Por exemplo:@dataclassclass PedidoItem:    produto: str    quantidade: int@dataclassclass Pedido:    id: int    itens: List[PedidoItem]    def adicionar_item(self, item: PedidoItem):        # lógica para adicionar item ao pedidoAqui, Pedido é a raiz do agregado e PedidoItem é uma entidade no agregado.3. Serviços de DomínioServiços de domínio encapsulam lógicas que não pertencem naturalmente a uma entidade ou valor. Exemplo:class CalculadoraFrete:    def calcular_frete(self, endereco_origem: Endereco,                                     endereco_destino: Endereco):        # lógica para calcular frete com base nos endereços4. RepositóriosRepositórios fornecem métodos para acessar entidades do domínio. Em Python, isso pode ser implementado assim:from typing import List, Optionalclass ClienteRepositorio:    def obter_por_id(self, cliente_id: int) -> Optional[Cliente]:        # lógica para buscar cliente por ID    def salvar(self, cliente: Cliente):        # lógica para salvar clienteZoom image will be displayedConclusãoA aplicação prática dos princípios SOLID e conceitos do Domain-Driven Design em Python contribui significativamente para o desenvolvimento de software de alta qualidade, promovendo a flexibilidade, manutenibilidade e extensibilidade do código. Ao incorporar esses princípios em seu design, os desenvolvedores podem criar sistemas mais robustos que refletem fielmente o mundo real que estão modelando. Lembre-se, a chave está em compreender quando e como aplicar esses conceitos em diferentes contextos de desenvolvimento.Até a próxima!PythonSolidDomain Driven Design----1Written by Hugo Habbema330 followers·47 followingConsultor Cloud | Linkedin: https://www.linkedin.com/in/hugo-habbema/Responses (1)See all responsesHelpStatusAboutCareersPressBlogPrivacyRulesTermsText to speech\n",
      "\n",
      "\n",
      "\n",
      "\n",
      "\n",
      "\n",
      "\n",
      "\n",
      "\n",
      "\n",
      "\n",
      "\n",
      "\n",
      "\n",
      "\n",
      "\n",
      "\n",
      "\n",
      "\n",
      "\n",
      "\n",
      "\n",
      "\n",
      "\n",
      "\n",
      "\n",
      "\n",
      "\n",
      "\n",
      "\n",
      "\n",
      "\n",
      "\n",
      "\n",
      "\n",
      "\n",
      "\n",
      "\n",
      "Human: \n",
      "Faca um resumo desse documento.\n",
      "\u001b[0m\n",
      "\n",
      "\u001b[1m> Finished chain.\u001b[0m\n",
      "\n",
      "\u001b[1m> Finished chain.\u001b[0m\n"
     ]
    },
    {
     "data": {
      "text/plain": [
       "'O documento discute a aplicação dos princípios SOLID e do Domain-Driven Design (DDD) na programação em Python. Os princípios SOLID incluem: \\n\\n1. Princípio da Responsabilidade Única (SRP) - uma classe deve ter apenas uma responsabilidade.\\n2. Princípio Aberto/Fechado (OCP) - uma classe deve ser aberta para extensão, mas fechada para modificação.\\n3. Princípio da Substituição de Liskov (LSP) - objetos de uma superclasse devem ser substituíveis por objetos de suas subclasses sem afetar a integridade do programa.\\n4. Princípio da Segregação de Interface (ISP) - uma classe não deve ser forçada a implementar interfaces que não utiliza.\\n5. Princípio da Inversão de Dependência (DIP) - módulos de alto nível não devem depender de módulos de baixo nível, ambos devem depender de abstrações.\\n\\nO DDD foca em modelar o domínio da aplicação para que o código reflita o mundo real, utilizando conceitos como entidades, objetos de valor, agregados, raízes de agregados, serviços de domínio e repositórios. O documento fornece exemplos práticos em Python para ilustrar esses conceitos, destacando a importância de aplicar esses princípios para desenvolver software de alta qualidade, flexível e manutenível.'"
      ]
     },
     "execution_count": 8,
     "metadata": {},
     "output_type": "execute_result"
    }
   ],
   "source": [
    "question = \"\"\"\n",
    "Faca um resumo desse documento.\n",
    "\"\"\"\n",
    "chain.run(input_documents=document, question=question)"
   ]
  }
 ],
 "metadata": {
  "kernelspec": {
   "display_name": "venv (3.12.4)",
   "language": "python",
   "name": "python3"
  },
  "language_info": {
   "codemirror_mode": {
    "name": "ipython",
    "version": 3
   },
   "file_extension": ".py",
   "mimetype": "text/x-python",
   "name": "python",
   "nbconvert_exporter": "python",
   "pygments_lexer": "ipython3",
   "version": "3.12.4"
  }
 },
 "nbformat": 4,
 "nbformat_minor": 5
}
