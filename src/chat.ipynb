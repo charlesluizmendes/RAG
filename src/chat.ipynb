{
 "cells": [
  {
   "cell_type": "code",
   "execution_count": 2,
   "id": "0f81dcd7",
   "metadata": {},
   "outputs": [
    {
     "name": "stdout",
     "output_type": "stream",
     "text": [
      "Visão, Valorizar ideias e Criatividade.\n",
      "\u001b[32;1m\u001b[1;3m[chain/start]\u001b[0m \u001b[1m[chain:RetrievalQA] Entering Chain run with input:\n",
      "\u001b[0m{\n",
      "  \"query\": \"Aula de <Matemática>, sendo o conteúdo <Frações> e o objetivo da aula é <Utilização em cálculo de juros>.\"\n",
      "}\n",
      "\u001b[32;1m\u001b[1;3m[chain/start]\u001b[0m \u001b[1m[chain:RetrievalQA > chain:StuffDocumentsChain] Entering Chain run with input:\n",
      "\u001b[0m[inputs]\n",
      "\u001b[32;1m\u001b[1;3m[chain/start]\u001b[0m \u001b[1m[chain:RetrievalQA > chain:StuffDocumentsChain > chain:LLMChain] Entering Chain run with input:\n",
      "\u001b[0m{\n",
      "  \"question\": \"Aula de <Matemática>, sendo o conteúdo <Frações> e o objetivo da aula é <Utilização em cálculo de juros>.\",\n",
      "  \"context\": \"Educação financeira e econômica: é desenvolver conhecimentos financeiros \\ne econômicos, saber calcular o custo de transformar uma ideia numa atividade criadora \\nde valor. Planejar, colocar em prática e avaliar decisões financeiras ao longo do tempo. \\nGerir as finanças para assegurar que a atividade de criação de valor possa manter-se a \\nlongo prazo. \\n \\nMobilização de pessoas: é inspirar, entusiasmar e mobilizar parceiros\\n\\nEducação financeira e econômica: é desenvolver conhecimentos financeiros \\ne econômicos, saber calcular o custo de transformar uma ideia numa atividade criadora \\nde valor. Planejar, colocar em prática e avaliar decisões financeiras ao longo do tempo. \\nGerir as finanças para assegurar que a atividade de criação de valor possa manter-se a \\nlongo prazo. \\n \\nMobilização de pessoas: é inspirar, entusiasmar e mobilizar parceiros\\n\\nEducação financeira e econômica: é desenvolver conhecimentos financeiros \\ne econômicos, saber calcular o custo de transformar uma ideia numa atividade criadora \\nde valor. Planejar, colocar em prática e avaliar decisões financeiras ao longo do tempo. \\nGerir as finanças para assegurar que a atividade de criação de valor possa manter-se a \\nlongo prazo. \\n \\nMobilização de pessoas: é inspirar, entusiasmar e mobilizar parceiros\\n\\nEducação financeira e econômica: é desenvolver conhecimentos financeiros \\ne econômicos, saber calcular o custo de transformar uma ideia numa atividade criadora \\nde valor. Planejar, colocar em prática e avaliar decisões financeiras ao longo do tempo. \\nGerir as finanças para assegurar que a atividade de criação de valor possa manter-se a \\nlongo prazo. \\n \\nMobilização de pessoas: é inspirar, entusiasmar e mobilizar parceiros\"\n",
      "}\n",
      "\u001b[32;1m\u001b[1;3m[llm/start]\u001b[0m \u001b[1m[chain:RetrievalQA > chain:StuffDocumentsChain > chain:LLMChain > llm:ChatOpenAI] Entering LLM run with input:\n",
      "\u001b[0m{\n",
      "  \"prompts\": [\n",
      "    \"Human: \\nVocê é um assistente educacional.\\n\\nO usuário fornecerá os dados de uma aula em formato estruturado, incluindo:\\n- A disciplina;\\n- O conteúdo;\\n- O objetivo da aula.\\n\\nCom base no documento ENTRECOMP (que está no contexto abaixo), identifique **três competências empreendedoras** que se relacionam diretamente com essa aula.\\nRetorne apenas os **nomes das competências**, separados por vírgula e a última separada por e.\\nExemplo de formato: Visão, Pensamento ético e sustentável e Valorizar ideias.\\n\\nContexto: Educação financeira e econômica: é desenvolver conhecimentos financeiros \\ne econômicos, saber calcular o custo de transformar uma ideia numa atividade criadora \\nde valor. Planejar, colocar em prática e avaliar decisões financeiras ao longo do tempo. \\nGerir as finanças para assegurar que a atividade de criação de valor possa manter-se a \\nlongo prazo. \\n \\nMobilização de pessoas: é inspirar, entusiasmar e mobilizar parceiros\\n\\nEducação financeira e econômica: é desenvolver conhecimentos financeiros \\ne econômicos, saber calcular o custo de transformar uma ideia numa atividade criadora \\nde valor. Planejar, colocar em prática e avaliar decisões financeiras ao longo do tempo. \\nGerir as finanças para assegurar que a atividade de criação de valor possa manter-se a \\nlongo prazo. \\n \\nMobilização de pessoas: é inspirar, entusiasmar e mobilizar parceiros\\n\\nEducação financeira e econômica: é desenvolver conhecimentos financeiros \\ne econômicos, saber calcular o custo de transformar uma ideia numa atividade criadora \\nde valor. Planejar, colocar em prática e avaliar decisões financeiras ao longo do tempo. \\nGerir as finanças para assegurar que a atividade de criação de valor possa manter-se a \\nlongo prazo. \\n \\nMobilização de pessoas: é inspirar, entusiasmar e mobilizar parceiros\\n\\nEducação financeira e econômica: é desenvolver conhecimentos financeiros \\ne econômicos, saber calcular o custo de transformar uma ideia numa atividade criadora \\nde valor. Planejar, colocar em prática e avaliar decisões financeiras ao longo do tempo. \\nGerir as finanças para assegurar que a atividade de criação de valor possa manter-se a \\nlongo prazo. \\n \\nMobilização de pessoas: é inspirar, entusiasmar e mobilizar parceiros\\n\\nPergunta: Aula de <Matemática>, sendo o conteúdo <Frações> e o objetivo da aula é <Utilização em cálculo de juros>.\\n\\nResposta:\"\n",
      "  ]\n",
      "}\n",
      "\u001b[36;1m\u001b[1;3m[llm/end]\u001b[0m \u001b[1m[chain:RetrievalQA > chain:StuffDocumentsChain > chain:LLMChain > llm:ChatOpenAI] [725ms] Exiting LLM run with output:\n",
      "\u001b[0m{\n",
      "  \"generations\": [\n",
      "    [\n",
      "      {\n",
      "        \"text\": \"Planejamento, Tomada de decisão e Gestão financeira.\",\n",
      "        \"generation_info\": {\n",
      "          \"finish_reason\": \"stop\",\n",
      "          \"logprobs\": null\n",
      "        },\n",
      "        \"type\": \"ChatGeneration\",\n",
      "        \"message\": {\n",
      "          \"lc\": 1,\n",
      "          \"type\": \"constructor\",\n",
      "          \"id\": [\n",
      "            \"langchain\",\n",
      "            \"schema\",\n",
      "            \"messages\",\n",
      "            \"AIMessage\"\n",
      "          ],\n",
      "          \"kwargs\": {\n",
      "            \"content\": \"Planejamento, Tomada de decisão e Gestão financeira.\",\n",
      "            \"additional_kwargs\": {\n",
      "              \"refusal\": null\n",
      "            },\n",
      "            \"response_metadata\": {\n",
      "              \"token_usage\": {\n",
      "                \"completion_tokens\": 11,\n",
      "                \"prompt_tokens\": 504,\n",
      "                \"total_tokens\": 515,\n",
      "                \"completion_tokens_details\": {\n",
      "                  \"accepted_prediction_tokens\": 0,\n",
      "                  \"audio_tokens\": 0,\n",
      "                  \"reasoning_tokens\": 0,\n",
      "                  \"rejected_prediction_tokens\": 0\n",
      "                },\n",
      "                \"prompt_tokens_details\": {\n",
      "                  \"audio_tokens\": 0,\n",
      "                  \"cached_tokens\": 0\n",
      "                }\n",
      "              },\n",
      "              \"model_name\": \"gpt-4o-mini-2024-07-18\",\n",
      "              \"system_fingerprint\": \"fp_34a54ae93c\",\n",
      "              \"id\": \"chatcmpl-C21tMh6U1LCf3oIDEhjD8WjZtveO0\",\n",
      "              \"service_tier\": \"default\",\n",
      "              \"finish_reason\": \"stop\",\n",
      "              \"logprobs\": null\n",
      "            },\n",
      "            \"type\": \"ai\",\n",
      "            \"id\": \"run--ebdf40a4-d1f8-4131-a971-862bf3db8321-0\",\n",
      "            \"usage_metadata\": {\n",
      "              \"input_tokens\": 504,\n",
      "              \"output_tokens\": 11,\n",
      "              \"total_tokens\": 515,\n",
      "              \"input_token_details\": {\n",
      "                \"audio\": 0,\n",
      "                \"cache_read\": 0\n",
      "              },\n",
      "              \"output_token_details\": {\n",
      "                \"audio\": 0,\n",
      "                \"reasoning\": 0\n",
      "              }\n",
      "            },\n",
      "            \"tool_calls\": [],\n",
      "            \"invalid_tool_calls\": []\n",
      "          }\n",
      "        }\n",
      "      }\n",
      "    ]\n",
      "  ],\n",
      "  \"llm_output\": {\n",
      "    \"token_usage\": {\n",
      "      \"completion_tokens\": 11,\n",
      "      \"prompt_tokens\": 504,\n",
      "      \"total_tokens\": 515,\n",
      "      \"completion_tokens_details\": {\n",
      "        \"accepted_prediction_tokens\": 0,\n",
      "        \"audio_tokens\": 0,\n",
      "        \"reasoning_tokens\": 0,\n",
      "        \"rejected_prediction_tokens\": 0\n",
      "      },\n",
      "      \"prompt_tokens_details\": {\n",
      "        \"audio_tokens\": 0,\n",
      "        \"cached_tokens\": 0\n",
      "      }\n",
      "    },\n",
      "    \"model_name\": \"gpt-4o-mini-2024-07-18\",\n",
      "    \"system_fingerprint\": \"fp_34a54ae93c\",\n",
      "    \"id\": \"chatcmpl-C21tMh6U1LCf3oIDEhjD8WjZtveO0\",\n",
      "    \"service_tier\": \"default\"\n",
      "  },\n",
      "  \"run\": null,\n",
      "  \"type\": \"LLMResult\"\n",
      "}\n",
      "\u001b[36;1m\u001b[1;3m[chain/end]\u001b[0m \u001b[1m[chain:RetrievalQA > chain:StuffDocumentsChain > chain:LLMChain] [726ms] Exiting Chain run with output:\n",
      "\u001b[0m{\n",
      "  \"text\": \"Planejamento, Tomada de decisão e Gestão financeira.\"\n",
      "}\n",
      "\u001b[36;1m\u001b[1;3m[chain/end]\u001b[0m \u001b[1m[chain:RetrievalQA > chain:StuffDocumentsChain] [727ms] Exiting Chain run with output:\n",
      "\u001b[0m{\n",
      "  \"output_text\": \"Planejamento, Tomada de decisão e Gestão financeira.\"\n",
      "}\n",
      "\u001b[36;1m\u001b[1;3m[chain/end]\u001b[0m \u001b[1m[chain:RetrievalQA] [1.18s] Exiting Chain run with output:\n",
      "\u001b[0m[outputs]\n"
     ]
    }
   ],
   "source": [
    "%run llm.ipynb"
   ]
  },
  {
   "cell_type": "code",
   "execution_count": 6,
   "id": "6b2ba03e",
   "metadata": {},
   "outputs": [],
   "source": [
    "question = \"Aula de <História>, sendo o conteúdo <Patrimonio> e o objetivo da aula é <Importância dos Museus>.\""
   ]
  },
  {
   "cell_type": "code",
   "execution_count": 7,
   "id": "8541264e",
   "metadata": {},
   "outputs": [],
   "source": [
    "answer = chat_chain.invoke({\"query\": question})"
   ]
  },
  {
   "cell_type": "code",
   "execution_count": 8,
   "id": "6e436471",
   "metadata": {},
   "outputs": [
    {
     "name": "stdout",
     "output_type": "stream",
     "text": [
      "Visão, Valorizar ideias e Pensamento crítico.\n"
     ]
    }
   ],
   "source": [
    "print(answer[\"result\"])"
   ]
  }
 ],
 "metadata": {
  "kernelspec": {
   "display_name": "venv (3.12.4)",
   "language": "python",
   "name": "python3"
  },
  "language_info": {
   "codemirror_mode": {
    "name": "ipython",
    "version": 3
   },
   "file_extension": ".py",
   "mimetype": "text/x-python",
   "name": "python",
   "nbconvert_exporter": "python",
   "pygments_lexer": "ipython3",
   "version": "3.12.4"
  }
 },
 "nbformat": 4,
 "nbformat_minor": 5
}
