{
 "cells": [
  {
   "cell_type": "code",
   "execution_count": 1,
   "id": "ea0752f9",
   "metadata": {},
   "outputs": [
    {
     "name": "stderr",
     "output_type": "stream",
     "text": [
      "<>:1: SyntaxWarning: invalid escape sequence '\\V'\n",
      "C:\\Users\\charl\\AppData\\Local\\Temp\\ipykernel_24444\\2392482093.py:1: SyntaxWarning: invalid escape sequence '\\V'\n",
      "  file = \"D:\\Visual Code\\RAG\\pdf\\entrecomp.pdf\"\n",
      "C:\\Users\\charl\\AppData\\Local\\Temp\\ipykernel_24444\\2996739670.py:1: LangChainDeprecationWarning: This class is deprecated. See the following migration guides for replacements based on `chain_type`:\n",
      "stuff: https://python.langchain.com/docs/versions/migrating_chains/stuff_docs_chain\n",
      "map_reduce: https://python.langchain.com/docs/versions/migrating_chains/map_reduce_chain\n",
      "refine: https://python.langchain.com/docs/versions/migrating_chains/refine_chain\n",
      "map_rerank: https://python.langchain.com/docs/versions/migrating_chains/map_rerank_docs_chain\n",
      "\n",
      "See also guides on retrieval and question-answering here: https://python.langchain.com/docs/how_to/#qa-with-rag\n",
      "  chain = load_qa_chain(llm=llm, chain_type=\"stuff\", verbose=True)\n"
     ]
    }
   ],
   "source": [
    "%run llm.ipynb"
   ]
  },
  {
   "cell_type": "code",
   "execution_count": 2,
   "id": "6710535d",
   "metadata": {},
   "outputs": [
    {
     "name": "stderr",
     "output_type": "stream",
     "text": [
      "C:\\Users\\charl\\AppData\\Local\\Temp\\ipykernel_24444\\2855169586.py:5: LangChainDeprecationWarning: The method `Chain.run` was deprecated in langchain 0.1.0 and will be removed in 1.0. Use :meth:`~invoke` instead.\n",
      "  chain.run(input_documents=document[:2], question=question)\n"
     ]
    },
    {
     "name": "stdout",
     "output_type": "stream",
     "text": [
      "\n",
      "\n",
      "\u001b[1m> Entering new StuffDocumentsChain chain...\u001b[0m\n",
      "\n",
      "\n",
      "\u001b[1m> Entering new LLMChain chain...\u001b[0m\n",
      "Prompt after formatting:\n",
      "\u001b[32;1m\u001b[1;3mSystem: Use the following pieces of context to answer the user's question.\n",
      "If you don't know the answer, just say that you don't know, don't try to make up an answer.\n",
      "----------------\n",
      "Identificar oportunidades: é usar a sua imaginação e as suas habilidades para \n",
      "visualizar oportunidades de criação de valor, como a identificação de necessidades e \n",
      "desafios que precisam de ser atendidos. \n",
      " \n",
      "Criatividade: é desenvolver ideias criativas e de valor, incluindo melhores soluções \n",
      "para desafios atuais e futuros. É explorar e experimentar através de abordagens \n",
      "inovadoras, combinando conhecimento e recursos para alcançar resultados \n",
      "significativos. \n",
      " \n",
      "Visão: é trabalhar para uma visão de futuro, imaginar o futuro, desenvolver um olhar \n",
      "para transformar ideias em ações e visualizar cenários futuros para ajudar a orientar \n",
      "esforços e iniciativas. \n",
      " \n",
      "Valorizar ideias: é fazer o máximo com as ideias e as oportunidades, avaliar que \n",
      "valor existe em termos sociais, culturais e econômicos, reconhecer o potencial de \n",
      "criação de valor de uma ideia e identificar formas adequadas de tirar o máximo dela. \n",
      " \n",
      "Pensamento ético e sustentável: é pensar nos resultados e no impacto das \n",
      "ideias, oportunidades e ações. Avaliar os resultados de ideias que trazem valor e o \n",
      "efeito de ações empreendedoras na comunidade, no mercado, na sociedade e em \n",
      "contextos específicos. Refletir sobre quais são os objetivos sustentáveis de longo prazo \n",
      "a nível social, cultural e econômico, e sobre o caminho a ser seguido, agindo de forma \n",
      "responsável e ética. \n",
      " \n",
      "Consciência de si e autoeficácia: acreditar em si mesmo e procurar o \n",
      "desenvolvimento contínuo, refletir sobre os seus desejos, necessidades e \n",
      "aspirações a curto, médio e longo prazo, identificar e avaliar as forças \n",
      "e as fraquezas individuais e coletivas e acreditar na capacidade para \n",
      "influenciar o curso dos acontecimentos, apesar da incerteza, das contrariedades e dos \n",
      "possíveis obstáculos. \n",
      " \n",
      "Motivação e perseverança: é manter o foco e não desistir! Ser determinado \n",
      "para transformar ideias em ações e satisfazer a necessidade de chegar mais longe, estar \n",
      "preparado para ser paciente e continuar a tentar alcançar os objetivos de longo prazo, \n",
      "quer sejam individuais quer de grupo. É ser resiliente sob pressão e perante \n",
      "adversidades e problemas. \n",
      " \n",
      "Mobilização de recursos: é reunir e gerir os recursos necessários para \n",
      "transformar \n",
      "ideias em ações, fazendo o máximo com recursos mínimos. É obter e gerir as \n",
      "competências necessárias em diferentes etapas, incluindo competências técnicas, \n",
      "legais, financeiras e digitais.\n",
      "\n",
      "Educação financeira e econômica: é desenvolver conhecimentos financeiros \n",
      "e econômicos, saber calcular o custo de transformar uma ideia numa atividade criadora \n",
      "de valor. Planejar, colocar em prática e avaliar decisões financeiras ao longo do tempo. \n",
      "Gerir as finanças para assegurar que a atividade de criação de valor possa manter-se a \n",
      "longo prazo. \n",
      " \n",
      "Mobilização de pessoas: é inspirar, entusiasmar e mobilizar parceiros \n",
      "relevantes, obtendo o apoio necessário para atingir resultados positivos. Demonstrar \n",
      "capacidade de comunicação, persuasão, negociação e liderança. \n",
      " \n",
      "Tomar iniciativa: é avançar, iniciar projetos que criem valor, é aceitar desafios, agir \n",
      "e trabalhar de forma independente para atingir os objetivos. Seguir a linha definida e \n",
      "executar as tarefas planejadas. \n",
      " \n",
      "Planejamento e administração: é fazer gestão. Planejar, gerir, priorizar, \n",
      "organizar e acompanhar. Definir objetivos de longo, médio e curto prazo, definindo \n",
      "prioridades e planos de ação, adaptando-se quando necessário à mudanças imprevistas. \n",
      " \n",
      "Lidar com a incerteza: a ambiguidade e o risco é tomar decisões mesmo quando \n",
      "os seus resultados são incertos, quando a informação disponível é parcial ou ambígua, \n",
      "ou quando existe um risco de resultados indesejados. No processo de criação de valor, \n",
      "incluir formas estruturadas de testar ideias e protótipos desde as etapas iniciais, \n",
      "para reduzir os riscos de falhar. É saber lidar com situações imprevisíveis de forma \n",
      "rápida e flexível. \n",
      " \n",
      "Trabalhar em equipe: é colaborar e criar redes, trabalhar em conjunto e \n",
      "cooperar com outros para desenvolver ideias e colocá-las em prática. É saber resolver \n",
      "conflitos e enfrentar a concorrência de forma positiva sempre que necessário. \n",
      " \n",
      "Aprender com a experiência: é aprender fazendo. Usar o máximo de iniciativas \n",
      "para a criação de valor como uma oportunidade de aprendizagem. Aprender com os \n",
      "outros, incluindo os pares e os mentores. É refletir e aprender com os sucessos e com \n",
      "os fracassos, tanto os nossos como os dos outros.\n",
      "Human: Voce e um especialista que retorna uma lista com 3 competencias empreendedoras baseado na disciplina, conteudo e objetivo da aula.\n",
      "Retorne somente a lista com o titulo das 3 competencias separadas por virgula, sendo a ultima separada por um e.\n",
      "Aula de <Matemática>, sendo o conteúdo <Frações> e o objetivo da aula é <Utilização de taxa de juros>.\n",
      "\u001b[0m\n",
      "\n",
      "\u001b[1m> Finished chain.\u001b[0m\n",
      "\n",
      "\u001b[1m> Finished chain.\u001b[0m\n"
     ]
    },
    {
     "data": {
      "text/plain": [
       "'Educação financeira e econômica, Mobilização de recursos e Planejamento e administração'"
      ]
     },
     "execution_count": 2,
     "metadata": {},
     "output_type": "execute_result"
    }
   ],
   "source": [
    "question = \"\"\"Voce e um especialista que retorna uma lista com 3 competencias empreendedoras baseado na disciplina, conteudo e objetivo da aula.\n",
    "Retorne somente a lista com o titulo das 3 competencias separadas por virgula, sendo a ultima separada por um e.\n",
    "Aula de <Matemática>, sendo o conteúdo <Frações> e o objetivo da aula é <Utilização de taxa de juros>.\n",
    "\"\"\"\n",
    "chain.run(input_documents=document[:2], question=question)"
   ]
  }
 ],
 "metadata": {
  "kernelspec": {
   "display_name": "venv (3.12.4)",
   "language": "python",
   "name": "python3"
  },
  "language_info": {
   "codemirror_mode": {
    "name": "ipython",
    "version": 3
   },
   "file_extension": ".py",
   "mimetype": "text/x-python",
   "name": "python",
   "nbconvert_exporter": "python",
   "pygments_lexer": "ipython3",
   "version": "3.12.4"
  }
 },
 "nbformat": 4,
 "nbformat_minor": 5
}
