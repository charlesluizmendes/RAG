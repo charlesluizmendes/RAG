{
 "cells": [
  {
   "cell_type": "code",
   "execution_count": null,
   "id": "d6117a44",
   "metadata": {},
   "outputs": [],
   "source": [
    "!pip install langchain\n",
    "!pip install langchain-community\n",
    "!pip install langchain-core\n",
    "!pip install langchain-openai\n",
    "!pip install faiss-cpu\n",
    "!pip install pypdf\n",
    "!pip install nbimporter\n",
    "!pip install yt_dlp\n",
    "!pip install pydub\n",
    "!pip install langchain-chroma\n",
    "!pip install lark"
   ]
  }
 ],
 "metadata": {
  "kernelspec": {
   "display_name": "venv (3.12.4)",
   "language": "python",
   "name": "python3"
  },
  "language_info": {
   "name": "python",
   "version": "3.12.4"
  }
 },
 "nbformat": 4,
 "nbformat_minor": 5
}
