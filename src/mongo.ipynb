{
 "cells": [
  {
   "cell_type": "code",
   "execution_count": 1,
   "id": "62e7f67b",
   "metadata": {},
   "outputs": [],
   "source": [
    "import os\n",
    "\n",
    "from pymongo import MongoClient\n",
    "from langchain_mongodb import MongoDBAtlasVectorSearch\n",
    "from dotenv import load_dotenv"
   ]
  },
  {
   "cell_type": "code",
   "execution_count": 2,
   "id": "e37898fb",
   "metadata": {},
   "outputs": [
    {
     "data": {
      "text/plain": [
       "True"
      ]
     },
     "execution_count": 2,
     "metadata": {},
     "output_type": "execute_result"
    }
   ],
   "source": [
    "load_dotenv(override=True)"
   ]
  },
  {
   "cell_type": "code",
   "execution_count": null,
   "id": "032bc337",
   "metadata": {},
   "outputs": [],
   "source": [
    "mongo_url = os.getenv(\"MONGO_URL\")\n",
    "mongo_db = os.getenv(\"MONGO_DB\")\n",
    "mongo_collection = os.getenv(\"MONGO_COLLECTION\")"
   ]
  },
  {
   "cell_type": "code",
   "execution_count": null,
   "id": "4c07a09a",
   "metadata": {},
   "outputs": [],
   "source": [
    "class MongoDBConnectionManager:\n",
    "    def __init__(self):\n",
    "        self.mongo_url = mongo_url\n",
    "        self.client = None\n",
    "\n",
    "    def connect(self):\n",
    "        if not self.client:\n",
    "            self.client = MongoClient(self.mongo_url)\n",
    "        return self.client\n",
    "\n",
    "    def close(self):\n",
    "        if self.client:\n",
    "            self.client.close()\n",
    "            self.client = None"
   ]
  },
  {
   "cell_type": "code",
   "execution_count": 5,
   "id": "dbf95504",
   "metadata": {},
   "outputs": [],
   "source": [
    "class MongoDBDocumentHandler:\n",
    "    def __init__(self, embeddings, connection_manager: MongoDBConnectionManager):\n",
    "        self.mongo_db = mongo_db\n",
    "        self.mongo_collection = mongo_collection\n",
    "        self.embeddings = embeddings\n",
    "        self.connection_manager = connection_manager\n",
    "\n",
    "    def similarity_search(self, query=\"\", k=10, pre_filter=None):\n",
    "        client = self.connection_manager.connect()\n",
    "        collection = client[self.mongo_db][self.mongo_collection]\n",
    "\n",
    "        vector_store = MongoDBAtlasVectorSearch(\n",
    "            collection=collection,\n",
    "            embedding=self.embeddings,\n",
    "            index_name=\"vector_index\",\n",
    "            relevance_score_fn=\"cosine\"\n",
    "        )\n",
    "\n",
    "        results = vector_store.similarity_search(\n",
    "            query=query, \n",
    "            k=k, \n",
    "            pre_filter=pre_filter\n",
    "        )\n",
    "\n",
    "        return results\n",
    "\n",
    "    def get_retriever(self, search_type=\"mmr\", search_kwargs=None):\n",
    "        if search_kwargs is None:\n",
    "            search_kwargs = {}\n",
    "\n",
    "        client = self.connection_manager.connect()\n",
    "        collection = client[self.mongo_db][self.mongo_collection]\n",
    "\n",
    "        vector_store = MongoDBAtlasVectorSearch(\n",
    "            collection=collection,\n",
    "            embedding=self.embeddings,\n",
    "            index_name=\"vector_index\",\n",
    "            relevance_score_fn=\"cosine\"\n",
    "        )\n",
    "\n",
    "        retriever = vector_store.as_retriever(\n",
    "            search_type=search_type,\n",
    "            search_kwargs=search_kwargs\n",
    "        )\n",
    "\n",
    "        return retriever\n",
    "\n",
    "    def add_documents(self, docs):\n",
    "        client = self.connection_manager.connect()\n",
    "        collection = client[self.mongo_db][self.mongo_collection]\n",
    "\n",
    "        vector_store = MongoDBAtlasVectorSearch(\n",
    "            collection=collection,\n",
    "            embedding=self.embeddings,\n",
    "            index_name=\"vector_index\",\n",
    "            relevance_score_fn=\"cosine\"\n",
    "        )\n",
    "        \n",
    "        vector_store.add_documents(docs)\n",
    "\n",
    "    def delete_documents(self, ids=[]):\n",
    "        client = self.connection_manager.connect()\n",
    "        collection = client[self.mongo_db][self.mongo_collection]\n",
    "\n",
    "        vector_store = MongoDBAtlasVectorSearch(\n",
    "            collection=collection,\n",
    "            embedding=self.embeddings,\n",
    "            index_name=\"vector_index\",\n",
    "            relevance_score_fn=\"cosine\"\n",
    "        )\n",
    "\n",
    "        result = vector_store.delete(\n",
    "            ids=ids\n",
    "        )\n",
    "        \n",
    "        return result"
   ]
  }
 ],
 "metadata": {
  "kernelspec": {
   "display_name": "venv (3.12.4)",
   "language": "python",
   "name": "python3"
  },
  "language_info": {
   "codemirror_mode": {
    "name": "ipython",
    "version": 3
   },
   "file_extension": ".py",
   "mimetype": "text/x-python",
   "name": "python",
   "nbconvert_exporter": "python",
   "pygments_lexer": "ipython3",
   "version": "3.12.4"
  }
 },
 "nbformat": 4,
 "nbformat_minor": 5
}
