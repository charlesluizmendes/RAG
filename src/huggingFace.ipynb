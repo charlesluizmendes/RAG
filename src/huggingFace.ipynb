{
 "cells": [
  {
   "cell_type": "code",
   "execution_count": 20,
   "id": "5772e781",
   "metadata": {},
   "outputs": [],
   "source": [
    "import os\n",
    "import torch\n",
    "\n",
    "from dotenv import load_dotenv\n",
    "\n",
    "from pymongo import MongoClient\n",
    "from langchain_mongodb import MongoDBAtlasVectorSearch\n",
    "\n",
    "from langchain_community.document_loaders.pdf import PyPDFLoader\n",
    "from langchain_text_splitters import RecursiveCharacterTextSplitter\n",
    "from langchain_huggingface import HuggingFaceEmbeddings\n",
    "\n",
    "from transformers import BitsAndBytesConfig, AutoModelForCausalLM, AutoTokenizer, pipeline\n",
    "from langchain_huggingface import HuggingFacePipeline\n",
    "\n",
    "from langchain_core.prompts import ChatPromptTemplate\n",
    "from langchain.chains import create_retrieval_chain\n",
    "from langchain.chains.combine_documents import create_stuff_documents_chain"
   ]
  },
  {
   "cell_type": "markdown",
   "id": "349b735a",
   "metadata": {},
   "source": [
    "# Variables"
   ]
  },
  {
   "cell_type": "code",
   "execution_count": 21,
   "id": "fde555b1",
   "metadata": {},
   "outputs": [
    {
     "data": {
      "text/plain": [
       "True"
      ]
     },
     "execution_count": 21,
     "metadata": {},
     "output_type": "execute_result"
    }
   ],
   "source": [
    "load_dotenv()"
   ]
  },
  {
   "cell_type": "code",
   "execution_count": 22,
   "id": "58a9e753",
   "metadata": {},
   "outputs": [],
   "source": [
    "file = os.getenv(\"FILE\")\n",
    "token = os.getenv(\"TOKEN\")\n",
    "model_id = os.getenv(\"MODEL_ID\")\n",
    "model_name = os.getenv(\"MODEL_NAME\")\n",
    "mongo_url = os.getenv(\"MONGO_URL\")\n",
    "mongo_db = os.getenv(\"MONGO_DB\")\n",
    "mongo_collection = os.getenv(\"MONGO_COLLECTION\")"
   ]
  },
  {
   "cell_type": "markdown",
   "id": "affefad4",
   "metadata": {},
   "source": [
    "# PDFLoader"
   ]
  },
  {
   "cell_type": "code",
   "execution_count": 23,
   "id": "f02ce152",
   "metadata": {},
   "outputs": [],
   "source": [
    "loader = PyPDFLoader(file)\n",
    "files = loader.load()"
   ]
  },
  {
   "cell_type": "code",
   "execution_count": 24,
   "id": "888d9557",
   "metadata": {},
   "outputs": [],
   "source": [
    "id = \"45657525-1a48-4c82-88aa-a9f9037b2d4b\""
   ]
  },
  {
   "cell_type": "code",
   "execution_count": 25,
   "id": "98190fb9",
   "metadata": {},
   "outputs": [],
   "source": [
    "for file in files:\n",
    "    file.metadata['id'] = str(id)"
   ]
  },
  {
   "cell_type": "markdown",
   "id": "38c7a2e0",
   "metadata": {},
   "source": [
    "# Recursive TextSplit"
   ]
  },
  {
   "cell_type": "code",
   "execution_count": 26,
   "id": "50f3f0ff",
   "metadata": {},
   "outputs": [],
   "source": [
    "recur_split = RecursiveCharacterTextSplitter(\n",
    "    chunk_size=1000,\n",
    "    chunk_overlap=150\n",
    ")"
   ]
  },
  {
   "cell_type": "code",
   "execution_count": 27,
   "id": "414d4c9b",
   "metadata": {},
   "outputs": [],
   "source": [
    "documents = recur_split.split_documents(files)"
   ]
  },
  {
   "cell_type": "markdown",
   "id": "2dee313a",
   "metadata": {},
   "source": [
    "# Embeddings (HuggingFace)"
   ]
  },
  {
   "cell_type": "code",
   "execution_count": 28,
   "id": "c34e8483",
   "metadata": {},
   "outputs": [],
   "source": [
    "embeddings = HuggingFaceEmbeddings(\n",
    "    model_name=model_name, \n",
    "    model_kwargs={'device': 'cuda:0'}\n",
    ")"
   ]
  },
  {
   "cell_type": "markdown",
   "id": "eaae481d",
   "metadata": {},
   "source": [
    "# Vector Store"
   ]
  },
  {
   "cell_type": "code",
   "execution_count": 29,
   "id": "249c3cc3",
   "metadata": {},
   "outputs": [],
   "source": [
    "client = MongoClient(mongo_url)\n",
    "db = client[mongo_db]\n",
    "collection = db[mongo_collection]"
   ]
  },
  {
   "cell_type": "code",
   "execution_count": 30,
   "id": "9f094618",
   "metadata": {},
   "outputs": [
    {
     "name": "stderr",
     "output_type": "stream",
     "text": [
      "_id or id key found in metadata. Please pop from each dict and input as separate list.Retrieving methods will include the same id as '_id' in metadata.\n"
     ]
    }
   ],
   "source": [
    "vectordb = MongoDBAtlasVectorSearch.from_documents( \n",
    "    documents=documents, \n",
    "    embedding=embeddings, \n",
    "    collection=collection,\n",
    "    index_name=\"vector_index\"\n",
    ")"
   ]
  },
  {
   "cell_type": "markdown",
   "id": "934b6e85",
   "metadata": {},
   "source": [
    "# Retriever"
   ]
  },
  {
   "cell_type": "code",
   "execution_count": 31,
   "id": "1c9eab2d",
   "metadata": {},
   "outputs": [],
   "source": [
    "retriever = vectordb.as_retriever(\n",
    "    search_type='similarity', \n",
    "    search_kwargs = {\n",
    "        \"k\": 5,\n",
    "        'fetch_k': 30,\n",
    "        'pre_filter': {'id': str(id)}\n",
    "    }\n",
    ")"
   ]
  },
  {
   "cell_type": "markdown",
   "id": "aca9c5b3",
   "metadata": {},
   "source": [
    "# LLM (HuggingFace)"
   ]
  },
  {
   "cell_type": "code",
   "execution_count": 32,
   "id": "cadf0183",
   "metadata": {},
   "outputs": [
    {
     "name": "stderr",
     "output_type": "stream",
     "text": [
      "Loading checkpoint shards: 100%|██████████| 2/2 [00:04<00:00,  2.28s/it]\n",
      "Device set to use cuda:0\n"
     ]
    }
   ],
   "source": [
    "quantization_config = BitsAndBytesConfig(\n",
    "    load_in_4bit=True, \n",
    "    bnb_4bit_use_double_quant=True, \n",
    "    bnb_4bit_quant_type=\"nf4\", \n",
    "    bnb_4bit_compute_dtype=torch.bfloat16\n",
    ")\n",
    "\n",
    "model = AutoModelForCausalLM.from_pretrained(\n",
    "    model_id,\n",
    "    token=token,\n",
    "    quantization_config=quantization_config    \n",
    ")\n",
    "\n",
    "tokenizer = AutoTokenizer.from_pretrained(\n",
    "    model_id,\n",
    "    token=token    \n",
    ")\n",
    "\n",
    "pipe = pipeline(\n",
    "    model=model, \n",
    "    tokenizer=tokenizer, \n",
    "    task=\"text-generation\",\n",
    "    return_full_text=False\n",
    ")\n",
    "\n",
    "llm = HuggingFacePipeline(\n",
    "    pipeline=pipe,\n",
    "    model_kwargs={\n",
    "        \"temperature\": 0.0,        \n",
    "        \"do_sample\": False        \n",
    "    }\n",
    ")"
   ]
  },
  {
   "cell_type": "markdown",
   "id": "d8a97306",
   "metadata": {},
   "source": [
    "# Prompt"
   ]
  },
  {
   "cell_type": "code",
   "execution_count": 33,
   "id": "125427e8",
   "metadata": {},
   "outputs": [],
   "source": [
    "token_start, token_end = \"<|begin_of_text|><|start_header_id|>system<|end_header_id|>\", \"<|eot_id|><|start_header_id|>assistant<|end_header_id|>\"\n",
    "\n",
    "template = \"\"\"\n",
    "Você é um assistente de extração de dados educacionais.  \n",
    "Sua tarefa é localizar **exatamente** os Códigos e Descrições **que já estão presentes no contexto abaixo** de acordo com os dados fornecidos.  \n",
    "\n",
    "{context}\n",
    "\n",
    "REGRAS IMPORTANTES:\n",
    "- Você **NÃO** pode inventar nenhum conteúdo que não esteja literalmente no contexto acima.\n",
    "- Você deve retornar **apenas os códigos e descrições exatos e completos** que aparecem no contexto.\n",
    "- Você pode retornar um ou mais códigos e descrições, desde que esteja de acordo com os dados fornecidos.\n",
    "- **Não corte partes das descrições.**\n",
    "- **Não relacione o conteúdo com códigos errados.**\n",
    "\n",
    "FORMATO OBRIGATÓRIO DE SAÍDA (copiar literalmente do contexto):\n",
    "Código: <código exato>  \n",
    "Descrição: <descrição completa>\n",
    "\n",
    "---\n",
    "\n",
    "Pergunta do usuário:  \n",
    "{input}\n",
    "\"\"\"\n",
    "\n",
    "prompt = ChatPromptTemplate.from_template(token_start + template + token_end)"
   ]
  },
  {
   "cell_type": "markdown",
   "id": "b200f1f7",
   "metadata": {},
   "source": [
    "# Chain"
   ]
  },
  {
   "cell_type": "code",
   "execution_count": 34,
   "id": "c8b4a9a9",
   "metadata": {},
   "outputs": [],
   "source": [
    "documents_chain = create_stuff_documents_chain(\n",
    "    llm, \n",
    "    prompt\n",
    ")"
   ]
  },
  {
   "cell_type": "code",
   "execution_count": 35,
   "id": "379c4503",
   "metadata": {},
   "outputs": [],
   "source": [
    "retriver_chain = create_retrieval_chain(\n",
    "    retriever=retriever, \n",
    "    combine_docs_chain=documents_chain\n",
    ")"
   ]
  },
  {
   "cell_type": "markdown",
   "id": "7b41a6f0",
   "metadata": {},
   "source": [
    "# Question"
   ]
  },
  {
   "cell_type": "code",
   "execution_count": 36,
   "id": "83e2b727",
   "metadata": {},
   "outputs": [],
   "source": [
    "question = \"**Ano Letivo** <9 ano>, **Disciplina** <Matemática>, sendo o **Conteúdo** <Porcentagem> e o **Objetivo da Aula** é <Calcular Taxa de Juros>.\""
   ]
  },
  {
   "cell_type": "markdown",
   "id": "0f8d5ef1",
   "metadata": {},
   "source": [
    "# Answer"
   ]
  },
  {
   "cell_type": "code",
   "execution_count": 37,
   "id": "ab2f35eb",
   "metadata": {},
   "outputs": [
    {
     "name": "stderr",
     "output_type": "stream",
     "text": [
      "Setting `pad_token_id` to `eos_token_id`:128001 for open-end generation.\n"
     ]
    },
    {
     "data": {
      "text/plain": [
       "{'input': '**Ano Letivo** <9 ano>, **Disciplina** <Matemática>, sendo o **Conteúdo** <Porcentagem> e o **Objetivo da Aula** é <Calcular Taxa de Juros>.',\n",
       " 'context': [Document(id='689e8d5e3357769e8f1121a7', metadata={'_id': '689e8d5e3357769e8f1121a7', 'producer': 'PyFPDF 1.7.2 http://pyfpdf.googlecode.com/', 'creator': 'PyPDF', 'creationdate': 'D:20250429004401', 'source': '../pdf/matematica.pdf', 'total_pages': 3, 'page': 2, 'page_label': '3', 'id': '45657525-1a48-4c82-88aa-a9f9037b2d4b'}, page_content='vezes propositadamente, erros de leitura, como escalas inapropriadas, legendas não explicitadas\\ncorretamente, omissão de informações importantes (fontes e datas), entre outros.\\nCódigo: EF09MA21\\nDescrição: Escolher e construir o gráfico mais adequado (colunas, setores, linhas), com ou sem uso de\\nplanilhas eletrônicas, para apresentar um determinado conjunto de dados, destacando aspectos como as\\nmedidas de tendência central.\\nCódigo: EF09MA22\\nDescrição: Planejar e executar pesquisa amostral envolvendo tema da realidade social e comunicar os\\nresultados por meio de relatório contendo avaliação de medidas de tendência central e da amplitude, tabelas\\ne gráficos adequados, construídos com o apoio de planilhas eletrônicas.'),\n",
       "  Document(id='689e8d5e3357769e8f1121a2', metadata={'_id': '689e8d5e3357769e8f1121a2', 'producer': 'PyFPDF 1.7.2 http://pyfpdf.googlecode.com/', 'creator': 'PyPDF', 'creationdate': 'D:20250429004401', 'source': '../pdf/matematica.pdf', 'total_pages': 3, 'page': 0, 'page_label': '1', 'id': '45657525-1a48-4c82-88aa-a9f9037b2d4b'}, page_content='Matemática - 9º Ano\\nCódigo: EF09MA01\\nDescrição: Reconhecer que, uma vez fixada uma unidade de comprimento, existem segmentos de reta cujo\\ncomprimento não é expresso por número racional, como as medidas de diagonais de um polígono e alturas\\nde um triângulo.\\nCódigo: EF09MA02\\nDescrição: Reconhecer um número irracional como um número real cuja representação decimal é infinita e\\nnão periódica, e estimar a localização de alguns deles na reta numérica.\\nCódigo: EF09MA03\\nDescrição: Efetuar cálculos com números reais, inclusive potências com expoentes negativos e fracionários.\\nCódigo: EF09MA04\\nDescrição: Resolver e elaborar problemas com números reais, inclusive em notação científica, envolvendo\\ndiferentes operações.\\nCódigo: EF09MA05\\nDescrição: Resolver e elaborar problemas que envolvam porcentagens, com a ideia de aplicação de\\npercentuais sucessivos e a determinação das taxas percentuais, preferencialmente com o uso de\\ntecnologias digitais, no contexto da educação financeira.\\nCódigo: EF09MA06'),\n",
       "  Document(id='689e8d5e3357769e8f1121a5', metadata={'_id': '689e8d5e3357769e8f1121a5', 'producer': 'PyFPDF 1.7.2 http://pyfpdf.googlecode.com/', 'creator': 'PyPDF', 'creationdate': 'D:20250429004401', 'source': '../pdf/matematica.pdf', 'total_pages': 3, 'page': 1, 'page_label': '2', 'id': '45657525-1a48-4c82-88aa-a9f9037b2d4b'}, page_content='Código: EF09MA12\\nDescrição: Reconhecer as condições necessárias e suficientes para que dois triângulos sejam semelhantes.\\nCódigo: EF09MA13\\nDescrição: Demonstrar relações métricas do triângulo retângulo, entre elas o teorema de Pitágoras,\\nutilizando, inclusive, a semelhança de triângulos.\\nCódigo: EF09MA14\\nDescrição: Resolver e elaborar problemas de aplicação do teorema de Pitágoras ou das relações de\\nproporcionalidade envolvendo retas paralelas cortadas por secantes.\\nCódigo: EF09MA15\\nDescrição: Determinar o ponto médio de um segmento de reta e a distância entre dois pontos quaisquer no\\nplano cartesiano, sem o uso de fórmulas, e utilizar esse conhecimento para calcular, por exemplo, medidas\\nde perímetros e áreas de figuras planas construídas no plano.'),\n",
       "  Document(id='689e8d5e3357769e8f1121a3', metadata={'_id': '689e8d5e3357769e8f1121a3', 'producer': 'PyFPDF 1.7.2 http://pyfpdf.googlecode.com/', 'creator': 'PyPDF', 'creationdate': 'D:20250429004401', 'source': '../pdf/matematica.pdf', 'total_pages': 3, 'page': 0, 'page_label': '1', 'id': '45657525-1a48-4c82-88aa-a9f9037b2d4b'}, page_content='tecnologias digitais, no contexto da educação financeira.\\nCódigo: EF09MA06\\nDescrição: Compreender as funções como relações de dependência unívoca entre duas variáveis e suas\\nrepresentações numérica, algébrica e gráfica e utilizar esse conceito para analisar situações que envolvam\\nrelações funcionais entre duas variáveis.\\nCódigo: EF09MA07\\nDescrição: Resolver problemas que envolvam a razão entre duas grandezas de espécies diferentes, como\\nvelocidade e densidade demográfica.'),\n",
       "  Document(id='689e8d5e3357769e8f1121a4', metadata={'_id': '689e8d5e3357769e8f1121a4', 'producer': 'PyFPDF 1.7.2 http://pyfpdf.googlecode.com/', 'creator': 'PyPDF', 'creationdate': 'D:20250429004401', 'source': '../pdf/matematica.pdf', 'total_pages': 3, 'page': 1, 'page_label': '2', 'id': '45657525-1a48-4c82-88aa-a9f9037b2d4b'}, page_content='Código: EF09MA08\\nDescrição: Resolver e elaborar problemas que envolvam relações de proporcionalidade direta e inversa\\nentre duas ou mais grandezas, inclusive escalas, divisão em partes proporcionais e taxa de variação, em\\ncontextos socioculturais, ambientais e de outras áreas.\\nCódigo: EF09MA09\\nDescrição: Compreender os processos de fatoração de expressões algébricas, com base em suas relações\\ncom os produtos notáveis, para resolver e elaborar problemas que possam ser representados por equações\\npolinomiais do 2º grau.\\nCódigo: EF09MA10\\nDescrição: Demonstrar relações simples entre os ângulos formados por retas paralelas cortadas por uma\\ntransversal.\\nCódigo: EF09MA11\\nDescrição: Resolver problemas por meio do estabelecimento de relações entre arcos, ângulos centrais e\\nângulos inscritos na circunferência, fazendo uso, inclusive, de softwares de geometria dinâmica.\\nCódigo: EF09MA12\\nDescrição: Reconhecer as condições necessárias e suficientes para que dois triângulos sejam semelhantes.')],\n",
       " 'answer': '\\n\\nCódigo: EF09MA05\\nDescrição: Resolver e elaborar problemas que envolvam porcentagens, inclusive em notação científica, envolvendo a aplicação de percentuais sucessivos e a determinação das taxas percentuais, preferencialmente com o uso de tecnologias digitais, no contexto da educação financeira.'}"
      ]
     },
     "execution_count": 37,
     "metadata": {},
     "output_type": "execute_result"
    }
   ],
   "source": [
    "retriver_chain.invoke({\"input\": question})"
   ]
  }
 ],
 "metadata": {
  "kernelspec": {
   "display_name": "venv (3.12.4)",
   "language": "python",
   "name": "python3"
  },
  "language_info": {
   "codemirror_mode": {
    "name": "ipython",
    "version": 3
   },
   "file_extension": ".py",
   "mimetype": "text/x-python",
   "name": "python",
   "nbconvert_exporter": "python",
   "pygments_lexer": "ipython3",
   "version": "3.12.4"
  }
 },
 "nbformat": 4,
 "nbformat_minor": 5
}
