{
 "cells": [
  {
   "cell_type": "code",
   "execution_count": 1,
   "id": "5772e781",
   "metadata": {},
   "outputs": [
    {
     "name": "stderr",
     "output_type": "stream",
     "text": [
      "d:\\Visual Code\\RAG\\venv\\Lib\\site-packages\\tqdm\\auto.py:21: TqdmWarning: IProgress not found. Please update jupyter and ipywidgets. See https://ipywidgets.readthedocs.io/en/stable/user_install.html\n",
      "  from .autonotebook import tqdm as notebook_tqdm\n"
     ]
    }
   ],
   "source": [
    "import os\n",
    "import torch\n",
    "\n",
    "from dotenv import load_dotenv\n",
    "\n",
    "from langchain_community.document_loaders.pdf import PyPDFLoader\n",
    "from langchain_text_splitters import RecursiveCharacterTextSplitter\n",
    "from langchain_huggingface import HuggingFaceEmbeddings\n",
    "from langchain.vectorstores import FAISS\n",
    "\n",
    "from transformers import BitsAndBytesConfig, AutoModelForCausalLM, AutoTokenizer, pipeline\n",
    "from langchain_huggingface import HuggingFacePipeline\n",
    "\n",
    "from langchain_core.prompts import ChatPromptTemplate\n",
    "from langchain.chains import create_retrieval_chain\n",
    "from langchain.chains.combine_documents import create_stuff_documents_chain"
   ]
  },
  {
   "cell_type": "markdown",
   "id": "349b735a",
   "metadata": {},
   "source": [
    "# Variables"
   ]
  },
  {
   "cell_type": "code",
   "execution_count": 2,
   "id": "fde555b1",
   "metadata": {},
   "outputs": [
    {
     "data": {
      "text/plain": [
       "True"
      ]
     },
     "execution_count": 2,
     "metadata": {},
     "output_type": "execute_result"
    }
   ],
   "source": [
    "load_dotenv()"
   ]
  },
  {
   "cell_type": "code",
   "execution_count": 3,
   "id": "58a9e753",
   "metadata": {},
   "outputs": [],
   "source": [
    "file = os.getenv(\"FILE\")\n",
    "persist_directory = os.getenv(\"PERSIST_DIRECTORY\") + \"/faiss\"\n",
    "token = os.getenv(\"TOKEN\")\n",
    "model_id = os.getenv(\"MODEL_ID\")\n",
    "model_name = os.getenv(\"MODEL_NAME\")"
   ]
  },
  {
   "cell_type": "markdown",
   "id": "affefad4",
   "metadata": {},
   "source": [
    "# PDFLoader"
   ]
  },
  {
   "cell_type": "code",
   "execution_count": 4,
   "id": "f02ce152",
   "metadata": {},
   "outputs": [],
   "source": [
    "loader = PyPDFLoader(file)\n",
    "file = loader.load()"
   ]
  },
  {
   "cell_type": "markdown",
   "id": "38c7a2e0",
   "metadata": {},
   "source": [
    "# Recursive TextSplit"
   ]
  },
  {
   "cell_type": "code",
   "execution_count": 5,
   "id": "50f3f0ff",
   "metadata": {},
   "outputs": [],
   "source": [
    "recur_split = RecursiveCharacterTextSplitter(\n",
    "    chunk_size=1000,\n",
    "    chunk_overlap=150\n",
    ")"
   ]
  },
  {
   "cell_type": "code",
   "execution_count": 6,
   "id": "414d4c9b",
   "metadata": {},
   "outputs": [],
   "source": [
    "documents = recur_split.split_documents(file)"
   ]
  },
  {
   "cell_type": "markdown",
   "id": "2dee313a",
   "metadata": {},
   "source": [
    "# Embeddings (HuggingFace)"
   ]
  },
  {
   "cell_type": "code",
   "execution_count": 7,
   "id": "c34e8483",
   "metadata": {},
   "outputs": [],
   "source": [
    "embedding = HuggingFaceEmbeddings(\n",
    "    model_name=model_name, \n",
    "    model_kwargs={'device': 'cuda' if torch.cuda.is_available() else 'cpu'}, \n",
    "    encode_kwargs={'normalize_embeddings': False}\n",
    ")"
   ]
  },
  {
   "cell_type": "markdown",
   "id": "eaae481d",
   "metadata": {},
   "source": [
    "# Vector Store"
   ]
  },
  {
   "cell_type": "code",
   "execution_count": 8,
   "id": "249c3cc3",
   "metadata": {},
   "outputs": [],
   "source": [
    "vectordb = FAISS.from_documents(\n",
    "    documents=documents, \n",
    "    embedding=embedding\n",
    ")\n",
    "\n",
    "vectordb.save_local(persist_directory)"
   ]
  },
  {
   "cell_type": "markdown",
   "id": "aca9c5b3",
   "metadata": {},
   "source": [
    "# LLM (HuggingFace)"
   ]
  },
  {
   "cell_type": "code",
   "execution_count": 9,
   "id": "cadf0183",
   "metadata": {},
   "outputs": [
    {
     "name": "stderr",
     "output_type": "stream",
     "text": [
      "Loading checkpoint shards: 100%|██████████| 2/2 [00:05<00:00,  2.50s/it]\n",
      "Device set to use cuda:0\n"
     ]
    }
   ],
   "source": [
    "quantization_config = BitsAndBytesConfig(\n",
    "    load_in_4bit=True, \n",
    "    bnb_4bit_use_double_quant=True, \n",
    "    bnb_4bit_quant_type=\"nf4\", \n",
    "    bnb_4bit_compute_dtype=torch.bfloat16\n",
    ")\n",
    "\n",
    "model = AutoModelForCausalLM.from_pretrained(\n",
    "    model_id,\n",
    "    token=token,\n",
    "    quantization_config=quantization_config    \n",
    ")\n",
    "\n",
    "tokenizer = AutoTokenizer.from_pretrained(\n",
    "    model_id,\n",
    "    token=token    \n",
    ")\n",
    "\n",
    "pipe = pipeline(\n",
    "    model=model, \n",
    "    tokenizer=tokenizer, \n",
    "    task=\"text-generation\",\n",
    "    return_full_text=False\n",
    ")\n",
    "\n",
    "llm = HuggingFacePipeline(\n",
    "    pipeline=pipe,\n",
    "    model_kwargs={\n",
    "        \"temperature\": 0.0,        \n",
    "        \"do_sample\": False        \n",
    "    }\n",
    ")"
   ]
  },
  {
   "cell_type": "markdown",
   "id": "d8a97306",
   "metadata": {},
   "source": [
    "# Prompt"
   ]
  },
  {
   "cell_type": "code",
   "execution_count": 10,
   "id": "125427e8",
   "metadata": {},
   "outputs": [],
   "source": [
    "token_start, token_end = \"<|begin_of_text|><|start_header_id|>system<|end_header_id|>\", \"<|eot_id|><|start_header_id|>assistant<|end_header_id|>\"\n",
    "\n",
    "template = \"\"\"\n",
    "Você é um assistente educacional que retorna competências empreendedoras.\n",
    "\n",
    "O usuário fornecerá os dados de uma aula em formato estruturado, incluindo:\n",
    "**Disciplina**;\n",
    "**Conteúdo**;\n",
    "**Objetivo da Aula**.\n",
    "\n",
    "Com base no documento (que está no contexto abaixo), identifique **três competências empreendedoras** que se relacionam diretamente com essa aula.\n",
    "Retorne apenas os nomes das competências, separados por vírgula sendo a última separada por 'e'. \\n\\n\n",
    "\n",
    "Exemplo: \\n\n",
    "Pergunta: \"**Disciplina** <Matemática>, sendo o **Conteúdo** <Frações> e o **Objetivo da Aula** é <Calcular juros>.\" \\n\n",
    "Resposta: Identificar oportunidades, Mobilização de recursos e Educação financeira e econômica. \\n\\n\n",
    "\n",
    "Contexto: {context} \\n\\n\n",
    "Pergunta: {input}\n",
    "\"\"\"\n",
    "\n",
    "prompt = ChatPromptTemplate.from_template(token_start + template + token_end)"
   ]
  },
  {
   "cell_type": "markdown",
   "id": "b200f1f7",
   "metadata": {},
   "source": [
    "# Chain"
   ]
  },
  {
   "cell_type": "code",
   "execution_count": 11,
   "id": "379c4503",
   "metadata": {},
   "outputs": [],
   "source": [
    "documents_chain = create_stuff_documents_chain(\n",
    "    llm, \n",
    "    prompt\n",
    ")\n",
    "\n",
    "retriver_chain = create_retrieval_chain(\n",
    "    retriever=vectordb.as_retriever(search_type=\"mmr\"), \n",
    "    combine_docs_chain=documents_chain\n",
    ")"
   ]
  },
  {
   "cell_type": "markdown",
   "id": "7b41a6f0",
   "metadata": {},
   "source": [
    "# Question"
   ]
  },
  {
   "cell_type": "code",
   "execution_count": 12,
   "id": "83e2b727",
   "metadata": {},
   "outputs": [],
   "source": [
    "question = \"**Disciplina** <Computação>, sendo o **Conteúdo** <Criação de Programas> e o **Objetivo da Aula** é <Desenvolvimento de sites Web>.\""
   ]
  },
  {
   "cell_type": "markdown",
   "id": "0f8d5ef1",
   "metadata": {},
   "source": [
    "# Answer"
   ]
  },
  {
   "cell_type": "code",
   "execution_count": 13,
   "id": "ab2f35eb",
   "metadata": {},
   "outputs": [
    {
     "name": "stderr",
     "output_type": "stream",
     "text": [
      "Setting `pad_token_id` to `eos_token_id`:128001 for open-end generation.\n"
     ]
    },
    {
     "data": {
      "text/plain": [
       "{'input': '**Disciplina** <Computação>, sendo o **Conteúdo** <Criação de Programas> e o **Objetivo da Aula** é <Desenvolvimento de sites Web>.',\n",
       " 'context': [Document(id='d20ee17c-38c3-4ae7-844b-eaac06be9867', metadata={'producer': 'Microsoft® Word para Microsoft 365', 'creator': 'Microsoft® Word para Microsoft 365', 'creationdate': '2025-04-28T16:59:30-03:00', 'author': 'Roselaine Monteiro Moraes', 'moddate': '2025-04-28T16:59:30-03:00', 'source': '../pdf/entrecomp.pdf', 'total_pages': 2, 'page': 1, 'page_label': '2'}, page_content='organizar e acompanhar. Definir objetivos de longo, médio e curto prazo, definindo \\nprioridades e planos de ação, adaptando-se quando necessário à mudanças imprevistas. \\n \\nLidar com a incerteza: a ambiguidade e o risco é tomar decisões mesmo quando \\nos seus resultados são incertos, quando a informação disponível é parcial ou ambígua, \\nou quando existe um risco de resultados indesejados. No processo de criação de valor, \\nincluir formas estruturadas de testar ideias e protótipos desde as etapas iniciais, \\npara reduzir os riscos de falhar. É saber lidar com situações imprevisíveis de forma \\nrápida e flexível. \\n \\nTrabalhar em equipe: é colaborar e criar redes, trabalhar em conjunto e \\ncooperar com outros para desenvolver ideias e colocá-las em prática. É saber resolver \\nconflitos e enfrentar a concorrência de forma positiva sempre que necessário. \\n \\nAprender com a experiência: é aprender fazendo. Usar o máximo de iniciativas'),\n",
       "  Document(id='df31cd3d-b1d8-4d08-9325-3250a1e1524c', metadata={'producer': 'Microsoft® Word para Microsoft 365', 'creator': 'Microsoft® Word para Microsoft 365', 'creationdate': '2025-04-28T16:59:30-03:00', 'author': 'Roselaine Monteiro Moraes', 'moddate': '2025-04-28T16:59:30-03:00', 'source': '../pdf/entrecomp.pdf', 'total_pages': 2, 'page': 0, 'page_label': '1'}, page_content='possíveis obstáculos. \\n \\nMotivação e perseverança: é manter o foco e não desistir! Ser determinado \\npara transformar ideias em ações e satisfazer a necessidade de chegar mais longe, estar \\npreparado para ser paciente e continuar a tentar alcançar os objetivos de longo prazo, \\nquer sejam individuais quer de grupo. É ser resiliente sob pressão e perante \\nadversidades e problemas. \\n \\nMobilização de recursos: é reunir e gerir os recursos necessários para \\ntransformar \\nideias em ações, fazendo o máximo com recursos mínimos. É obter e gerir as \\ncompetências necessárias em diferentes etapas, incluindo competências técnicas, \\nlegais, financeiras e digitais.'),\n",
       "  Document(id='f465385a-f14d-49d6-88dc-bf9bbda45876', metadata={'producer': 'Microsoft® Word para Microsoft 365', 'creator': 'Microsoft® Word para Microsoft 365', 'creationdate': '2025-04-28T16:59:30-03:00', 'author': 'Roselaine Monteiro Moraes', 'moddate': '2025-04-28T16:59:30-03:00', 'source': '../pdf/entrecomp.pdf', 'total_pages': 2, 'page': 1, 'page_label': '2'}, page_content='Educação financeira e econômica: é desenvolver conhecimentos financeiros \\ne econômicos, saber calcular o custo de transformar uma ideia numa atividade criadora \\nde valor. Planejar, colocar em prática e avaliar decisões financeiras ao longo do tempo. \\nGerir as finanças para assegurar que a atividade de criação de valor possa manter-se a \\nlongo prazo. \\n \\nMobilização de pessoas: é inspirar, entusiasmar e mobilizar parceiros \\nrelevantes, obtendo o apoio necessário para atingir resultados positivos. Demonstrar \\ncapacidade de comunicação, persuasão, negociação e liderança. \\n \\nTomar iniciativa: é avançar, iniciar projetos que criem valor, é aceitar desafios, agir \\ne trabalhar de forma independente para atingir os objetivos. Seguir a linha definida e \\nexecutar as tarefas planejadas. \\n \\nPlanejamento e administração: é fazer gestão. Planejar, gerir, priorizar, \\norganizar e acompanhar. Definir objetivos de longo, médio e curto prazo, definindo'),\n",
       "  Document(id='cac97bb1-b93d-4f83-94f3-b514ae6b5a71', metadata={'producer': 'Microsoft® Word para Microsoft 365', 'creator': 'Microsoft® Word para Microsoft 365', 'creationdate': '2025-04-28T16:59:30-03:00', 'author': 'Roselaine Monteiro Moraes', 'moddate': '2025-04-28T16:59:30-03:00', 'source': '../pdf/entrecomp.pdf', 'total_pages': 2, 'page': 1, 'page_label': '2'}, page_content='Aprender com a experiência: é aprender fazendo. Usar o máximo de iniciativas \\npara a criação de valor como uma oportunidade de aprendizagem. Aprender com os \\noutros, incluindo os pares e os mentores. É refletir e aprender com os sucessos e com \\nos fracassos, tanto os nossos como os dos outros.')],\n",
       " 'answer': '\\n\\nIdentificar oportunidades, Mobilização de recursos, Educação financeira e econômica.'}"
      ]
     },
     "execution_count": 13,
     "metadata": {},
     "output_type": "execute_result"
    }
   ],
   "source": [
    "retriver_chain.invoke({\"input\": question})"
   ]
  }
 ],
 "metadata": {
  "kernelspec": {
   "display_name": "venv (3.12.4)",
   "language": "python",
   "name": "python3"
  },
  "language_info": {
   "codemirror_mode": {
    "name": "ipython",
    "version": 3
   },
   "file_extension": ".py",
   "mimetype": "text/x-python",
   "name": "python",
   "nbconvert_exporter": "python",
   "pygments_lexer": "ipython3",
   "version": "3.12.4"
  }
 },
 "nbformat": 4,
 "nbformat_minor": 5
}
