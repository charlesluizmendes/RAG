{
 "cells": [
  {
   "cell_type": "code",
   "execution_count": 1,
   "id": "5772e781",
   "metadata": {},
   "outputs": [
    {
     "name": "stderr",
     "output_type": "stream",
     "text": [
      "d:\\Visual Code\\RAG\\venv\\Lib\\site-packages\\tqdm\\auto.py:21: TqdmWarning: IProgress not found. Please update jupyter and ipywidgets. See https://ipywidgets.readthedocs.io/en/stable/user_install.html\n",
      "  from .autonotebook import tqdm as notebook_tqdm\n"
     ]
    }
   ],
   "source": [
    "import os\n",
    "\n",
    "from dotenv import load_dotenv\n",
    "\n",
    "from langchain_community.document_loaders.pdf import PyPDFLoader\n",
    "from langchain_text_splitters import RecursiveCharacterTextSplitter\n",
    "from langchain_community.vectorstores.chroma import Chroma\n",
    "from langchain_huggingface import HuggingFaceEmbeddings\n",
    "from langchain_huggingface import HuggingFacePipeline\n",
    "\n",
    "from transformers import AutoModelForCausalLM, AutoTokenizer, pipeline\n",
    "\n",
    "from langchain_core.prompts import ChatPromptTemplate\n",
    "from langchain.chains import create_retrieval_chain\n",
    "from langchain.chains.combine_documents import create_stuff_documents_chain"
   ]
  },
  {
   "cell_type": "markdown",
   "id": "349b735a",
   "metadata": {},
   "source": [
    "# Variables"
   ]
  },
  {
   "cell_type": "code",
   "execution_count": 2,
   "id": "fde555b1",
   "metadata": {},
   "outputs": [
    {
     "data": {
      "text/plain": [
       "True"
      ]
     },
     "execution_count": 2,
     "metadata": {},
     "output_type": "execute_result"
    }
   ],
   "source": [
    "load_dotenv()"
   ]
  },
  {
   "cell_type": "code",
   "execution_count": 3,
   "id": "58a9e753",
   "metadata": {},
   "outputs": [],
   "source": [
    "file = os.getenv(\"FILE\")\n",
    "persist_directory = os.getenv(\"PERSIST_DIRECTORY\")\n",
    "token = os.getenv(\"TOKEN\")\n",
    "model_id = os.getenv(\"MODEL_ID\")\n",
    "model_name = os.getenv(\"MODEL_NAME\")"
   ]
  },
  {
   "cell_type": "markdown",
   "id": "affefad4",
   "metadata": {},
   "source": [
    "# PDFLoader"
   ]
  },
  {
   "cell_type": "code",
   "execution_count": 4,
   "id": "f02ce152",
   "metadata": {},
   "outputs": [],
   "source": [
    "loader = PyPDFLoader(file)\n",
    "file = loader.load()"
   ]
  },
  {
   "cell_type": "markdown",
   "id": "38c7a2e0",
   "metadata": {},
   "source": [
    "# Recursive TextSplit"
   ]
  },
  {
   "cell_type": "code",
   "execution_count": 5,
   "id": "50f3f0ff",
   "metadata": {},
   "outputs": [],
   "source": [
    "recur_split = RecursiveCharacterTextSplitter(\n",
    "    chunk_size=500,\n",
    "    chunk_overlap=50\n",
    ")"
   ]
  },
  {
   "cell_type": "code",
   "execution_count": 6,
   "id": "414d4c9b",
   "metadata": {},
   "outputs": [],
   "source": [
    "documents = recur_split.split_documents(file)"
   ]
  },
  {
   "cell_type": "markdown",
   "id": "2dee313a",
   "metadata": {},
   "source": [
    "# Embeddings (HuggingFace)"
   ]
  },
  {
   "cell_type": "code",
   "execution_count": 7,
   "id": "c34e8483",
   "metadata": {},
   "outputs": [],
   "source": [
    "embedding = HuggingFaceEmbeddings(model_name=model_name)"
   ]
  },
  {
   "cell_type": "markdown",
   "id": "eaae481d",
   "metadata": {},
   "source": [
    "# Vector Store"
   ]
  },
  {
   "cell_type": "code",
   "execution_count": 8,
   "id": "249c3cc3",
   "metadata": {},
   "outputs": [],
   "source": [
    "vectordb = Chroma.from_documents(\n",
    "    documents=documents,\n",
    "    embedding=embedding,\n",
    "    persist_directory=persist_directory\n",
    ")"
   ]
  },
  {
   "cell_type": "markdown",
   "id": "aca9c5b3",
   "metadata": {},
   "source": [
    "# LLM (HuggingFace)"
   ]
  },
  {
   "cell_type": "code",
   "execution_count": 9,
   "id": "cadf0183",
   "metadata": {},
   "outputs": [
    {
     "name": "stderr",
     "output_type": "stream",
     "text": [
      "d:\\Visual Code\\RAG\\venv\\Lib\\site-packages\\transformers\\models\\auto\\auto_factory.py:492: FutureWarning: The `use_auth_token` argument is deprecated and will be removed in v5 of Transformers. Please use `token` instead.\n",
      "  warnings.warn(\n",
      "Loading checkpoint shards: 100%|██████████| 2/2 [00:07<00:00,  3.64s/it]\n",
      "Device set to use cuda:0\n",
      "The following generation flags are not valid and may be ignored: ['temperature', 'top_p']. Set `TRANSFORMERS_VERBOSITY=info` for more details.\n"
     ]
    }
   ],
   "source": [
    "model = AutoModelForCausalLM.from_pretrained(\n",
    "    model_id,\n",
    "    use_auth_token=token\n",
    ")\n",
    "\n",
    "tokenizer = AutoTokenizer.from_pretrained(\n",
    "    model_id,\n",
    "    token=token\n",
    ")\n",
    "\n",
    "pipe = pipeline(\n",
    "    model=model, \n",
    "    tokenizer=tokenizer, \n",
    "    task=\"text-generation\", \n",
    "    temperature=0.1, \n",
    "    max_new_tokens=512, \n",
    "    do_sample=False,\n",
    "    repetition_penalty=1.1,\n",
    "    return_full_text=False\n",
    ")\n",
    "\n",
    "llm = HuggingFacePipeline(pipeline=pipe)"
   ]
  },
  {
   "cell_type": "markdown",
   "id": "d8a97306",
   "metadata": {},
   "source": [
    "# Prompt"
   ]
  },
  {
   "cell_type": "code",
   "execution_count": 10,
   "id": "125427e8",
   "metadata": {},
   "outputs": [],
   "source": [
    "token_start, token_end = \"<|begin_of_text|><|start_header_id|>system<|end_header_id|>\", \"<|eot_id|><|start_header_id|>assistant<|end_header_id|>\"\n",
    "\n",
    "template = \"\"\"\n",
    "Você é um assistente educacional.\n",
    "\n",
    "O usuário fornecerá os dados de uma aula em formato estruturado, incluindo:\n",
    "- A disciplina;\n",
    "- O conteúdo;\n",
    "- O objetivo da aula.\n",
    "\n",
    "Com base no documento ENTRECOMP (que está no contexto abaixo), identifique **três competências empreendedoras** que se relacionam diretamente com essa aula.\n",
    "Retorne apenas os nomes das competências, separados por vírgula e a última competências separada por e.\n",
    "Exemplo de formato: Visão, Criatividade e Valorizar ideias. \\n\n",
    "\n",
    "Contexto: {context} \\n\\n\n",
    "Pergunta: {input}\n",
    "\"\"\"\n",
    "\n",
    "prompt = ChatPromptTemplate.from_template(token_start + template + token_end)"
   ]
  },
  {
   "cell_type": "markdown",
   "id": "b200f1f7",
   "metadata": {},
   "source": [
    "# Chain"
   ]
  },
  {
   "cell_type": "code",
   "execution_count": 11,
   "id": "379c4503",
   "metadata": {},
   "outputs": [],
   "source": [
    "documents_chain = create_stuff_documents_chain(\n",
    "    llm, \n",
    "    prompt\n",
    ")\n",
    "\n",
    "retriver_chain = create_retrieval_chain(\n",
    "    retriever=vectordb.as_retriever(search_type=\"mmr\"), \n",
    "    combine_docs_chain=documents_chain\n",
    ") "
   ]
  },
  {
   "cell_type": "markdown",
   "id": "7b41a6f0",
   "metadata": {},
   "source": [
    "# Question"
   ]
  },
  {
   "cell_type": "code",
   "execution_count": 12,
   "id": "83e2b727",
   "metadata": {},
   "outputs": [],
   "source": [
    "question = \"Aula de <Matemática>, sendo o conteúdo <Frações> e o objetivo da aula é <Uso para calcular juros>.\""
   ]
  },
  {
   "cell_type": "markdown",
   "id": "0f8d5ef1",
   "metadata": {},
   "source": [
    "# Answer"
   ]
  },
  {
   "cell_type": "code",
   "execution_count": 13,
   "id": "ab2f35eb",
   "metadata": {},
   "outputs": [
    {
     "name": "stderr",
     "output_type": "stream",
     "text": [
      "The following generation flags are not valid and may be ignored: ['temperature', 'top_p']. Set `TRANSFORMERS_VERBOSITY=info` for more details.\n",
      "Setting `pad_token_id` to `eos_token_id`:128001 for open-end generation.\n"
     ]
    },
    {
     "data": {
      "text/plain": [
       "{'input': 'Aula de <Matemática>, sendo o conteúdo <Frações> e o objetivo da aula é <Uso para calcular juros>.',\n",
       " 'context': [Document(metadata={'page_label': '1', 'page': 0, 'moddate': '2025-04-28T16:59:30-03:00', 'source': '../pdf/entrecomp.pdf', 'creationdate': '2025-04-28T16:59:30-03:00', 'total_pages': 2, 'creator': 'Microsoft® Word para Microsoft 365', 'author': 'Roselaine Monteiro Moraes', 'producer': 'Microsoft® Word para Microsoft 365'}, page_content='responsável e ética. \\n \\nConsciência de si e autoeficácia: acreditar em si mesmo e procurar o \\ndesenvolvimento contínuo, refletir sobre os seus desejos, necessidades e \\naspirações a curto, médio e longo prazo, identificar e avaliar as forças \\ne as fraquezas individuais e coletivas e acreditar na capacidade para \\ninfluenciar o curso dos acontecimentos, apesar da incerteza, das contrariedades e dos \\npossíveis obstáculos. \\n \\nMotivação e perseverança: é manter o foco e não desistir! Ser determinado'),\n",
       "  Document(metadata={'creator': 'Microsoft® Word para Microsoft 365', 'source': '../pdf/entrecomp.pdf', 'moddate': '2025-04-28T16:59:30-03:00', 'producer': 'Microsoft® Word para Microsoft 365', 'page': 0, 'total_pages': 2, 'creationdate': '2025-04-28T16:59:30-03:00', 'author': 'Roselaine Monteiro Moraes', 'page_label': '1'}, page_content='responsável e ética. \\n \\nConsciência de si e autoeficácia: acreditar em si mesmo e procurar o \\ndesenvolvimento contínuo, refletir sobre os seus desejos, necessidades e \\naspirações a curto, médio e longo prazo, identificar e avaliar as forças \\ne as fraquezas individuais e coletivas e acreditar na capacidade para \\ninfluenciar o curso dos acontecimentos, apesar da incerteza, das contrariedades e dos \\npossíveis obstáculos. \\n \\nMotivação e perseverança: é manter o foco e não desistir! Ser determinado'),\n",
       "  Document(metadata={'total_pages': 2, 'page_label': '1', 'author': 'Roselaine Monteiro Moraes', 'source': '../pdf/entrecomp.pdf', 'creator': 'Microsoft® Word para Microsoft 365', 'page': 0, 'producer': 'Microsoft® Word para Microsoft 365', 'moddate': '2025-04-28T16:59:30-03:00', 'creationdate': '2025-04-28T16:59:30-03:00'}, page_content='responsável e ética. \\n \\nConsciência de si e autoeficácia: acreditar em si mesmo e procurar o \\ndesenvolvimento contínuo, refletir sobre os seus desejos, necessidades e \\naspirações a curto, médio e longo prazo, identificar e avaliar as forças \\ne as fraquezas individuais e coletivas e acreditar na capacidade para \\ninfluenciar o curso dos acontecimentos, apesar da incerteza, das contrariedades e dos \\npossíveis obstáculos. \\n \\nMotivação e perseverança: é manter o foco e não desistir! Ser determinado'),\n",
       "  Document(metadata={'source': '../pdf/entrecomp.pdf', 'page': 1, 'creator': 'Microsoft® Word para Microsoft 365', 'author': 'Roselaine Monteiro Moraes', 'page_label': '2', 'total_pages': 2, 'producer': 'Microsoft® Word para Microsoft 365', 'moddate': '2025-04-28T16:59:30-03:00', 'creationdate': '2025-04-28T16:59:30-03:00'}, page_content='relevantes, obtendo o apoio necessário para atingir resultados positivos. Demonstrar \\ncapacidade de comunicação, persuasão, negociação e liderança. \\n \\nTomar iniciativa: é avançar, iniciar projetos que criem valor, é aceitar desafios, agir \\ne trabalhar de forma independente para atingir os objetivos. Seguir a linha definida e \\nexecutar as tarefas planejadas. \\n \\nPlanejamento e administração: é fazer gestão. Planejar, gerir, priorizar,')],\n",
       " 'answer': '\\n\\nVisão, Tomar iniciativa e Planejamento e administração.'}"
      ]
     },
     "execution_count": 13,
     "metadata": {},
     "output_type": "execute_result"
    }
   ],
   "source": [
    "retriver_chain.invoke({\"input\": question})"
   ]
  }
 ],
 "metadata": {
  "kernelspec": {
   "display_name": "venv (3.12.4)",
   "language": "python",
   "name": "python3"
  },
  "language_info": {
   "codemirror_mode": {
    "name": "ipython",
    "version": 3
   },
   "file_extension": ".py",
   "mimetype": "text/x-python",
   "name": "python",
   "nbconvert_exporter": "python",
   "pygments_lexer": "ipython3",
   "version": "3.12.4"
  }
 },
 "nbformat": 4,
 "nbformat_minor": 5
}
