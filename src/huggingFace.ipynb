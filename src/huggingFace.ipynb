{
 "cells": [
  {
   "cell_type": "code",
   "execution_count": 82,
   "id": "5772e781",
   "metadata": {},
   "outputs": [],
   "source": [
    "import os\n",
    "import torch\n",
    "\n",
    "from dotenv import load_dotenv\n",
    "\n",
    "from langchain_community.document_loaders.pdf import PyPDFLoader\n",
    "from langchain_text_splitters import RecursiveCharacterTextSplitter\n",
    "from langchain_huggingface import HuggingFaceEmbeddings\n",
    "from langchain.vectorstores import FAISS\n",
    "\n",
    "from transformers import BitsAndBytesConfig, AutoModelForCausalLM, AutoTokenizer, pipeline\n",
    "from langchain_huggingface import HuggingFacePipeline\n",
    "\n",
    "from langchain_core.prompts import ChatPromptTemplate\n",
    "from langchain.chains import create_retrieval_chain\n",
    "from langchain.chains.combine_documents import create_stuff_documents_chain"
   ]
  },
  {
   "cell_type": "markdown",
   "id": "349b735a",
   "metadata": {},
   "source": [
    "# Variables"
   ]
  },
  {
   "cell_type": "code",
   "execution_count": 83,
   "id": "fde555b1",
   "metadata": {},
   "outputs": [
    {
     "data": {
      "text/plain": [
       "True"
      ]
     },
     "execution_count": 83,
     "metadata": {},
     "output_type": "execute_result"
    }
   ],
   "source": [
    "load_dotenv()"
   ]
  },
  {
   "cell_type": "code",
   "execution_count": 84,
   "id": "58a9e753",
   "metadata": {},
   "outputs": [],
   "source": [
    "file = os.getenv(\"FILE\")\n",
    "persist_directory = os.getenv(\"PERSIST_DIRECTORY\") + \"/faiss\"\n",
    "token = os.getenv(\"TOKEN\")\n",
    "model_id = os.getenv(\"MODEL_ID\")\n",
    "model_name = os.getenv(\"MODEL_NAME\")"
   ]
  },
  {
   "cell_type": "markdown",
   "id": "affefad4",
   "metadata": {},
   "source": [
    "# PDFLoader"
   ]
  },
  {
   "cell_type": "code",
   "execution_count": 85,
   "id": "f02ce152",
   "metadata": {},
   "outputs": [],
   "source": [
    "loader = PyPDFLoader(file)\n",
    "file = loader.load()"
   ]
  },
  {
   "cell_type": "markdown",
   "id": "38c7a2e0",
   "metadata": {},
   "source": [
    "# Recursive TextSplit"
   ]
  },
  {
   "cell_type": "code",
   "execution_count": 86,
   "id": "50f3f0ff",
   "metadata": {},
   "outputs": [],
   "source": [
    "recur_split = RecursiveCharacterTextSplitter(\n",
    "    chunk_size=1000,\n",
    "    chunk_overlap=150\n",
    ")"
   ]
  },
  {
   "cell_type": "code",
   "execution_count": 87,
   "id": "414d4c9b",
   "metadata": {},
   "outputs": [],
   "source": [
    "documents = recur_split.split_documents(file)"
   ]
  },
  {
   "cell_type": "markdown",
   "id": "2dee313a",
   "metadata": {},
   "source": [
    "# Embeddings (HuggingFace)"
   ]
  },
  {
   "cell_type": "code",
   "execution_count": 88,
   "id": "c34e8483",
   "metadata": {},
   "outputs": [],
   "source": [
    "embedding = HuggingFaceEmbeddings(\n",
    "    model_name=model_name, \n",
    "    model_kwargs={'device': 'cuda:0'}, \n",
    "    encode_kwargs={'normalize_embeddings': False}\n",
    ")"
   ]
  },
  {
   "cell_type": "markdown",
   "id": "eaae481d",
   "metadata": {},
   "source": [
    "# Vector Store"
   ]
  },
  {
   "cell_type": "code",
   "execution_count": 89,
   "id": "249c3cc3",
   "metadata": {},
   "outputs": [],
   "source": [
    "vectordb = FAISS.from_documents(\n",
    "    documents=documents, \n",
    "    embedding=embedding\n",
    ")\n",
    "\n",
    "vectordb.save_local(persist_directory)"
   ]
  },
  {
   "cell_type": "markdown",
   "id": "aca9c5b3",
   "metadata": {},
   "source": [
    "# LLM (HuggingFace)"
   ]
  },
  {
   "cell_type": "code",
   "execution_count": 90,
   "id": "cadf0183",
   "metadata": {},
   "outputs": [
    {
     "name": "stderr",
     "output_type": "stream",
     "text": [
      "Loading checkpoint shards: 100%|██████████| 2/2 [00:04<00:00,  2.44s/it]\n",
      "Device set to use cuda:0\n"
     ]
    }
   ],
   "source": [
    "quantization_config = BitsAndBytesConfig(\n",
    "    load_in_4bit=True, \n",
    "    bnb_4bit_use_double_quant=True, \n",
    "    bnb_4bit_quant_type=\"nf4\", \n",
    "    bnb_4bit_compute_dtype=torch.bfloat16\n",
    ")\n",
    "\n",
    "model = AutoModelForCausalLM.from_pretrained(\n",
    "    model_id,\n",
    "    token=token,\n",
    "    quantization_config=quantization_config    \n",
    ")\n",
    "\n",
    "tokenizer = AutoTokenizer.from_pretrained(\n",
    "    model_id,\n",
    "    token=token    \n",
    ")\n",
    "\n",
    "pipe = pipeline(\n",
    "    model=model, \n",
    "    tokenizer=tokenizer, \n",
    "    task=\"text-generation\",\n",
    "    return_full_text=False\n",
    ")\n",
    "\n",
    "llm = HuggingFacePipeline(\n",
    "    pipeline=pipe,\n",
    "    model_kwargs={\n",
    "        \"temperature\": 0.0,        \n",
    "        \"do_sample\": False        \n",
    "    }\n",
    ")"
   ]
  },
  {
   "cell_type": "markdown",
   "id": "d8a97306",
   "metadata": {},
   "source": [
    "# Prompt"
   ]
  },
  {
   "cell_type": "code",
   "execution_count": 91,
   "id": "125427e8",
   "metadata": {},
   "outputs": [],
   "source": [
    "token_start, token_end = \"<|begin_of_text|><|start_header_id|>system<|end_header_id|>\", \"<|eot_id|><|start_header_id|>assistant<|end_header_id|>\"\n",
    "\n",
    "template = \"\"\"\n",
    "Você é um assistente educacional que retorna competências empreendedoras.\n",
    "\n",
    "O usuário fornecerá os dados de uma aula em formato estruturado, incluindo:\n",
    "**Disciplina**;\n",
    "**Conteúdo**;\n",
    "**Objetivo da Aula**.\n",
    "\n",
    "Com base no documento (que está no contexto abaixo), identifique **três competências empreendedoras** que se relacionam diretamente com essa aula.\n",
    "Traga somente 3 competências empreendedoras que estão no documento abaixo e somente do documento (que está no contexto abaixo).\n",
    "Retorne apenas os nomes das competências, entre a primeira e a segunda separados por vírgula, e entre a segunda e a terceira separada por 'e'. \\n\\n\n",
    "\n",
    "Exemplo: \\n\n",
    "Pergunta: \"**Disciplina** <Matemática>, sendo o **Conteúdo** <Frações> e o **Objetivo da Aula** é <Calcular juros>.\" \\n\n",
    "Resposta: Identificar oportunidades, Mobilização de recursos e Educação financeira e econômica. \\n\\n\n",
    "\n",
    "Contexto: {context} \\n\\n\n",
    "Pergunta: {input}\n",
    "\"\"\"\n",
    "\n",
    "prompt = ChatPromptTemplate.from_template(token_start + template + token_end)"
   ]
  },
  {
   "cell_type": "markdown",
   "id": "b200f1f7",
   "metadata": {},
   "source": [
    "# Chain"
   ]
  },
  {
   "cell_type": "code",
   "execution_count": 92,
   "id": "379c4503",
   "metadata": {},
   "outputs": [],
   "source": [
    "documents_chain = create_stuff_documents_chain(\n",
    "    llm, \n",
    "    prompt\n",
    ")\n",
    "\n",
    "retriver_chain = create_retrieval_chain(\n",
    "    retriever=vectordb.as_retriever(search_type=\"mmr\"), \n",
    "    combine_docs_chain=documents_chain\n",
    ")"
   ]
  },
  {
   "cell_type": "markdown",
   "id": "7b41a6f0",
   "metadata": {},
   "source": [
    "# Question"
   ]
  },
  {
   "cell_type": "code",
   "execution_count": null,
   "id": "83e2b727",
   "metadata": {},
   "outputs": [],
   "source": [
    "# question = \"**Disciplina** <Matemática>, sendo o **Conteúdo** <Frações> e o **Objetivo da Aula** é <Utilização para calcular taxa de juros>.\""
   ]
  },
  {
   "cell_type": "markdown",
   "id": "0f8d5ef1",
   "metadata": {},
   "source": [
    "# Answer"
   ]
  },
  {
   "cell_type": "code",
   "execution_count": null,
   "id": "ab2f35eb",
   "metadata": {},
   "outputs": [
    {
     "name": "stderr",
     "output_type": "stream",
     "text": [
      "Setting `pad_token_id` to `eos_token_id`:128001 for open-end generation.\n"
     ]
    },
    {
     "data": {
      "text/plain": [
       "{'input': '**Disciplina** <Matemática>, sendo o **Conteúdo** <Frações> e o **Objetivo da Aula** é <Utilização para calcular taxa de juros>.',\n",
       " 'context': [Document(id='6894c25f-72d8-44c5-aaa6-9da0b9038f61', metadata={'producer': 'Microsoft® Word para Microsoft 365', 'creator': 'Microsoft® Word para Microsoft 365', 'creationdate': '2025-04-28T16:59:30-03:00', 'author': 'Roselaine Monteiro Moraes', 'moddate': '2025-04-28T16:59:30-03:00', 'source': '../pdf/entrecomp.pdf', 'total_pages': 2, 'page': 0, 'page_label': '1'}, page_content='Pensamento ético e sustentável: é pensar nos resultados e no impacto das \\nideias, oportunidades e ações. Avaliar os resultados de ideias que trazem valor e o \\nefeito de ações empreendedoras na comunidade, no mercado, na sociedade e em \\ncontextos específicos. Refletir sobre quais são os objetivos sustentáveis de longo prazo \\na nível social, cultural e econômico, e sobre o caminho a ser seguido, agindo de forma \\nresponsável e ética. \\n \\nConsciência de si e autoeficácia: acreditar em si mesmo e procurar o \\ndesenvolvimento contínuo, refletir sobre os seus desejos, necessidades e \\naspirações a curto, médio e longo prazo, identificar e avaliar as forças \\ne as fraquezas individuais e coletivas e acreditar na capacidade para \\ninfluenciar o curso dos acontecimentos, apesar da incerteza, das contrariedades e dos \\npossíveis obstáculos. \\n \\nMotivação e perseverança: é manter o foco e não desistir! Ser determinado'),\n",
       "  Document(id='1ac22847-7349-467f-b8e2-26479b642ee2', metadata={'producer': 'Microsoft® Word para Microsoft 365', 'creator': 'Microsoft® Word para Microsoft 365', 'creationdate': '2025-04-28T16:59:30-03:00', 'author': 'Roselaine Monteiro Moraes', 'moddate': '2025-04-28T16:59:30-03:00', 'source': '../pdf/entrecomp.pdf', 'total_pages': 2, 'page': 1, 'page_label': '2'}, page_content='organizar e acompanhar. Definir objetivos de longo, médio e curto prazo, definindo \\nprioridades e planos de ação, adaptando-se quando necessário à mudanças imprevistas. \\n \\nLidar com a incerteza: a ambiguidade e o risco é tomar decisões mesmo quando \\nos seus resultados são incertos, quando a informação disponível é parcial ou ambígua, \\nou quando existe um risco de resultados indesejados. No processo de criação de valor, \\nincluir formas estruturadas de testar ideias e protótipos desde as etapas iniciais, \\npara reduzir os riscos de falhar. É saber lidar com situações imprevisíveis de forma \\nrápida e flexível. \\n \\nTrabalhar em equipe: é colaborar e criar redes, trabalhar em conjunto e \\ncooperar com outros para desenvolver ideias e colocá-las em prática. É saber resolver \\nconflitos e enfrentar a concorrência de forma positiva sempre que necessário. \\n \\nAprender com a experiência: é aprender fazendo. Usar o máximo de iniciativas'),\n",
       "  Document(id='3be43649-0601-44e9-b7f2-ed0b3b5d34b5', metadata={'producer': 'Microsoft® Word para Microsoft 365', 'creator': 'Microsoft® Word para Microsoft 365', 'creationdate': '2025-04-28T16:59:30-03:00', 'author': 'Roselaine Monteiro Moraes', 'moddate': '2025-04-28T16:59:30-03:00', 'source': '../pdf/entrecomp.pdf', 'total_pages': 2, 'page': 1, 'page_label': '2'}, page_content='Aprender com a experiência: é aprender fazendo. Usar o máximo de iniciativas \\npara a criação de valor como uma oportunidade de aprendizagem. Aprender com os \\noutros, incluindo os pares e os mentores. É refletir e aprender com os sucessos e com \\nos fracassos, tanto os nossos como os dos outros.'),\n",
       "  Document(id='78e10d02-24fa-4230-bfe1-6cbd673e380e', metadata={'producer': 'Microsoft® Word para Microsoft 365', 'creator': 'Microsoft® Word para Microsoft 365', 'creationdate': '2025-04-28T16:59:30-03:00', 'author': 'Roselaine Monteiro Moraes', 'moddate': '2025-04-28T16:59:30-03:00', 'source': '../pdf/entrecomp.pdf', 'total_pages': 2, 'page': 0, 'page_label': '1'}, page_content='possíveis obstáculos. \\n \\nMotivação e perseverança: é manter o foco e não desistir! Ser determinado \\npara transformar ideias em ações e satisfazer a necessidade de chegar mais longe, estar \\npreparado para ser paciente e continuar a tentar alcançar os objetivos de longo prazo, \\nquer sejam individuais quer de grupo. É ser resiliente sob pressão e perante \\nadversidades e problemas. \\n \\nMobilização de recursos: é reunir e gerir os recursos necessários para \\ntransformar \\nideias em ações, fazendo o máximo com recursos mínimos. É obter e gerir as \\ncompetências necessárias em diferentes etapas, incluindo competências técnicas, \\nlegais, financeiras e digitais.')],\n",
       " 'answer': '\\n\\nIdentificar oportunidades, Mobilização de recursos e Educação financeira e econômica.'}"
      ]
     },
     "execution_count": 94,
     "metadata": {},
     "output_type": "execute_result"
    }
   ],
   "source": [
    "# retriver_chain.invoke({\"input\": question})"
   ]
  }
 ],
 "metadata": {
  "kernelspec": {
   "display_name": "venv (3.12.4)",
   "language": "python",
   "name": "python3"
  },
  "language_info": {
   "codemirror_mode": {
    "name": "ipython",
    "version": 3
   },
   "file_extension": ".py",
   "mimetype": "text/x-python",
   "name": "python",
   "nbconvert_exporter": "python",
   "pygments_lexer": "ipython3",
   "version": "3.12.4"
  }
 },
 "nbformat": 4,
 "nbformat_minor": 5
}
