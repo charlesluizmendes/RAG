{
 "cells": [
  {
   "cell_type": "code",
   "execution_count": 41,
   "id": "5772e781",
   "metadata": {},
   "outputs": [],
   "source": [
    "import os\n",
    "import torch\n",
    "\n",
    "from dotenv import load_dotenv\n",
    "\n",
    "from langchain_community.document_loaders.pdf import PyPDFLoader\n",
    "from langchain_text_splitters import RecursiveCharacterTextSplitter\n",
    "from langchain_huggingface import HuggingFaceEmbeddings\n",
    "from langchain.vectorstores import FAISS\n",
    "\n",
    "from transformers import BitsAndBytesConfig, AutoModelForCausalLM, AutoTokenizer, pipeline\n",
    "from langchain_huggingface import HuggingFacePipeline\n",
    "\n",
    "from langchain_core.prompts import ChatPromptTemplate\n",
    "from langchain.chains import create_retrieval_chain\n",
    "from langchain.chains.combine_documents import create_stuff_documents_chain"
   ]
  },
  {
   "cell_type": "markdown",
   "id": "349b735a",
   "metadata": {},
   "source": [
    "# Variables"
   ]
  },
  {
   "cell_type": "code",
   "execution_count": 42,
   "id": "fde555b1",
   "metadata": {},
   "outputs": [
    {
     "data": {
      "text/plain": [
       "True"
      ]
     },
     "execution_count": 42,
     "metadata": {},
     "output_type": "execute_result"
    }
   ],
   "source": [
    "load_dotenv()"
   ]
  },
  {
   "cell_type": "code",
   "execution_count": 43,
   "id": "58a9e753",
   "metadata": {},
   "outputs": [],
   "source": [
    "file = os.getenv(\"FILE\")\n",
    "persist_directory = os.getenv(\"PERSIST_DIRECTORY\") + \"/faiss\"\n",
    "token = os.getenv(\"TOKEN\")\n",
    "model_id = os.getenv(\"MODEL_ID\")\n",
    "model_name = os.getenv(\"MODEL_NAME\")"
   ]
  },
  {
   "cell_type": "markdown",
   "id": "affefad4",
   "metadata": {},
   "source": [
    "# PDFLoader"
   ]
  },
  {
   "cell_type": "code",
   "execution_count": 44,
   "id": "f02ce152",
   "metadata": {},
   "outputs": [],
   "source": [
    "loader = PyPDFLoader(file)\n",
    "file = loader.load()"
   ]
  },
  {
   "cell_type": "markdown",
   "id": "38c7a2e0",
   "metadata": {},
   "source": [
    "# Recursive TextSplit"
   ]
  },
  {
   "cell_type": "code",
   "execution_count": 45,
   "id": "50f3f0ff",
   "metadata": {},
   "outputs": [],
   "source": [
    "recur_split = RecursiveCharacterTextSplitter(\n",
    "    chunk_size=1000,\n",
    "    chunk_overlap=150\n",
    ")"
   ]
  },
  {
   "cell_type": "code",
   "execution_count": 46,
   "id": "414d4c9b",
   "metadata": {},
   "outputs": [],
   "source": [
    "documents = recur_split.split_documents(file)"
   ]
  },
  {
   "cell_type": "markdown",
   "id": "2dee313a",
   "metadata": {},
   "source": [
    "# Embeddings (HuggingFace)"
   ]
  },
  {
   "cell_type": "code",
   "execution_count": 47,
   "id": "c34e8483",
   "metadata": {},
   "outputs": [],
   "source": [
    "embedding = HuggingFaceEmbeddings(\n",
    "    model_name=model_name, \n",
    "    model_kwargs={'device': 'cuda:0'}, \n",
    "    encode_kwargs={'normalize_embeddings': False}\n",
    ")"
   ]
  },
  {
   "cell_type": "markdown",
   "id": "eaae481d",
   "metadata": {},
   "source": [
    "# Vector Store"
   ]
  },
  {
   "cell_type": "code",
   "execution_count": 48,
   "id": "249c3cc3",
   "metadata": {},
   "outputs": [],
   "source": [
    "vectordb = FAISS.from_documents(\n",
    "    documents=documents, \n",
    "    embedding=embedding\n",
    ")\n",
    "\n",
    "vectordb.save_local(persist_directory)"
   ]
  },
  {
   "cell_type": "markdown",
   "id": "aca9c5b3",
   "metadata": {},
   "source": [
    "# LLM (HuggingFace)"
   ]
  },
  {
   "cell_type": "code",
   "execution_count": 49,
   "id": "cadf0183",
   "metadata": {},
   "outputs": [
    {
     "name": "stderr",
     "output_type": "stream",
     "text": [
      "Loading checkpoint shards: 100%|██████████| 2/2 [00:05<00:00,  2.87s/it]\n",
      "Device set to use cuda:0\n"
     ]
    }
   ],
   "source": [
    "quantization_config = BitsAndBytesConfig(\n",
    "    load_in_4bit=True, \n",
    "    bnb_4bit_use_double_quant=True, \n",
    "    bnb_4bit_quant_type=\"nf4\", \n",
    "    bnb_4bit_compute_dtype=torch.bfloat16\n",
    ")\n",
    "\n",
    "model = AutoModelForCausalLM.from_pretrained(\n",
    "    model_id,\n",
    "    token=token,\n",
    "    quantization_config=quantization_config    \n",
    ")\n",
    "\n",
    "tokenizer = AutoTokenizer.from_pretrained(\n",
    "    model_id,\n",
    "    token=token    \n",
    ")\n",
    "\n",
    "pipe = pipeline(\n",
    "    model=model, \n",
    "    tokenizer=tokenizer, \n",
    "    task=\"text-generation\",\n",
    "    return_full_text=False\n",
    ")\n",
    "\n",
    "llm = HuggingFacePipeline(\n",
    "    pipeline=pipe,\n",
    "    model_kwargs={\n",
    "        \"temperature\": 0.0,        \n",
    "        \"do_sample\": False        \n",
    "    }\n",
    ")"
   ]
  },
  {
   "cell_type": "markdown",
   "id": "d8a97306",
   "metadata": {},
   "source": [
    "# Prompt"
   ]
  },
  {
   "cell_type": "code",
   "execution_count": 50,
   "id": "125427e8",
   "metadata": {},
   "outputs": [],
   "source": [
    "token_start, token_end = \"<|begin_of_text|><|start_header_id|>system<|end_header_id|>\", \"<|eot_id|><|start_header_id|>assistant<|end_header_id|>\"\n",
    "\n",
    "template = \"\"\"\n",
    "Você é um assistente educacional que retorna competências empreendedoras.\n",
    "\n",
    "O usuário fornecerá os dados de uma aula em formato estruturado, incluindo:\n",
    "**Disciplina**;\n",
    "**Conteúdo**;\n",
    "**Objetivo da Aula**.\n",
    "\n",
    "Com base no documento (que está no contexto abaixo), identifique **três competências empreendedoras** que se relacionam diretamente com essa aula.\n",
    "Traga somente 3 competências empreendedoras que estão no documento abaixo e somente do documento (que está no contexto abaixo).\n",
    "Retorne apenas os nomes das competências, entre a primeira e a segunda separados por vírgula, e entre a segunda e a terceira separada por 'e'. \\n\\n\n",
    "\n",
    "Exemplo: \\n\n",
    "Pergunta: \"**Disciplina** <Matemática>, sendo o **Conteúdo** <Frações> e o **Objetivo da Aula** é <Calcular juros>.\" \\n\n",
    "Resposta: Identificar oportunidades, Mobilização de recursos e Educação financeira e econômica. \\n\\n\n",
    "\n",
    "Contexto: {context} \\n\\n\n",
    "Pergunta: {input}\n",
    "\"\"\"\n",
    "\n",
    "prompt = ChatPromptTemplate.from_template(token_start + template + token_end)"
   ]
  },
  {
   "cell_type": "markdown",
   "id": "b200f1f7",
   "metadata": {},
   "source": [
    "# Chain"
   ]
  },
  {
   "cell_type": "code",
   "execution_count": 51,
   "id": "379c4503",
   "metadata": {},
   "outputs": [],
   "source": [
    "documents_chain = create_stuff_documents_chain(\n",
    "    llm, \n",
    "    prompt\n",
    ")\n",
    "\n",
    "retriver_chain = create_retrieval_chain(\n",
    "    retriever=vectordb.as_retriever(search_type=\"mmr\"), \n",
    "    combine_docs_chain=documents_chain\n",
    ")"
   ]
  },
  {
   "cell_type": "markdown",
   "id": "7b41a6f0",
   "metadata": {},
   "source": [
    "# Question"
   ]
  },
  {
   "cell_type": "code",
   "execution_count": null,
   "id": "83e2b727",
   "metadata": {},
   "outputs": [],
   "source": [
    "# question = \"**Disciplina** <Matemática>, sendo o **Conteúdo** <Frações> e o **Objetivo da Aula** é <Utilização para calcular taxa de juros>.\""
   ]
  },
  {
   "cell_type": "markdown",
   "id": "0f8d5ef1",
   "metadata": {},
   "source": [
    "# Answer"
   ]
  },
  {
   "cell_type": "code",
   "execution_count": 53,
   "id": "ab2f35eb",
   "metadata": {},
   "outputs": [
    {
     "name": "stderr",
     "output_type": "stream",
     "text": [
      "Setting `pad_token_id` to `eos_token_id`:128001 for open-end generation.\n"
     ]
    }
   ],
   "source": [
    "# answer = retriver_chain.invoke({\"input\": question})"
   ]
  },
  {
   "cell_type": "code",
   "execution_count": 54,
   "id": "f4682017",
   "metadata": {},
   "outputs": [
    {
     "name": "stdout",
     "output_type": "stream",
     "text": [
      "\n",
      "\n",
      "Identificar oportunidades, Mobilização de recursos, Educação financeira e econômica.\n"
     ]
    }
   ],
   "source": [
    "# print(answer[\"answer\"])"
   ]
  }
 ],
 "metadata": {
  "kernelspec": {
   "display_name": "venv (3.12.4)",
   "language": "python",
   "name": "python3"
  },
  "language_info": {
   "codemirror_mode": {
    "name": "ipython",
    "version": 3
   },
   "file_extension": ".py",
   "mimetype": "text/x-python",
   "name": "python",
   "nbconvert_exporter": "python",
   "pygments_lexer": "ipython3",
   "version": "3.12.4"
  }
 },
 "nbformat": 4,
 "nbformat_minor": 5
}
