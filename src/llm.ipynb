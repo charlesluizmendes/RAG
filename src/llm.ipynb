{
 "cells": [
  {
   "cell_type": "code",
   "execution_count": null,
   "id": "6aa91ba4",
   "metadata": {},
   "outputs": [],
   "source": [
    "import os\n",
    "from dotenv import load_dotenv\n",
    "\n",
    "from langchain_openai import OpenAIEmbeddings\n",
    "import numpy as np"
   ]
  },
  {
   "cell_type": "code",
   "execution_count": null,
   "id": "e12a14f2",
   "metadata": {},
   "outputs": [],
   "source": [
    "load_dotenv(override=True)\n",
    "\n",
    "os.environ.get(\"OPENAI_API_KEY\")"
   ]
  },
  {
   "cell_type": "code",
   "execution_count": null,
   "id": "421108b1",
   "metadata": {},
   "outputs": [],
   "source": [
    "embedding_model = OpenAIEmbeddings()"
   ]
  },
  {
   "cell_type": "code",
   "execution_count": null,
   "id": "50bf37ff",
   "metadata": {},
   "outputs": [],
   "source": [
    "embeddings = embedding_model.embed_documents(\n",
    "    [\n",
    "        \"Eu gosto de cachorro\",\n",
    "        \"Eu gosto de animais\",\n",
    "        \"Hoje a tarde está chovendo\"\n",
    "    ]\n",
    ")"
   ]
  },
  {
   "cell_type": "code",
   "execution_count": null,
   "id": "f059f56d",
   "metadata": {},
   "outputs": [],
   "source": [
    "len(embeddings)"
   ]
  },
  {
   "cell_type": "code",
   "execution_count": null,
   "id": "30b1ac88",
   "metadata": {},
   "outputs": [],
   "source": [
    "embeddings[0][:10]"
   ]
  },
  {
   "cell_type": "code",
   "execution_count": null,
   "id": "47d79a0f",
   "metadata": {},
   "outputs": [],
   "source": [
    "len(embeddings[0])"
   ]
  },
  {
   "cell_type": "markdown",
   "id": "67bece03",
   "metadata": {},
   "source": [
    "# Verificar Proximidade Semantica"
   ]
  },
  {
   "cell_type": "code",
   "execution_count": null,
   "id": "41381981",
   "metadata": {},
   "outputs": [],
   "source": [
    "np.dot(embeddings[0], embeddings[1])"
   ]
  },
  {
   "cell_type": "code",
   "execution_count": null,
   "id": "ba2ae051",
   "metadata": {},
   "outputs": [],
   "source": [
    "np.dot(embeddings[0], embeddings[2])"
   ]
  },
  {
   "cell_type": "code",
   "execution_count": null,
   "id": "8de6e94f",
   "metadata": {},
   "outputs": [],
   "source": [
    "np.dot(embeddings[1], embeddings[2])"
   ]
  },
  {
   "cell_type": "markdown",
   "id": "8845b861",
   "metadata": {},
   "source": [
    "# Matriz de Confusao\n",
    "\n",
    "## Verificar similaridade entre as frases"
   ]
  },
  {
   "cell_type": "code",
   "execution_count": null,
   "id": "519d979b",
   "metadata": {},
   "outputs": [],
   "source": [
    "for i in range(len(embeddings)):\n",
    "    for j in range(len(embeddings)):\n",
    "        print(round(np.dot(embeddings[i], embeddings[j]), 2), end=\" | \")\n",
    "    print()"
   ]
  },
  {
   "cell_type": "markdown",
   "id": "17e5dee0",
   "metadata": {},
   "source": [
    "# "
   ]
  },
  {
   "cell_type": "code",
   "execution_count": null,
   "id": "2a4ea5ad",
   "metadata": {},
   "outputs": [],
   "source": [
    "question = \"O que é um cachorro?\"\n",
    "emb_query = embedding_model.embed_query(question)\n",
    "emb_query[:10]"
   ]
  }
 ],
 "metadata": {
  "kernelspec": {
   "display_name": "venv (3.12.4)",
   "language": "python",
   "name": "python3"
  },
  "language_info": {
   "codemirror_mode": {
    "name": "ipython",
    "version": 3
   },
   "file_extension": ".py",
   "mimetype": "text/x-python",
   "name": "python",
   "nbconvert_exporter": "python",
   "pygments_lexer": "ipython3",
   "version": "3.12.4"
  }
 },
 "nbformat": 4,
 "nbformat_minor": 5
}
