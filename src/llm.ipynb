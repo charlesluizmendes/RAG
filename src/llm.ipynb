{
 "cells": [
  {
   "cell_type": "code",
   "execution_count": null,
   "id": "6aa91ba4",
   "metadata": {},
   "outputs": [],
   "source": [
    "import os\n",
    "import string\n",
    "from dotenv import load_dotenv\n",
    "\n",
    "from langchain_text_splitters import CharacterTextSplitter\n",
    "from langchain_text_splitters import RecursiveCharacterTextSplitter\n",
    "from langchain_text_splitters import TokenTextSplitter\n",
    "from langchain_community.document_loaders.pdf import PyPDFLoader\n",
    "from langchain_text_splitters import RecursiveCharacterTextSplitter\n",
    "from langchain_community.document_loaders.pdf import PyPDFLoader"
   ]
  },
  {
   "cell_type": "code",
   "execution_count": null,
   "id": "e12a14f2",
   "metadata": {},
   "outputs": [],
   "source": [
    "load_dotenv(override=True)\n",
    "\n",
    "os.environ.get(\"OPENAI_API_KEY\")"
   ]
  },
  {
   "cell_type": "code",
   "execution_count": null,
   "id": "06b95a43",
   "metadata": {},
   "outputs": [],
   "source": [
    "texto_completo = \"\"\"\n",
    "Python é uma linguagem de programação de alto nível conhecida por sua simplicidade, \n",
    "legibilidade e versatilidade. Seu design foi criado com o objetivo de ser fácil de \n",
    "aprender e usar, permitindo que programadores escrevam código de maneira mais \n",
    "intuitiva e eficiente. Ao contrário de outras linguagens, Python prioriza a \n",
    "legibilidade do código, o que facilita a compreensão e manutenção do software, \n",
    "mesmo por programadores que não são os autores do código original. \n",
    "Sua sintaxe clara, por exemplo, elimina a necessidade de muitos símbolos ou \n",
    "palavras-chave complicadas, tornando o código mais próximo da linguagem humana.\n",
    "\"\"\""
   ]
  },
  {
   "cell_type": "code",
   "execution_count": null,
   "id": "1399d750",
   "metadata": {},
   "outputs": [],
   "source": [
    "chunk_size = 50\n",
    "chunk_overlap = 0\n",
    "char_split = CharacterTextSplitter(\n",
    "    chunk_size=chunk_size,\n",
    "    chunk_overlap=chunk_overlap\n",
    ")"
   ]
  },
  {
   "cell_type": "code",
   "execution_count": null,
   "id": "8d386074",
   "metadata": {},
   "outputs": [],
   "source": [
    "texto = \"\".join(f\"{string.ascii_lowercase}\" for _ in range(5))"
   ]
  },
  {
   "cell_type": "code",
   "execution_count": null,
   "id": "307570f2",
   "metadata": {},
   "outputs": [],
   "source": [
    "len(texto)"
   ]
  },
  {
   "cell_type": "code",
   "execution_count": null,
   "id": "708dfbd3",
   "metadata": {},
   "outputs": [],
   "source": [
    "texto"
   ]
  },
  {
   "cell_type": "code",
   "execution_count": null,
   "id": "312f13b2",
   "metadata": {},
   "outputs": [],
   "source": [
    "split = char_split.split_text(texto)"
   ]
  },
  {
   "cell_type": "code",
   "execution_count": null,
   "id": "4081254d",
   "metadata": {},
   "outputs": [],
   "source": [
    "len(split)"
   ]
  },
  {
   "cell_type": "code",
   "execution_count": null,
   "id": "70dfe533",
   "metadata": {},
   "outputs": [],
   "source": [
    "split"
   ]
  },
  {
   "cell_type": "code",
   "execution_count": null,
   "id": "427ee26d",
   "metadata": {},
   "outputs": [],
   "source": [
    "char_split = CharacterTextSplitter(\n",
    "    chunk_size=chunk_size,\n",
    "    chunk_overlap=chunk_overlap,\n",
    "    separator=\"\"\n",
    ")"
   ]
  },
  {
   "cell_type": "code",
   "execution_count": null,
   "id": "edbc13a9",
   "metadata": {},
   "outputs": [],
   "source": [
    "split = char_split.split_text(texto)"
   ]
  },
  {
   "cell_type": "code",
   "execution_count": null,
   "id": "42bb6d34",
   "metadata": {},
   "outputs": [],
   "source": [
    "len(split)"
   ]
  },
  {
   "cell_type": "code",
   "execution_count": null,
   "id": "d4541ad0",
   "metadata": {},
   "outputs": [],
   "source": [
    "split"
   ]
  },
  {
   "cell_type": "code",
   "execution_count": null,
   "id": "88bb7466",
   "metadata": {},
   "outputs": [],
   "source": [
    "chunk_size = 50\n",
    "chunk_overlap = 0\n",
    "char_split = CharacterTextSplitter(\n",
    "    chunk_size=chunk_size,\n",
    "    chunk_overlap=chunk_overlap,\n",
    "    separator=\"\"\n",
    ")"
   ]
  },
  {
   "cell_type": "code",
   "execution_count": null,
   "id": "2ffcdea0",
   "metadata": {},
   "outputs": [],
   "source": [
    "split = char_split.split_text(texto_completo)"
   ]
  },
  {
   "cell_type": "code",
   "execution_count": null,
   "id": "8978f249",
   "metadata": {},
   "outputs": [],
   "source": [
    "len(split)"
   ]
  },
  {
   "cell_type": "code",
   "execution_count": null,
   "id": "c2041f76",
   "metadata": {},
   "outputs": [],
   "source": [
    "split"
   ]
  },
  {
   "cell_type": "markdown",
   "id": "9119c1cd",
   "metadata": {},
   "source": [
    "# TextSplit Recursive"
   ]
  },
  {
   "cell_type": "code",
   "execution_count": null,
   "id": "f1c76a2e",
   "metadata": {},
   "outputs": [],
   "source": [
    "chunk_size = 50\n",
    "chunk_overlap = 10\n",
    "char_split = RecursiveCharacterTextSplitter(\n",
    "    chunk_size=chunk_size,\n",
    "    chunk_overlap=chunk_overlap,\n",
    "    separators=[\".\", \" \", \"\"]\n",
    ")"
   ]
  },
  {
   "cell_type": "code",
   "execution_count": null,
   "id": "5bd0f922",
   "metadata": {},
   "outputs": [],
   "source": [
    "split = char_split.split_text(texto)"
   ]
  },
  {
   "cell_type": "code",
   "execution_count": null,
   "id": "1e0a40fa",
   "metadata": {},
   "outputs": [],
   "source": [
    "len(split)"
   ]
  },
  {
   "cell_type": "code",
   "execution_count": null,
   "id": "da8226a1",
   "metadata": {},
   "outputs": [],
   "source": [
    "split"
   ]
  },
  {
   "cell_type": "code",
   "execution_count": null,
   "id": "f6e78a51",
   "metadata": {},
   "outputs": [],
   "source": [
    "chunk_size = 250\n",
    "chunk_overlap = 10\n",
    "char_split = RecursiveCharacterTextSplitter(\n",
    "    chunk_size=chunk_size,\n",
    "    chunk_overlap=chunk_overlap,\n",
    "    separators=[\"\\n\\n\",\"\\n\", \" \", \"\"]\n",
    ")"
   ]
  },
  {
   "cell_type": "code",
   "execution_count": null,
   "id": "e8878fc5",
   "metadata": {},
   "outputs": [],
   "source": [
    "split = char_split.split_text(texto_completo)"
   ]
  },
  {
   "cell_type": "code",
   "execution_count": null,
   "id": "2085ca9d",
   "metadata": {},
   "outputs": [],
   "source": [
    "len(split)"
   ]
  },
  {
   "cell_type": "code",
   "execution_count": null,
   "id": "26254233",
   "metadata": {},
   "outputs": [],
   "source": [
    "split"
   ]
  },
  {
   "cell_type": "markdown",
   "id": "daccca6e",
   "metadata": {},
   "source": [
    "# TextSplit Tokenizer"
   ]
  },
  {
   "cell_type": "code",
   "execution_count": null,
   "id": "b55a42d2",
   "metadata": {},
   "outputs": [],
   "source": [
    "chunk_size = 50\n",
    "chunk_overlap = 5\n",
    "char_split = TokenTextSplitter(\n",
    "    chunk_size=chunk_size,\n",
    "    chunk_overlap=chunk_overlap\n",
    ")"
   ]
  },
  {
   "cell_type": "code",
   "execution_count": null,
   "id": "f50992b4",
   "metadata": {},
   "outputs": [],
   "source": [
    "split = char_split.split_text(texto)"
   ]
  },
  {
   "cell_type": "code",
   "execution_count": null,
   "id": "b2867a72",
   "metadata": {},
   "outputs": [],
   "source": [
    "len(split)"
   ]
  },
  {
   "cell_type": "code",
   "execution_count": null,
   "id": "5660b0b5",
   "metadata": {},
   "outputs": [],
   "source": [
    "split"
   ]
  },
  {
   "cell_type": "markdown",
   "id": "3164ddce",
   "metadata": {},
   "source": [
    "# TextSplit Recursive PDFLoader"
   ]
  },
  {
   "cell_type": "code",
   "execution_count": null,
   "id": "7c51ea15",
   "metadata": {},
   "outputs": [],
   "source": [
    "chunk_size = 50\n",
    "chunk_overlap = 10\n",
    "\n",
    "char_split = RecursiveCharacterTextSplitter(\n",
    "    chunk_size=chunk_size,\n",
    "    chunk_overlap=chunk_overlap\n",
    ")"
   ]
  },
  {
   "cell_type": "code",
   "execution_count": null,
   "id": "cc0b38a5",
   "metadata": {},
   "outputs": [],
   "source": [
    "file = \"D:\\Visual Code\\RAG\\pdf\\entrecomp.pdf\"\n",
    "loader = PyPDFLoader(file)\n",
    "document = loader.load()"
   ]
  },
  {
   "cell_type": "code",
   "execution_count": null,
   "id": "b7b454a1",
   "metadata": {},
   "outputs": [],
   "source": [
    "split = char_split.split_documents(document)"
   ]
  },
  {
   "cell_type": "code",
   "execution_count": null,
   "id": "34798b7e",
   "metadata": {},
   "outputs": [],
   "source": [
    "len(split)"
   ]
  }
 ],
 "metadata": {
  "kernelspec": {
   "display_name": "venv (3.12.4)",
   "language": "python",
   "name": "python3"
  },
  "language_info": {
   "codemirror_mode": {
    "name": "ipython",
    "version": 3
   },
   "file_extension": ".py",
   "mimetype": "text/x-python",
   "name": "python",
   "nbconvert_exporter": "python",
   "pygments_lexer": "ipython3",
   "version": "3.12.4"
  }
 },
 "nbformat": 4,
 "nbformat_minor": 5
}
