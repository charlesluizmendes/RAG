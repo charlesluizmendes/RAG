{
 "cells": [
  {
   "cell_type": "code",
   "execution_count": 102,
   "id": "7da12039",
   "metadata": {},
   "outputs": [],
   "source": [
    "import os\n",
    "from dotenv import load_dotenv\n",
    "from langchain_community.document_loaders.pdf import PyPDFLoader\n",
    "from langchain_text_splitters import RecursiveCharacterTextSplitter\n",
    "from langchain_community.vectorstores.chroma import Chroma\n",
    "from langchain_openai import OpenAIEmbeddings\n",
    "from langchain_openai.chat_models import ChatOpenAI\n",
    "from langchain.chains.retrieval_qa.base import RetrievalQA\n",
    "from langchain.prompts import PromptTemplate\n",
    "from langchain.globals import set_debug"
   ]
  },
  {
   "cell_type": "markdown",
   "id": "8e84e7a7",
   "metadata": {},
   "source": [
    "# Variables"
   ]
  },
  {
   "cell_type": "code",
   "execution_count": 103,
   "id": "775df766",
   "metadata": {},
   "outputs": [
    {
     "data": {
      "text/plain": [
       "True"
      ]
     },
     "execution_count": 103,
     "metadata": {},
     "output_type": "execute_result"
    }
   ],
   "source": [
    "load_dotenv(override=True)"
   ]
  },
  {
   "cell_type": "code",
   "execution_count": 104,
   "id": "501c0e43",
   "metadata": {},
   "outputs": [],
   "source": [
    "api_key = os.getenv(\"OPENAI_API_KEY\")\n",
    "files = [os.getenv(\"SOURCE_PDF\")]\n",
    "pages = []\n",
    "store = os.getenv(\"SOURCE_STORE\")"
   ]
  },
  {
   "cell_type": "markdown",
   "id": "6e76f60a",
   "metadata": {},
   "source": [
    "# Files"
   ]
  },
  {
   "cell_type": "code",
   "execution_count": 105,
   "id": "9c4c719d",
   "metadata": {},
   "outputs": [],
   "source": [
    "for file in files:\n",
    "    loader = PyPDFLoader(file)\n",
    "    pages.extend(loader.load())"
   ]
  },
  {
   "cell_type": "markdown",
   "id": "6a9258fa",
   "metadata": {},
   "source": [
    "# Recursive TextSplit"
   ]
  },
  {
   "cell_type": "code",
   "execution_count": 106,
   "id": "88c797d1",
   "metadata": {},
   "outputs": [],
   "source": [
    "recur_split = RecursiveCharacterTextSplitter(\n",
    "    chunk_size=500,\n",
    "    chunk_overlap=50,\n",
    "    separators=[\"\\n\\n\", \"\\n\", \".\", \" \", \"\"]\n",
    ")"
   ]
  },
  {
   "cell_type": "code",
   "execution_count": 107,
   "id": "de473534",
   "metadata": {},
   "outputs": [],
   "source": [
    "documents = recur_split.split_documents(pages)"
   ]
  },
  {
   "cell_type": "markdown",
   "id": "a1474c7b",
   "metadata": {},
   "source": [
    "# Embbiding"
   ]
  },
  {
   "cell_type": "code",
   "execution_count": 108,
   "id": "6f3d2773",
   "metadata": {},
   "outputs": [],
   "source": [
    "embeddings_model = OpenAIEmbeddings()"
   ]
  },
  {
   "cell_type": "markdown",
   "id": "3435a0f6",
   "metadata": {},
   "source": [
    "# Vector Store"
   ]
  },
  {
   "cell_type": "code",
   "execution_count": 109,
   "id": "f67a9a52",
   "metadata": {},
   "outputs": [],
   "source": [
    "vectordb = Chroma.from_documents(\n",
    "    documents=documents,\n",
    "    embedding=embeddings_model,\n",
    "    persist_directory=store\n",
    ")"
   ]
  },
  {
   "cell_type": "markdown",
   "id": "f84be063",
   "metadata": {},
   "source": [
    "# LLM"
   ]
  },
  {
   "cell_type": "code",
   "execution_count": 110,
   "id": "4b0cfe1f",
   "metadata": {},
   "outputs": [],
   "source": [
    "llm = ChatOpenAI(model=\"gpt-4o-mini\", api_key=api_key, temperature=0)"
   ]
  },
  {
   "cell_type": "markdown",
   "id": "786cc5b1",
   "metadata": {},
   "source": [
    "# Chain"
   ]
  },
  {
   "cell_type": "code",
   "execution_count": 111,
   "id": "5db53788",
   "metadata": {},
   "outputs": [],
   "source": [
    "chat_chain = RetrievalQA.from_chain_type(\n",
    "    llm=llm,\n",
    "    retriever=vectordb.as_retriever(search_type='mmr'),\n",
    ")"
   ]
  },
  {
   "cell_type": "markdown",
   "id": "2b1a08a2",
   "metadata": {},
   "source": [
    "# Question"
   ]
  },
  {
   "cell_type": "code",
   "execution_count": 112,
   "id": "eaf16c4d",
   "metadata": {},
   "outputs": [],
   "source": [
    "question = \"O que é Identificar oportunidades?\""
   ]
  },
  {
   "cell_type": "markdown",
   "id": "856f88b3",
   "metadata": {},
   "source": [
    "# Answer"
   ]
  },
  {
   "cell_type": "code",
   "execution_count": 113,
   "id": "b914cbb1",
   "metadata": {},
   "outputs": [
    {
     "data": {
      "text/plain": [
       "{'query': 'O que é Identificar oportunidades?',\n",
       " 'result': 'Identificar oportunidades é usar a sua imaginação e habilidades para visualizar oportunidades de criação de valor, como a identificação de necessidades e desafios que precisam ser atendidos.'}"
      ]
     },
     "execution_count": 113,
     "metadata": {},
     "output_type": "execute_result"
    }
   ],
   "source": [
    "chat_chain.invoke({\"query\": question})"
   ]
  },
  {
   "cell_type": "markdown",
   "id": "5c76594d",
   "metadata": {},
   "source": [
    "# Prompt"
   ]
  },
  {
   "cell_type": "code",
   "execution_count": 134,
   "id": "4d488c2c",
   "metadata": {},
   "outputs": [],
   "source": [
    "chain_prompt = PromptTemplate.from_template(\n",
    "\"\"\"\n",
    "Você é um assistente educacional.\n",
    "\n",
    "O usuário fornecerá os dados de uma aula em formato estruturado, incluindo:\n",
    "- A disciplina;\n",
    "- O conteúdo;\n",
    "- O objetivo da aula.\n",
    "\n",
    "Com base no documento ENTRECOMP (que está no contexto abaixo), identifique **três competências empreendedoras** que se relacionam diretamente com essa aula.\n",
    "Retorne apenas os **nomes das competências**, separados por vírgula e a última separada por e.\n",
    "Exemplo de formato: Visão, Pensamento ético e sustentável e Valorizar ideias.\n",
    "\n",
    "Contexto: {context}\n",
    "\n",
    "Pergunta: {question}\n",
    "\n",
    "Resposta:\n",
    "\"\"\"\n",
    ")"
   ]
  },
  {
   "cell_type": "markdown",
   "id": "d1f71af8",
   "metadata": {},
   "source": [
    "# Chain"
   ]
  },
  {
   "cell_type": "code",
   "execution_count": 135,
   "id": "18b2a3b0",
   "metadata": {},
   "outputs": [],
   "source": [
    "chat_chain = RetrievalQA.from_chain_type(\n",
    "    llm=llm,\n",
    "    retriever=vectordb.as_retriever(search_type=\"mmr\"),\n",
    "    chain_type_kwargs={\"prompt\":chain_prompt},\n",
    "    return_source_documents=True\n",
    ")"
   ]
  },
  {
   "cell_type": "markdown",
   "id": "49b81916",
   "metadata": {},
   "source": [
    "# Question"
   ]
  },
  {
   "cell_type": "code",
   "execution_count": 140,
   "id": "a266c4a3",
   "metadata": {},
   "outputs": [],
   "source": [
    "question = \"Aula de <Educação Religiosa>, sendo o conteúdo <Nomes> e o objetivo da aula é <Importância dos Nomes>.\""
   ]
  },
  {
   "cell_type": "markdown",
   "id": "4e6cdd0a",
   "metadata": {},
   "source": [
    "# Answer"
   ]
  },
  {
   "cell_type": "code",
   "execution_count": 141,
   "id": "63a42649",
   "metadata": {},
   "outputs": [
    {
     "data": {
      "text/plain": [
       "{'query': 'Aula de <Educação Religiosa>, sendo o conteúdo <Nomes> e o objetivo da aula é <Importância dos Nomes>.',\n",
       " 'result': 'Visão, Valorizar ideias e Consciência de si e autoeficácia.',\n",
       " 'source_documents': [Document(metadata={'page': 0, 'page_label': '1', 'moddate': '2025-04-28T16:59:30-03:00', 'source': 'D:\\\\Visual Code\\\\RAG\\\\pdf\\\\entrecomp.pdf', 'doc_id': 1, 'author': 'Roselaine Monteiro Moraes', 'producer': 'Microsoft® Word para Microsoft 365', 'creator': 'Microsoft® Word para Microsoft 365', 'total_pages': 2, 'creationdate': '2025-04-28T16:59:30-03:00'}, page_content='significativos. \\n \\nVisão: é trabalhar para uma visão de futuro, imaginar o futuro, desenvolver um olhar \\npara transformar ideias em ações e visualizar cenários futuros para ajudar a orientar \\nesforços e iniciativas. \\n \\nValorizar ideias: é fazer o máximo com as ideias e as oportunidades, avaliar que \\nvalor existe em termos sociais, culturais e econômicos, reconhecer o potencial de \\ncriação de valor de uma ideia e identificar formas adequadas de tirar o máximo dela.'),\n",
       "  Document(metadata={'total_pages': 2, 'source': 'D:\\\\Visual Code\\\\RAG\\\\pdf\\\\entrecomp.pdf', 'creationdate': '2025-04-28T16:59:30-03:00', 'page_label': '1', 'author': 'Roselaine Monteiro Moraes', 'moddate': '2025-04-28T16:59:30-03:00', 'producer': 'Microsoft® Word para Microsoft 365', 'page': 0, 'creator': 'Microsoft® Word para Microsoft 365'}, page_content='significativos. \\n \\nVisão: é trabalhar para uma visão de futuro, imaginar o futuro, desenvolver um olhar \\npara transformar ideias em ações e visualizar cenários futuros para ajudar a orientar \\nesforços e iniciativas. \\n \\nValorizar ideias: é fazer o máximo com as ideias e as oportunidades, avaliar que \\nvalor existe em termos sociais, culturais e econômicos, reconhecer o potencial de \\ncriação de valor de uma ideia e identificar formas adequadas de tirar o máximo dela.'),\n",
       "  Document(metadata={'page_label': '1', 'creator': 'Microsoft® Word para Microsoft 365', 'author': 'Roselaine Monteiro Moraes', 'moddate': '2025-04-28T16:59:30-03:00', 'source': '../entrecomp.pdf', 'producer': 'Microsoft® Word para Microsoft 365', 'doc_id': 1, 'total_pages': 2, 'creationdate': '2025-04-28T16:59:30-03:00', 'page': 0}, page_content='significativos. \\n \\nVisão: é trabalhar para uma visão de futuro, imaginar o futuro, desenvolver um olhar \\npara transformar ideias em ações e visualizar cenários futuros para ajudar a orientar \\nesforços e iniciativas. \\n \\nValorizar ideias: é fazer o máximo com as ideias e as oportunidades, avaliar que \\nvalor existe em termos sociais, culturais e econômicos, reconhecer o potencial de \\ncriação de valor de uma ideia e identificar formas adequadas de tirar o máximo dela.'),\n",
       "  Document(metadata={'producer': 'Microsoft® Word para Microsoft 365', 'doc_id': 3, 'total_pages': 2, 'author': 'Roselaine Monteiro Moraes', 'page': 0, 'source': '../entrecomp.pdf', 'creator': 'Microsoft® Word para Microsoft 365', 'creationdate': '2025-04-28T16:59:30-03:00', 'moddate': '2025-04-28T16:59:30-03:00', 'page_label': '1'}, page_content='responsável e ética. \\n \\nConsciência de si e autoeficácia: acreditar em si mesmo e procurar o \\ndesenvolvimento contínuo, refletir sobre os seus desejos, necessidades e \\naspirações a curto, médio e longo prazo, identificar e avaliar as forças \\ne as fraquezas individuais e coletivas e acreditar na capacidade para \\ninfluenciar o curso dos acontecimentos, apesar da incerteza, das contrariedades e dos \\npossíveis obstáculos. \\n \\nMotivação e perseverança: é manter o foco e não desistir! Ser determinado')]}"
      ]
     },
     "execution_count": 141,
     "metadata": {},
     "output_type": "execute_result"
    }
   ],
   "source": [
    "chat_chain.invoke({\"query\": question})"
   ]
  }
 ],
 "metadata": {
  "kernelspec": {
   "display_name": "venv (3.12.4)",
   "language": "python",
   "name": "python3"
  },
  "language_info": {
   "codemirror_mode": {
    "name": "ipython",
    "version": 3
   },
   "file_extension": ".py",
   "mimetype": "text/x-python",
   "name": "python",
   "nbconvert_exporter": "python",
   "pygments_lexer": "ipython3",
   "version": "3.12.4"
  }
 },
 "nbformat": 4,
 "nbformat_minor": 5
}
