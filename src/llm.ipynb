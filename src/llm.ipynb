{
 "cells": [
  {
   "cell_type": "code",
   "execution_count": 239,
   "id": "7da12039",
   "metadata": {},
   "outputs": [],
   "source": [
    "import os\n",
    "from dotenv import load_dotenv\n",
    "from langchain_community.document_loaders.pdf import PyPDFLoader\n",
    "from langchain_text_splitters import RecursiveCharacterTextSplitter\n",
    "from langchain_community.vectorstores.chroma import Chroma\n",
    "from langchain_openai import OpenAIEmbeddings\n",
    "from langchain_openai.chat_models import ChatOpenAI\n",
    "from langchain.chains.retrieval_qa.base import RetrievalQA\n",
    "from langchain.prompts import PromptTemplate\n",
    "from langchain.globals import set_debug"
   ]
  },
  {
   "cell_type": "markdown",
   "id": "8e84e7a7",
   "metadata": {},
   "source": [
    "# Variables"
   ]
  },
  {
   "cell_type": "code",
   "execution_count": 240,
   "id": "775df766",
   "metadata": {},
   "outputs": [
    {
     "data": {
      "text/plain": [
       "True"
      ]
     },
     "execution_count": 240,
     "metadata": {},
     "output_type": "execute_result"
    }
   ],
   "source": [
    "load_dotenv(override=True)"
   ]
  },
  {
   "cell_type": "code",
   "execution_count": 241,
   "id": "501c0e43",
   "metadata": {},
   "outputs": [],
   "source": [
    "api_key = os.getenv(\"OPENAI_API_KEY\")\n",
    "files = [os.getenv(\"SOURCE_PDF\")]\n",
    "pages = []\n",
    "store = os.getenv(\"SOURCE_STORE\")"
   ]
  },
  {
   "cell_type": "markdown",
   "id": "6e76f60a",
   "metadata": {},
   "source": [
    "# Files"
   ]
  },
  {
   "cell_type": "code",
   "execution_count": 242,
   "id": "9c4c719d",
   "metadata": {},
   "outputs": [],
   "source": [
    "for file in files:\n",
    "    loader = PyPDFLoader(file)\n",
    "    pages.extend(loader.load())"
   ]
  },
  {
   "cell_type": "markdown",
   "id": "6a9258fa",
   "metadata": {},
   "source": [
    "# Recursive TextSplit"
   ]
  },
  {
   "cell_type": "code",
   "execution_count": 243,
   "id": "88c797d1",
   "metadata": {},
   "outputs": [],
   "source": [
    "recur_split = RecursiveCharacterTextSplitter(\n",
    "    chunk_size=500,\n",
    "    chunk_overlap=50,\n",
    "    separators=[\"\\n\\n\", \"\\n\", \".\", \" \", \"\"]\n",
    ")"
   ]
  },
  {
   "cell_type": "code",
   "execution_count": 244,
   "id": "de473534",
   "metadata": {},
   "outputs": [],
   "source": [
    "documents = recur_split.split_documents(pages)"
   ]
  },
  {
   "cell_type": "markdown",
   "id": "a1474c7b",
   "metadata": {},
   "source": [
    "# Embbiding"
   ]
  },
  {
   "cell_type": "code",
   "execution_count": 245,
   "id": "6f3d2773",
   "metadata": {},
   "outputs": [],
   "source": [
    "embeddings_model = OpenAIEmbeddings()"
   ]
  },
  {
   "cell_type": "markdown",
   "id": "3435a0f6",
   "metadata": {},
   "source": [
    "# Vector Store"
   ]
  },
  {
   "cell_type": "code",
   "execution_count": 246,
   "id": "f67a9a52",
   "metadata": {},
   "outputs": [],
   "source": [
    "vectordb = Chroma.from_documents(\n",
    "    documents=documents,\n",
    "    embedding=embeddings_model,\n",
    "    persist_directory=store\n",
    ")"
   ]
  },
  {
   "cell_type": "markdown",
   "id": "f84be063",
   "metadata": {},
   "source": [
    "# LLM"
   ]
  },
  {
   "cell_type": "code",
   "execution_count": 247,
   "id": "4b0cfe1f",
   "metadata": {},
   "outputs": [],
   "source": [
    "llm = ChatOpenAI(model=\"gpt-4o-mini\", api_key=api_key, temperature=0)"
   ]
  },
  {
   "cell_type": "markdown",
   "id": "786cc5b1",
   "metadata": {},
   "source": [
    "# Chain"
   ]
  },
  {
   "cell_type": "code",
   "execution_count": 248,
   "id": "5db53788",
   "metadata": {},
   "outputs": [],
   "source": [
    "chat_chain = RetrievalQA.from_chain_type(\n",
    "    llm=llm,\n",
    "    retriever=vectordb.as_retriever(search_type='mmr'),\n",
    ")"
   ]
  },
  {
   "cell_type": "markdown",
   "id": "2b1a08a2",
   "metadata": {},
   "source": [
    "# Question"
   ]
  },
  {
   "cell_type": "code",
   "execution_count": 249,
   "id": "eaf16c4d",
   "metadata": {},
   "outputs": [],
   "source": [
    "question = \"O que é Identificar oportunidades?\""
   ]
  },
  {
   "cell_type": "markdown",
   "id": "856f88b3",
   "metadata": {},
   "source": [
    "# Answer"
   ]
  },
  {
   "cell_type": "code",
   "execution_count": 250,
   "id": "b914cbb1",
   "metadata": {},
   "outputs": [
    {
     "data": {
      "text/plain": [
       "{'query': 'O que é Identificar oportunidades?',\n",
       " 'result': 'Identificar oportunidades é usar a sua imaginação e as suas habilidades para visualizar oportunidades de criação de valor, como a identificação de necessidades e desafios que precisam de ser atendidos.'}"
      ]
     },
     "execution_count": 250,
     "metadata": {},
     "output_type": "execute_result"
    }
   ],
   "source": [
    "chat_chain.invoke({\"query\": question})"
   ]
  },
  {
   "cell_type": "markdown",
   "id": "5c76594d",
   "metadata": {},
   "source": [
    "# Prompt"
   ]
  },
  {
   "cell_type": "code",
   "execution_count": 251,
   "id": "4d488c2c",
   "metadata": {},
   "outputs": [],
   "source": [
    "prompt = PromptTemplate.from_template(\n",
    "\"\"\"\n",
    "Você é um assistente educacional.\n",
    "\n",
    "O usuário fornecerá os dados de uma aula em formato estruturado, incluindo:\n",
    "- A disciplina;\n",
    "- O conteúdo;\n",
    "- O objetivo da aula.\n",
    "\n",
    "Com base no documento ENTRECOMP (que está no contexto abaixo), identifique **três competências empreendedoras** que se relacionam diretamente com essa aula.\n",
    "Retorne apenas os **nomes das competências**, separados por vírgula e a última separada por e.\n",
    "Exemplo de formato: Visão, Pensamento ético e sustentável e Valorizar ideias.\n",
    "\n",
    "Contexto: {context}\n",
    "\n",
    "Pergunta: {question}\n",
    "\n",
    "Resposta:\n",
    "\"\"\"\n",
    ")"
   ]
  },
  {
   "cell_type": "markdown",
   "id": "d1f71af8",
   "metadata": {},
   "source": [
    "# Chain"
   ]
  },
  {
   "cell_type": "code",
   "execution_count": 252,
   "id": "18b2a3b0",
   "metadata": {},
   "outputs": [],
   "source": [
    "chat_chain = RetrievalQA.from_chain_type(\n",
    "    llm=llm,\n",
    "    retriever=vectordb.as_retriever(search_type=\"mmr\"),\n",
    "    chain_type_kwargs={\"prompt\":prompt},\n",
    "    return_source_documents=True\n",
    ")"
   ]
  },
  {
   "cell_type": "markdown",
   "id": "49b81916",
   "metadata": {},
   "source": [
    "# Question"
   ]
  },
  {
   "cell_type": "code",
   "execution_count": 253,
   "id": "a266c4a3",
   "metadata": {},
   "outputs": [],
   "source": [
    "question = \"Aula de <Educação Religiosa>, sendo o conteúdo <Nomes> e o objetivo da aula é <Importância dos Nomes>.\""
   ]
  },
  {
   "cell_type": "markdown",
   "id": "4e6cdd0a",
   "metadata": {},
   "source": [
    "# Answer"
   ]
  },
  {
   "cell_type": "code",
   "execution_count": 254,
   "id": "63a42649",
   "metadata": {},
   "outputs": [],
   "source": [
    "answer = chat_chain.invoke({\"query\": question})"
   ]
  },
  {
   "cell_type": "code",
   "execution_count": 255,
   "id": "33ca0510",
   "metadata": {},
   "outputs": [
    {
     "name": "stdout",
     "output_type": "stream",
     "text": [
      "Visão, Valorizar ideias e Criatividade.\n"
     ]
    }
   ],
   "source": [
    "print(answer[\"result\"])"
   ]
  },
  {
   "cell_type": "code",
   "execution_count": 256,
   "id": "9820c132",
   "metadata": {},
   "outputs": [
    {
     "data": {
      "text/plain": [
       "[Document(metadata={'author': 'Roselaine Monteiro Moraes', 'producer': 'Microsoft® Word para Microsoft 365', 'page_label': '1', 'moddate': '2025-04-28T16:59:30-03:00', 'source': 'D:\\\\Visual Code\\\\RAG\\\\pdf\\\\entrecomp.pdf', 'page': 0, 'doc_id': 1, 'creationdate': '2025-04-28T16:59:30-03:00', 'creator': 'Microsoft® Word para Microsoft 365', 'total_pages': 2}, page_content='significativos. \\n \\nVisão: é trabalhar para uma visão de futuro, imaginar o futuro, desenvolver um olhar \\npara transformar ideias em ações e visualizar cenários futuros para ajudar a orientar \\nesforços e iniciativas. \\n \\nValorizar ideias: é fazer o máximo com as ideias e as oportunidades, avaliar que \\nvalor existe em termos sociais, culturais e econômicos, reconhecer o potencial de \\ncriação de valor de uma ideia e identificar formas adequadas de tirar o máximo dela.'),\n",
       " Document(metadata={'moddate': '2025-04-28T16:59:30-03:00', 'creationdate': '2025-04-28T16:59:30-03:00', 'source': 'D:\\\\Visual Code\\\\RAG\\\\pdf\\\\entrecomp.pdf', 'page': 0, 'author': 'Roselaine Monteiro Moraes', 'creator': 'Microsoft® Word para Microsoft 365', 'page_label': '1', 'total_pages': 2, 'producer': 'Microsoft® Word para Microsoft 365'}, page_content='significativos. \\n \\nVisão: é trabalhar para uma visão de futuro, imaginar o futuro, desenvolver um olhar \\npara transformar ideias em ações e visualizar cenários futuros para ajudar a orientar \\nesforços e iniciativas. \\n \\nValorizar ideias: é fazer o máximo com as ideias e as oportunidades, avaliar que \\nvalor existe em termos sociais, culturais e econômicos, reconhecer o potencial de \\ncriação de valor de uma ideia e identificar formas adequadas de tirar o máximo dela.'),\n",
       " Document(metadata={'source': '../entrecomp.pdf', 'total_pages': 2, 'producer': 'Microsoft® Word para Microsoft 365', 'creator': 'Microsoft® Word para Microsoft 365', 'page_label': '1', 'moddate': '2025-04-28T16:59:30-03:00', 'creationdate': '2025-04-28T16:59:30-03:00', 'page': 0, 'doc_id': 1, 'author': 'Roselaine Monteiro Moraes'}, page_content='significativos. \\n \\nVisão: é trabalhar para uma visão de futuro, imaginar o futuro, desenvolver um olhar \\npara transformar ideias em ações e visualizar cenários futuros para ajudar a orientar \\nesforços e iniciativas. \\n \\nValorizar ideias: é fazer o máximo com as ideias e as oportunidades, avaliar que \\nvalor existe em termos sociais, culturais e econômicos, reconhecer o potencial de \\ncriação de valor de uma ideia e identificar formas adequadas de tirar o máximo dela.'),\n",
       " Document(metadata={'moddate': '2025-04-28T16:59:30-03:00', 'source': '../entrecomp.pdf', 'page_label': '1', 'creator': 'Microsoft® Word para Microsoft 365', 'page': 0, 'doc_id': 1, 'producer': 'Microsoft® Word para Microsoft 365', 'author': 'Roselaine Monteiro Moraes', 'total_pages': 2, 'creationdate': '2025-04-28T16:59:30-03:00'}, page_content='significativos. \\n \\nVisão: é trabalhar para uma visão de futuro, imaginar o futuro, desenvolver um olhar \\npara transformar ideias em ações e visualizar cenários futuros para ajudar a orientar \\nesforços e iniciativas. \\n \\nValorizar ideias: é fazer o máximo com as ideias e as oportunidades, avaliar que \\nvalor existe em termos sociais, culturais e econômicos, reconhecer o potencial de \\ncriação de valor de uma ideia e identificar formas adequadas de tirar o máximo dela.')]"
      ]
     },
     "execution_count": 256,
     "metadata": {},
     "output_type": "execute_result"
    }
   ],
   "source": [
    "answer[\"source_documents\"]"
   ]
  },
  {
   "cell_type": "markdown",
   "id": "4d2f337d",
   "metadata": {},
   "source": [
    "# Debug"
   ]
  },
  {
   "cell_type": "code",
   "execution_count": 257,
   "id": "addf2a71",
   "metadata": {},
   "outputs": [
    {
     "name": "stdout",
     "output_type": "stream",
     "text": [
      "\u001b[32;1m\u001b[1;3m[chain/start]\u001b[0m \u001b[1m[chain:RetrievalQA] Entering Chain run with input:\n",
      "\u001b[0m{\n",
      "  \"query\": \"Aula de <Matemática>, sendo o conteúdo <Frações> e o objetivo da aula é <Utilização em cálculo de juros>.\"\n",
      "}\n",
      "\u001b[32;1m\u001b[1;3m[chain/start]\u001b[0m \u001b[1m[chain:RetrievalQA > chain:StuffDocumentsChain] Entering Chain run with input:\n",
      "\u001b[0m[inputs]\n",
      "\u001b[32;1m\u001b[1;3m[chain/start]\u001b[0m \u001b[1m[chain:RetrievalQA > chain:StuffDocumentsChain > chain:LLMChain] Entering Chain run with input:\n",
      "\u001b[0m{\n",
      "  \"question\": \"Aula de <Matemática>, sendo o conteúdo <Frações> e o objetivo da aula é <Utilização em cálculo de juros>.\",\n",
      "  \"context\": \"Educação financeira e econômica: é desenvolver conhecimentos financeiros \\ne econômicos, saber calcular o custo de transformar uma ideia numa atividade criadora \\nde valor. Planejar, colocar em prática e avaliar decisões financeiras ao longo do tempo. \\nGerir as finanças para assegurar que a atividade de criação de valor possa manter-se a \\nlongo prazo. \\n \\nMobilização de pessoas: é inspirar, entusiasmar e mobilizar parceiros\\n\\nEducação financeira e econômica: é desenvolver conhecimentos financeiros \\ne econômicos, saber calcular o custo de transformar uma ideia numa atividade criadora \\nde valor. Planejar, colocar em prática e avaliar decisões financeiras ao longo do tempo. \\nGerir as finanças para assegurar que a atividade de criação de valor possa manter-se a \\nlongo prazo. \\n \\nMobilização de pessoas: é inspirar, entusiasmar e mobilizar parceiros\\n\\nEducação financeira e econômica: é desenvolver conhecimentos financeiros \\ne econômicos, saber calcular o custo de transformar uma ideia numa atividade criadora \\nde valor. Planejar, colocar em prática e avaliar decisões financeiras ao longo do tempo. \\nGerir as finanças para assegurar que a atividade de criação de valor possa manter-se a \\nlongo prazo. \\n \\nMobilização de pessoas: é inspirar, entusiasmar e mobilizar parceiros\\n\\nEducação financeira e econômica: é desenvolver conhecimentos financeiros \\ne econômicos, saber calcular o custo de transformar uma ideia numa atividade criadora \\nde valor. Planejar, colocar em prática e avaliar decisões financeiras ao longo do tempo. \\nGerir as finanças para assegurar que a atividade de criação de valor possa manter-se a \\nlongo prazo. \\n \\nMobilização de pessoas: é inspirar, entusiasmar e mobilizar parceiros\"\n",
      "}\n",
      "\u001b[32;1m\u001b[1;3m[llm/start]\u001b[0m \u001b[1m[chain:RetrievalQA > chain:StuffDocumentsChain > chain:LLMChain > llm:ChatOpenAI] Entering LLM run with input:\n",
      "\u001b[0m{\n",
      "  \"prompts\": [\n",
      "    \"Human: \\nVocê é um assistente educacional.\\n\\nO usuário fornecerá os dados de uma aula em formato estruturado, incluindo:\\n- A disciplina;\\n- O conteúdo;\\n- O objetivo da aula.\\n\\nCom base no documento ENTRECOMP (que está no contexto abaixo), identifique **três competências empreendedoras** que se relacionam diretamente com essa aula.\\nRetorne apenas os **nomes das competências**, separados por vírgula e a última separada por e.\\nExemplo de formato: Visão, Pensamento ético e sustentável e Valorizar ideias.\\n\\nContexto: Educação financeira e econômica: é desenvolver conhecimentos financeiros \\ne econômicos, saber calcular o custo de transformar uma ideia numa atividade criadora \\nde valor. Planejar, colocar em prática e avaliar decisões financeiras ao longo do tempo. \\nGerir as finanças para assegurar que a atividade de criação de valor possa manter-se a \\nlongo prazo. \\n \\nMobilização de pessoas: é inspirar, entusiasmar e mobilizar parceiros\\n\\nEducação financeira e econômica: é desenvolver conhecimentos financeiros \\ne econômicos, saber calcular o custo de transformar uma ideia numa atividade criadora \\nde valor. Planejar, colocar em prática e avaliar decisões financeiras ao longo do tempo. \\nGerir as finanças para assegurar que a atividade de criação de valor possa manter-se a \\nlongo prazo. \\n \\nMobilização de pessoas: é inspirar, entusiasmar e mobilizar parceiros\\n\\nEducação financeira e econômica: é desenvolver conhecimentos financeiros \\ne econômicos, saber calcular o custo de transformar uma ideia numa atividade criadora \\nde valor. Planejar, colocar em prática e avaliar decisões financeiras ao longo do tempo. \\nGerir as finanças para assegurar que a atividade de criação de valor possa manter-se a \\nlongo prazo. \\n \\nMobilização de pessoas: é inspirar, entusiasmar e mobilizar parceiros\\n\\nEducação financeira e econômica: é desenvolver conhecimentos financeiros \\ne econômicos, saber calcular o custo de transformar uma ideia numa atividade criadora \\nde valor. Planejar, colocar em prática e avaliar decisões financeiras ao longo do tempo. \\nGerir as finanças para assegurar que a atividade de criação de valor possa manter-se a \\nlongo prazo. \\n \\nMobilização de pessoas: é inspirar, entusiasmar e mobilizar parceiros\\n\\nPergunta: Aula de <Matemática>, sendo o conteúdo <Frações> e o objetivo da aula é <Utilização em cálculo de juros>.\\n\\nResposta:\"\n",
      "  ]\n",
      "}\n",
      "\u001b[36;1m\u001b[1;3m[llm/end]\u001b[0m \u001b[1m[chain:RetrievalQA > chain:StuffDocumentsChain > chain:LLMChain > llm:ChatOpenAI] [743ms] Exiting LLM run with output:\n",
      "\u001b[0m{\n",
      "  \"generations\": [\n",
      "    [\n",
      "      {\n",
      "        \"text\": \"Planejamento financeiro, Tomada de decisão e Gestão de recursos.\",\n",
      "        \"generation_info\": {\n",
      "          \"finish_reason\": \"stop\",\n",
      "          \"logprobs\": null\n",
      "        },\n",
      "        \"type\": \"ChatGeneration\",\n",
      "        \"message\": {\n",
      "          \"lc\": 1,\n",
      "          \"type\": \"constructor\",\n",
      "          \"id\": [\n",
      "            \"langchain\",\n",
      "            \"schema\",\n",
      "            \"messages\",\n",
      "            \"AIMessage\"\n",
      "          ],\n",
      "          \"kwargs\": {\n",
      "            \"content\": \"Planejamento financeiro, Tomada de decisão e Gestão de recursos.\",\n",
      "            \"additional_kwargs\": {\n",
      "              \"refusal\": null\n",
      "            },\n",
      "            \"response_metadata\": {\n",
      "              \"token_usage\": {\n",
      "                \"completion_tokens\": 13,\n",
      "                \"prompt_tokens\": 504,\n",
      "                \"total_tokens\": 517,\n",
      "                \"completion_tokens_details\": {\n",
      "                  \"accepted_prediction_tokens\": 0,\n",
      "                  \"audio_tokens\": 0,\n",
      "                  \"reasoning_tokens\": 0,\n",
      "                  \"rejected_prediction_tokens\": 0\n",
      "                },\n",
      "                \"prompt_tokens_details\": {\n",
      "                  \"audio_tokens\": 0,\n",
      "                  \"cached_tokens\": 0\n",
      "                }\n",
      "              },\n",
      "              \"model_name\": \"gpt-4o-mini-2024-07-18\",\n",
      "              \"system_fingerprint\": \"fp_34a54ae93c\",\n",
      "              \"id\": \"chatcmpl-C21q31xCwY4CoRSgCtLWlR1uO7Gof\",\n",
      "              \"service_tier\": \"default\",\n",
      "              \"finish_reason\": \"stop\",\n",
      "              \"logprobs\": null\n",
      "            },\n",
      "            \"type\": \"ai\",\n",
      "            \"id\": \"run--e929bee7-7e19-41fb-838f-0ff265ff8f7c-0\",\n",
      "            \"usage_metadata\": {\n",
      "              \"input_tokens\": 504,\n",
      "              \"output_tokens\": 13,\n",
      "              \"total_tokens\": 517,\n",
      "              \"input_token_details\": {\n",
      "                \"audio\": 0,\n",
      "                \"cache_read\": 0\n",
      "              },\n",
      "              \"output_token_details\": {\n",
      "                \"audio\": 0,\n",
      "                \"reasoning\": 0\n",
      "              }\n",
      "            },\n",
      "            \"tool_calls\": [],\n",
      "            \"invalid_tool_calls\": []\n",
      "          }\n",
      "        }\n",
      "      }\n",
      "    ]\n",
      "  ],\n",
      "  \"llm_output\": {\n",
      "    \"token_usage\": {\n",
      "      \"completion_tokens\": 13,\n",
      "      \"prompt_tokens\": 504,\n",
      "      \"total_tokens\": 517,\n",
      "      \"completion_tokens_details\": {\n",
      "        \"accepted_prediction_tokens\": 0,\n",
      "        \"audio_tokens\": 0,\n",
      "        \"reasoning_tokens\": 0,\n",
      "        \"rejected_prediction_tokens\": 0\n",
      "      },\n",
      "      \"prompt_tokens_details\": {\n",
      "        \"audio_tokens\": 0,\n",
      "        \"cached_tokens\": 0\n",
      "      }\n",
      "    },\n",
      "    \"model_name\": \"gpt-4o-mini-2024-07-18\",\n",
      "    \"system_fingerprint\": \"fp_34a54ae93c\",\n",
      "    \"id\": \"chatcmpl-C21q31xCwY4CoRSgCtLWlR1uO7Gof\",\n",
      "    \"service_tier\": \"default\"\n",
      "  },\n",
      "  \"run\": null,\n",
      "  \"type\": \"LLMResult\"\n",
      "}\n",
      "\u001b[36;1m\u001b[1;3m[chain/end]\u001b[0m \u001b[1m[chain:RetrievalQA > chain:StuffDocumentsChain > chain:LLMChain] [744ms] Exiting Chain run with output:\n",
      "\u001b[0m{\n",
      "  \"text\": \"Planejamento financeiro, Tomada de decisão e Gestão de recursos.\"\n",
      "}\n",
      "\u001b[36;1m\u001b[1;3m[chain/end]\u001b[0m \u001b[1m[chain:RetrievalQA > chain:StuffDocumentsChain] [745ms] Exiting Chain run with output:\n",
      "\u001b[0m{\n",
      "  \"output_text\": \"Planejamento financeiro, Tomada de decisão e Gestão de recursos.\"\n",
      "}\n",
      "\u001b[36;1m\u001b[1;3m[chain/end]\u001b[0m \u001b[1m[chain:RetrievalQA] [1.12s] Exiting Chain run with output:\n",
      "\u001b[0m[outputs]\n"
     ]
    }
   ],
   "source": [
    "set_debug(True)\n",
    "\n",
    "question = \"Aula de <Matemática>, sendo o conteúdo <Frações> e o objetivo da aula é <Utilização em cálculo de juros>.\"\n",
    "answer = chat_chain.invoke({\"query\": question})\n",
    "answer[\"source_documents\"]\n",
    "\n",
    "set_debug(False)"
   ]
  }
 ],
 "metadata": {
  "kernelspec": {
   "display_name": "venv (3.12.4)",
   "language": "python",
   "name": "python3"
  },
  "language_info": {
   "codemirror_mode": {
    "name": "ipython",
    "version": 3
   },
   "file_extension": ".py",
   "mimetype": "text/x-python",
   "name": "python",
   "nbconvert_exporter": "python",
   "pygments_lexer": "ipython3",
   "version": "3.12.4"
  }
 },
 "nbformat": 4,
 "nbformat_minor": 5
}
