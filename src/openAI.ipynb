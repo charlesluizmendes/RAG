{
 "cells": [
  {
   "cell_type": "code",
   "execution_count": null,
   "id": "7da12039",
   "metadata": {},
   "outputs": [],
   "source": [
    "import os\n",
    "from dotenv import load_dotenv\n",
    "from langchain_community.document_loaders.pdf import PyPDFLoader\n",
    "from langchain_text_splitters import RecursiveCharacterTextSplitter\n",
    "from langchain_community.vectorstores.chroma import Chroma\n",
    "from langchain_openai import OpenAIEmbeddings\n",
    "from langchain_openai.chat_models import ChatOpenAI\n",
    "from langchain.chains.retrieval_qa.base import RetrievalQA\n",
    "from langchain.prompts import ChatPromptTemplate\n",
    "from langchain.globals import set_debug"
   ]
  },
  {
   "cell_type": "markdown",
   "id": "8e84e7a7",
   "metadata": {},
   "source": [
    "# Variables"
   ]
  },
  {
   "cell_type": "code",
   "execution_count": 530,
   "id": "775df766",
   "metadata": {},
   "outputs": [
    {
     "data": {
      "text/plain": [
       "True"
      ]
     },
     "execution_count": 530,
     "metadata": {},
     "output_type": "execute_result"
    }
   ],
   "source": [
    "load_dotenv(override=True)"
   ]
  },
  {
   "cell_type": "code",
   "execution_count": 531,
   "id": "501c0e43",
   "metadata": {},
   "outputs": [],
   "source": [
    "file = os.getenv(\"FILE\")\n",
    "api_key = os.getenv(\"OPENAI_API_KEY\")"
   ]
  },
  {
   "cell_type": "markdown",
   "id": "6e76f60a",
   "metadata": {},
   "source": [
    "# PDFLoader"
   ]
  },
  {
   "cell_type": "code",
   "execution_count": 532,
   "id": "9c4c719d",
   "metadata": {},
   "outputs": [],
   "source": [
    "loader = PyPDFLoader(file)\n",
    "files = loader.load()"
   ]
  },
  {
   "cell_type": "markdown",
   "id": "6a9258fa",
   "metadata": {},
   "source": [
    "# Recursive TextSplit"
   ]
  },
  {
   "cell_type": "code",
   "execution_count": 533,
   "id": "88c797d1",
   "metadata": {},
   "outputs": [],
   "source": [
    "recur_split = RecursiveCharacterTextSplitter(\n",
    "    chunk_size=512,\n",
    "    chunk_overlap=30,\n",
    "    length_function=len,\n",
    "    separators= [\"\\n\\n\", \"\\n\", \".\", \" \"]\n",
    ")"
   ]
  },
  {
   "cell_type": "code",
   "execution_count": 534,
   "id": "de473534",
   "metadata": {},
   "outputs": [],
   "source": [
    "chunks = recur_split.split_documents(files)"
   ]
  },
  {
   "cell_type": "markdown",
   "id": "a1474c7b",
   "metadata": {},
   "source": [
    "# Embbiding (OpenAI)"
   ]
  },
  {
   "cell_type": "code",
   "execution_count": 535,
   "id": "6f3d2773",
   "metadata": {},
   "outputs": [],
   "source": [
    "embeddings = OpenAIEmbeddings()"
   ]
  },
  {
   "cell_type": "markdown",
   "id": "3435a0f6",
   "metadata": {},
   "source": [
    "# Vector Store"
   ]
  },
  {
   "cell_type": "code",
   "execution_count": 536,
   "id": "c768f5f2",
   "metadata": {},
   "outputs": [],
   "source": [
    "from pymongo import MongoClient\n",
    "from langchain_mongodb import MongoDBAtlasVectorSearch"
   ]
  },
  {
   "cell_type": "code",
   "execution_count": 537,
   "id": "f9f0fc3c",
   "metadata": {},
   "outputs": [],
   "source": [
    "mongo_url = os.getenv(\"MONGO_URL\")\n",
    "mongo_db = os.getenv(\"MONGO_DB\")\n",
    "mongo_collection = os.getenv(\"MONGO_COLLECTION\")"
   ]
  },
  {
   "cell_type": "code",
   "execution_count": 538,
   "id": "3df9d013",
   "metadata": {},
   "outputs": [],
   "source": [
    "client = MongoClient(mongo_url)\n",
    "db = client[mongo_db]\n",
    "collection = db[mongo_collection]"
   ]
  },
  {
   "cell_type": "code",
   "execution_count": 539,
   "id": "ab4614c2",
   "metadata": {},
   "outputs": [],
   "source": [
    "vector_search = MongoDBAtlasVectorSearch.from_documents(\n",
    "    documents=chunks,\n",
    "    embedding=embeddings,\n",
    "    collection=collection,          \n",
    "    index_name=\"vector_index\"\n",
    ")"
   ]
  },
  {
   "cell_type": "code",
   "execution_count": 540,
   "id": "7a421a0b",
   "metadata": {},
   "outputs": [],
   "source": [
    "retriever = vector_search.as_retriever(\n",
    "    search_type=\"similarity\",\n",
    "    search_kwargs={\n",
    "        'k': 3\n",
    "    }\n",
    ")"
   ]
  },
  {
   "cell_type": "code",
   "execution_count": 541,
   "id": "eb15af55",
   "metadata": {},
   "outputs": [
    {
     "name": "stdout",
     "output_type": "stream",
     "text": [
      "Total de documentos na collection: 11\n"
     ]
    }
   ],
   "source": [
    "collection = retriever.vectorstore.collection\n",
    "total_docs = collection.count_documents({})\n",
    "\n",
    "print(f\"Total de documentos na collection: {total_docs}\")"
   ]
  },
  {
   "cell_type": "markdown",
   "id": "f84be063",
   "metadata": {},
   "source": [
    "# LLM (OpenAI)"
   ]
  },
  {
   "cell_type": "code",
   "execution_count": 572,
   "id": "4b0cfe1f",
   "metadata": {},
   "outputs": [],
   "source": [
    "llm = ChatOpenAI(model=\"gpt-4o\", api_key=api_key, temperature=0)"
   ]
  },
  {
   "cell_type": "markdown",
   "id": "5c76594d",
   "metadata": {},
   "source": [
    "# Prompt"
   ]
  },
  {
   "cell_type": "code",
   "execution_count": 577,
   "id": "4d488c2c",
   "metadata": {},
   "outputs": [],
   "source": [
    "prompt = ChatPromptTemplate.from_template(\n",
    "\"\"\"\n",
    "Você é um assistente que deve responder a Pergunta baseada no Contexto informado.\n",
    "O contexto e a pergunta do utilizador são apresentados a seguir.\n",
    "Contexto: {context}\n",
    "Pergunta: {input}\n",
    "\n",
    "O usuário fornecerá os dados de uma aula em formato estruturado, incluindo:\n",
    "**Ano Letivo**;\n",
    "**Disciplina**;\n",
    "**Conteúdo**;\n",
    "**Objetivo da Aula**.\n",
    "\n",
    "Traga somente o(s) Codigo(s) e a(s) Descricao(s) que estao no Contexto e nada alem disso, nao invente descricao nem codigo.\n",
    "\n",
    "Exemplo: \\n\n",
    "Pergunta: \"**Ano Letivo** <9 ano>, **Disciplina** <Matemática>, sendo o **Conteúdo** <Porcentagem> e o **Objetivo da Aula** é <Calcular juros>.\" \\n\n",
    "Resposta: \\n\n",
    "Código: EF09MA05\n",
    "Descrição: Resolver e elaborar problemas que envolvam porcentagens, com a ideia de aplicação de percentuais sucessivos e a determinação das taxas percentuais, preferencialmente com o uso de tecnologias digitais, no contexto da educação financeira. \\n\\n\n",
    "\n",
    "\"\"\"\n",
    ")\n"
   ]
  },
  {
   "cell_type": "markdown",
   "id": "d1f71af8",
   "metadata": {},
   "source": [
    "# Chain"
   ]
  },
  {
   "cell_type": "code",
   "execution_count": 578,
   "id": "18b2a3b0",
   "metadata": {},
   "outputs": [],
   "source": [
    "from langchain.chains import create_retrieval_chain\n",
    "from langchain.chains.combine_documents import create_stuff_documents_chain\n",
    "\n",
    "documents_chain = create_stuff_documents_chain(llm, prompt)\n",
    "retriver_chain = create_retrieval_chain(retriever, documents_chain)"
   ]
  },
  {
   "cell_type": "markdown",
   "id": "49b81916",
   "metadata": {},
   "source": [
    "# Question"
   ]
  },
  {
   "cell_type": "code",
   "execution_count": 579,
   "id": "a266c4a3",
   "metadata": {},
   "outputs": [],
   "source": [
    "question = \"**Ano Letivo** <9 ano>, **Disciplina** <Matemática>, sendo o **Conteúdo** <Ponto medio> e o **Objetivo da Aula** é <Uso para calcular medidas>.\""
   ]
  },
  {
   "cell_type": "markdown",
   "id": "4e6cdd0a",
   "metadata": {},
   "source": [
    "# Answer"
   ]
  },
  {
   "cell_type": "code",
   "execution_count": 580,
   "id": "63a42649",
   "metadata": {},
   "outputs": [
    {
     "data": {
      "text/plain": [
       "{'input': '**Ano Letivo** <9 ano>, **Disciplina** <Matemática>, sendo o **Conteúdo** <Ponto medio> e o **Objetivo da Aula** é <Uso para calcular medidas>.',\n",
       " 'context': [],\n",
       " 'answer': 'Sinto muito, mas não posso ajudar com isso.'}"
      ]
     },
     "execution_count": 580,
     "metadata": {},
     "output_type": "execute_result"
    }
   ],
   "source": [
    "retriver_chain.invoke({\"input\": question})"
   ]
  }
 ],
 "metadata": {
  "kernelspec": {
   "display_name": "venv (3.12.4)",
   "language": "python",
   "name": "python3"
  },
  "language_info": {
   "codemirror_mode": {
    "name": "ipython",
    "version": 3
   },
   "file_extension": ".py",
   "mimetype": "text/x-python",
   "name": "python",
   "nbconvert_exporter": "python",
   "pygments_lexer": "ipython3",
   "version": "3.12.4"
  }
 },
 "nbformat": 4,
 "nbformat_minor": 5
}
