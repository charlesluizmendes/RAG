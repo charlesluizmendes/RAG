{
 "cells": [
  {
   "cell_type": "code",
   "execution_count": 1,
   "id": "7da12039",
   "metadata": {},
   "outputs": [],
   "source": [
    "import os\n",
    "from dotenv import load_dotenv\n",
    "from langchain_community.document_loaders.pdf import PyPDFLoader\n",
    "from langchain_text_splitters import RecursiveCharacterTextSplitter\n",
    "from langchain_community.vectorstores.chroma import Chroma\n",
    "from langchain_openai import OpenAIEmbeddings\n",
    "from langchain_openai.chat_models import ChatOpenAI\n",
    "from langchain.chains.retrieval_qa.base import RetrievalQA\n",
    "from langchain.prompts import PromptTemplate\n",
    "from langchain.globals import set_debug"
   ]
  },
  {
   "cell_type": "markdown",
   "id": "8e84e7a7",
   "metadata": {},
   "source": [
    "# Variables"
   ]
  },
  {
   "cell_type": "code",
   "execution_count": 2,
   "id": "775df766",
   "metadata": {},
   "outputs": [
    {
     "data": {
      "text/plain": [
       "True"
      ]
     },
     "execution_count": 2,
     "metadata": {},
     "output_type": "execute_result"
    }
   ],
   "source": [
    "load_dotenv(override=True)"
   ]
  },
  {
   "cell_type": "code",
   "execution_count": 3,
   "id": "501c0e43",
   "metadata": {},
   "outputs": [],
   "source": [
    "file = os.getenv(\"FILE\")\n",
    "persist_directory = os.getenv(\"PERSIST_DIRECTORY\") + \"/chroma\"\n",
    "api_key = os.getenv(\"OPENAI_API_KEY\")"
   ]
  },
  {
   "cell_type": "markdown",
   "id": "6e76f60a",
   "metadata": {},
   "source": [
    "# PDFLoader"
   ]
  },
  {
   "cell_type": "code",
   "execution_count": 4,
   "id": "9c4c719d",
   "metadata": {},
   "outputs": [],
   "source": [
    "loader = PyPDFLoader(file)\n",
    "file = loader.load()"
   ]
  },
  {
   "cell_type": "markdown",
   "id": "6a9258fa",
   "metadata": {},
   "source": [
    "# Recursive TextSplit"
   ]
  },
  {
   "cell_type": "code",
   "execution_count": 5,
   "id": "88c797d1",
   "metadata": {},
   "outputs": [],
   "source": [
    "recur_split = RecursiveCharacterTextSplitter(\n",
    "    chunk_size=500,\n",
    "    chunk_overlap=50,\n",
    "    separators=[\"\\n\\n\", \"\\n\", \".\", \" \", \"\"]\n",
    ")"
   ]
  },
  {
   "cell_type": "code",
   "execution_count": 6,
   "id": "de473534",
   "metadata": {},
   "outputs": [],
   "source": [
    "documents = recur_split.split_documents(file)"
   ]
  },
  {
   "cell_type": "markdown",
   "id": "a1474c7b",
   "metadata": {},
   "source": [
    "# Embbiding (OpenAI)"
   ]
  },
  {
   "cell_type": "code",
   "execution_count": 7,
   "id": "6f3d2773",
   "metadata": {},
   "outputs": [],
   "source": [
    "embeddings = OpenAIEmbeddings()"
   ]
  },
  {
   "cell_type": "markdown",
   "id": "3435a0f6",
   "metadata": {},
   "source": [
    "# Vector Store"
   ]
  },
  {
   "cell_type": "code",
   "execution_count": 8,
   "id": "f67a9a52",
   "metadata": {},
   "outputs": [],
   "source": [
    "vectordb = Chroma.from_documents(\n",
    "    documents=documents,\n",
    "    embedding=embeddings,\n",
    "    persist_directory=persist_directory\n",
    ")"
   ]
  },
  {
   "cell_type": "markdown",
   "id": "f84be063",
   "metadata": {},
   "source": [
    "# LLM (OpenAI)"
   ]
  },
  {
   "cell_type": "code",
   "execution_count": 9,
   "id": "4b0cfe1f",
   "metadata": {},
   "outputs": [],
   "source": [
    "llm = ChatOpenAI(model=\"gpt-4o-mini\", api_key=api_key, temperature=0)"
   ]
  },
  {
   "cell_type": "markdown",
   "id": "786cc5b1",
   "metadata": {},
   "source": [
    "# Chain"
   ]
  },
  {
   "cell_type": "code",
   "execution_count": 10,
   "id": "5db53788",
   "metadata": {},
   "outputs": [],
   "source": [
    "chat_chain = RetrievalQA.from_chain_type(\n",
    "    llm=llm,\n",
    "    retriever=vectordb.as_retriever(search_type='mmr'),\n",
    ")"
   ]
  },
  {
   "cell_type": "markdown",
   "id": "2b1a08a2",
   "metadata": {},
   "source": [
    "# Question"
   ]
  },
  {
   "cell_type": "code",
   "execution_count": 11,
   "id": "eaf16c4d",
   "metadata": {},
   "outputs": [],
   "source": [
    "question = \"O que é Identificar oportunidades?\""
   ]
  },
  {
   "cell_type": "markdown",
   "id": "856f88b3",
   "metadata": {},
   "source": [
    "# Answer"
   ]
  },
  {
   "cell_type": "code",
   "execution_count": 12,
   "id": "b914cbb1",
   "metadata": {},
   "outputs": [
    {
     "data": {
      "text/plain": [
       "{'query': 'O que é Identificar oportunidades?',\n",
       " 'result': 'Identificar oportunidades é usar a imaginação e as habilidades para visualizar oportunidades de criação de valor, como a identificação de necessidades e desafios que precisam ser atendidos.'}"
      ]
     },
     "execution_count": 12,
     "metadata": {},
     "output_type": "execute_result"
    }
   ],
   "source": [
    "chat_chain.invoke({\"query\": question})"
   ]
  },
  {
   "cell_type": "markdown",
   "id": "5c76594d",
   "metadata": {},
   "source": [
    "# Prompt"
   ]
  },
  {
   "cell_type": "code",
   "execution_count": 13,
   "id": "4d488c2c",
   "metadata": {},
   "outputs": [],
   "source": [
    "prompt = PromptTemplate.from_template(\n",
    "\"\"\"\n",
    "Você é um assistente educacional.\n",
    "\n",
    "O usuário fornecerá os dados de uma aula em formato estruturado, incluindo:\n",
    "- A disciplina;\n",
    "- O conteúdo;\n",
    "- O objetivo da aula.\n",
    "\n",
    "Com base no documento ENTRECOMP (que está no contexto abaixo), identifique **três competências empreendedoras** que se relacionam diretamente com essa aula.\n",
    "Retorne apenas os **nomes das competências**, separados por vírgula e a última separada por e.\n",
    "Exemplo de formato: Visão, Pensamento ético e sustentável e Valorizar ideias.\n",
    "\n",
    "Contexto: {context}\n",
    "\n",
    "Pergunta: {question}\n",
    "\n",
    "Resposta:\n",
    "\"\"\"\n",
    ")"
   ]
  },
  {
   "cell_type": "markdown",
   "id": "d1f71af8",
   "metadata": {},
   "source": [
    "# Chain"
   ]
  },
  {
   "cell_type": "code",
   "execution_count": 14,
   "id": "18b2a3b0",
   "metadata": {},
   "outputs": [],
   "source": [
    "chat_chain = RetrievalQA.from_chain_type(\n",
    "    llm=llm,\n",
    "    retriever=vectordb.as_retriever(search_type=\"mmr\"),\n",
    "    chain_type_kwargs={\"prompt\":prompt},\n",
    "    return_source_documents=True\n",
    ")"
   ]
  },
  {
   "cell_type": "markdown",
   "id": "49b81916",
   "metadata": {},
   "source": [
    "# Question"
   ]
  },
  {
   "cell_type": "code",
   "execution_count": 15,
   "id": "a266c4a3",
   "metadata": {},
   "outputs": [],
   "source": [
    "question = \"Aula de <Educação Religiosa>, sendo o conteúdo <Nomes> e o objetivo da aula é <Importância dos Nomes>.\""
   ]
  },
  {
   "cell_type": "markdown",
   "id": "4e6cdd0a",
   "metadata": {},
   "source": [
    "# Answer"
   ]
  },
  {
   "cell_type": "code",
   "execution_count": 16,
   "id": "63a42649",
   "metadata": {},
   "outputs": [],
   "source": [
    "answer = chat_chain.invoke({\"query\": question})"
   ]
  },
  {
   "cell_type": "code",
   "execution_count": 17,
   "id": "33ca0510",
   "metadata": {},
   "outputs": [
    {
     "name": "stdout",
     "output_type": "stream",
     "text": [
      "Visão, Valorizar ideias e Consciência de si e autoeficácia.\n"
     ]
    }
   ],
   "source": [
    "print(answer[\"result\"])"
   ]
  }
 ],
 "metadata": {
  "kernelspec": {
   "display_name": "venv (3.12.4)",
   "language": "python",
   "name": "python3"
  },
  "language_info": {
   "codemirror_mode": {
    "name": "ipython",
    "version": 3
   },
   "file_extension": ".py",
   "mimetype": "text/x-python",
   "name": "python",
   "nbconvert_exporter": "python",
   "pygments_lexer": "ipython3",
   "version": "3.12.4"
  }
 },
 "nbformat": 4,
 "nbformat_minor": 5
}
