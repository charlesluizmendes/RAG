{
 "cells": [
  {
   "cell_type": "code",
   "execution_count": 17,
   "id": "7da12039",
   "metadata": {},
   "outputs": [],
   "source": [
    "import os\n",
    "from dotenv import load_dotenv\n",
    "from langchain_community.document_loaders.pdf import PyPDFLoader\n",
    "from langchain_text_splitters import RecursiveCharacterTextSplitter\n",
    "from langchain_community.vectorstores.chroma import Chroma\n",
    "from langchain_openai import OpenAIEmbeddings\n",
    "from langchain_openai.chat_models import ChatOpenAI\n",
    "from langchain.chains.retrieval_qa.base import RetrievalQA\n",
    "from langchain.prompts import PromptTemplate\n",
    "from langchain.globals import set_debug"
   ]
  },
  {
   "cell_type": "markdown",
   "id": "8e84e7a7",
   "metadata": {},
   "source": [
    "# Variables"
   ]
  },
  {
   "cell_type": "code",
   "execution_count": 18,
   "id": "775df766",
   "metadata": {},
   "outputs": [
    {
     "data": {
      "text/plain": [
       "True"
      ]
     },
     "execution_count": 18,
     "metadata": {},
     "output_type": "execute_result"
    }
   ],
   "source": [
    "load_dotenv(override=True)"
   ]
  },
  {
   "cell_type": "code",
   "execution_count": 19,
   "id": "501c0e43",
   "metadata": {},
   "outputs": [],
   "source": [
    "file = os.getenv(\"FILE\")\n",
    "persist_directory = os.getenv(\"PERSIST_DIRECTORY\") + \"/chroma\"\n",
    "api_key = os.getenv(\"OPENAI_API_KEY\")"
   ]
  },
  {
   "cell_type": "markdown",
   "id": "6e76f60a",
   "metadata": {},
   "source": [
    "# PDFLoader"
   ]
  },
  {
   "cell_type": "code",
   "execution_count": 20,
   "id": "9c4c719d",
   "metadata": {},
   "outputs": [],
   "source": [
    "loader = PyPDFLoader(file)\n",
    "file = loader.load()"
   ]
  },
  {
   "cell_type": "markdown",
   "id": "6a9258fa",
   "metadata": {},
   "source": [
    "# Recursive TextSplit"
   ]
  },
  {
   "cell_type": "code",
   "execution_count": 21,
   "id": "88c797d1",
   "metadata": {},
   "outputs": [],
   "source": [
    "recur_split = RecursiveCharacterTextSplitter(\n",
    "    chunk_size=500,\n",
    "    chunk_overlap=50,\n",
    "    separators=[\"\\n\\n\", \"\\n\", \".\", \" \", \"\"]\n",
    ")"
   ]
  },
  {
   "cell_type": "code",
   "execution_count": 22,
   "id": "de473534",
   "metadata": {},
   "outputs": [],
   "source": [
    "documents = recur_split.split_documents(file)"
   ]
  },
  {
   "cell_type": "markdown",
   "id": "a1474c7b",
   "metadata": {},
   "source": [
    "# Embbiding (OpenAI)"
   ]
  },
  {
   "cell_type": "code",
   "execution_count": 23,
   "id": "6f3d2773",
   "metadata": {},
   "outputs": [],
   "source": [
    "embeddings = OpenAIEmbeddings()"
   ]
  },
  {
   "cell_type": "markdown",
   "id": "3435a0f6",
   "metadata": {},
   "source": [
    "# Vector Store"
   ]
  },
  {
   "cell_type": "code",
   "execution_count": 24,
   "id": "f67a9a52",
   "metadata": {},
   "outputs": [],
   "source": [
    "vectordb = Chroma.from_documents(\n",
    "    documents=documents,\n",
    "    embedding=embeddings,\n",
    "    persist_directory=persist_directory\n",
    ")"
   ]
  },
  {
   "cell_type": "markdown",
   "id": "f84be063",
   "metadata": {},
   "source": [
    "# LLM (OpenAI)"
   ]
  },
  {
   "cell_type": "code",
   "execution_count": 25,
   "id": "4b0cfe1f",
   "metadata": {},
   "outputs": [],
   "source": [
    "llm = ChatOpenAI(model=\"gpt-4o-mini\", api_key=api_key, temperature=0)"
   ]
  },
  {
   "cell_type": "markdown",
   "id": "786cc5b1",
   "metadata": {},
   "source": [
    "# Chain"
   ]
  },
  {
   "cell_type": "code",
   "execution_count": 26,
   "id": "5db53788",
   "metadata": {},
   "outputs": [],
   "source": [
    "chat_chain = RetrievalQA.from_chain_type(\n",
    "    llm=llm,\n",
    "    retriever=vectordb.as_retriever(search_type='mmr'),\n",
    ")"
   ]
  },
  {
   "cell_type": "markdown",
   "id": "2b1a08a2",
   "metadata": {},
   "source": [
    "# Question"
   ]
  },
  {
   "cell_type": "code",
   "execution_count": 27,
   "id": "eaf16c4d",
   "metadata": {},
   "outputs": [],
   "source": [
    "question = \"O que é Identificar oportunidades?\""
   ]
  },
  {
   "cell_type": "markdown",
   "id": "856f88b3",
   "metadata": {},
   "source": [
    "# Answer"
   ]
  },
  {
   "cell_type": "code",
   "execution_count": 28,
   "id": "b914cbb1",
   "metadata": {},
   "outputs": [
    {
     "data": {
      "text/plain": [
       "{'query': 'O que é Identificar oportunidades?',\n",
       " 'result': 'Identificar oportunidades é usar a sua imaginação e habilidades para visualizar oportunidades de criação de valor, como a identificação de necessidades e desafios que precisam ser atendidos.'}"
      ]
     },
     "execution_count": 28,
     "metadata": {},
     "output_type": "execute_result"
    }
   ],
   "source": [
    "chat_chain.invoke({\"query\": question})"
   ]
  },
  {
   "cell_type": "markdown",
   "id": "5c76594d",
   "metadata": {},
   "source": [
    "# Prompt"
   ]
  },
  {
   "cell_type": "code",
   "execution_count": 29,
   "id": "4d488c2c",
   "metadata": {},
   "outputs": [],
   "source": [
    "prompt = PromptTemplate.from_template(\n",
    "\"\"\"\n",
    "Você é um assistente educacional que retorna competências empreendedoras.\n",
    "\n",
    "O usuário fornecerá os dados de uma aula em formato estruturado, incluindo:\n",
    "**Disciplina**;\n",
    "**Conteúdo**;\n",
    "**Objetivo da Aula**.\n",
    "\n",
    "Com base no documento (que está no contexto abaixo), identifique **três competências empreendedoras** que se relacionam diretamente com essa aula.\n",
    "Traga somente 3 competências empreendedoras que estão no documento abaixo e somente do documento (que está no contexto abaixo).\n",
    "Retorne apenas os nomes das competências, entre a primeira e a segunda separados por vírgula, e entre a segunda e a terceira separada por 'e'. \\n\\n\n",
    "\n",
    "Exemplo: \\n\n",
    "Pergunta: \"**Disciplina** <Matemática>, sendo o **Conteúdo** <Frações> e o **Objetivo da Aula** é <Calcular juros>.\" \\n\n",
    "Resposta: Identificar oportunidades, Mobilização de recursos e Educação financeira e econômica. \\n\\n\n",
    "\n",
    "Contexto: {context} \\n\\n\n",
    "Pergunta: {question}\n",
    "\"\"\"\n",
    ")"
   ]
  },
  {
   "cell_type": "markdown",
   "id": "d1f71af8",
   "metadata": {},
   "source": [
    "# Chain"
   ]
  },
  {
   "cell_type": "code",
   "execution_count": 30,
   "id": "18b2a3b0",
   "metadata": {},
   "outputs": [],
   "source": [
    "chat_chain = RetrievalQA.from_chain_type(\n",
    "    llm=llm,\n",
    "    retriever=vectordb.as_retriever(search_type=\"mmr\"),\n",
    "    chain_type_kwargs={\"prompt\":prompt},\n",
    "    return_source_documents=True\n",
    ")"
   ]
  },
  {
   "cell_type": "markdown",
   "id": "49b81916",
   "metadata": {},
   "source": [
    "# Question"
   ]
  },
  {
   "cell_type": "code",
   "execution_count": null,
   "id": "a266c4a3",
   "metadata": {},
   "outputs": [],
   "source": [
    "# question = \"**Disciplina** <Matemática>, sendo o **Conteúdo** <Frações> e o **Objetivo da Aula** é <Utilização para calcular taxa de juros>.\""
   ]
  },
  {
   "cell_type": "markdown",
   "id": "4e6cdd0a",
   "metadata": {},
   "source": [
    "# Answer"
   ]
  },
  {
   "cell_type": "code",
   "execution_count": null,
   "id": "63a42649",
   "metadata": {},
   "outputs": [
    {
     "data": {
      "text/plain": [
       "{'query': '**Disciplina** <Matemática>, sendo o **Conteúdo** <Frações> e o **Objetivo da Aula** é <Utilização para calcular taxa de juros>.',\n",
       " 'result': 'Educação financeira e econômica, Mobilização de pessoas e Visão.',\n",
       " 'source_documents': [Document(metadata={'creator': 'Microsoft® Word para Microsoft 365', 'source': '../pdf/entrecomp.pdf', 'page': 1, 'total_pages': 2, 'page_label': '2', 'moddate': '2025-04-28T16:59:30-03:00', 'producer': 'Microsoft® Word para Microsoft 365', 'author': 'Roselaine Monteiro Moraes', 'creationdate': '2025-04-28T16:59:30-03:00'}, page_content='Educação financeira e econômica: é desenvolver conhecimentos financeiros \\ne econômicos, saber calcular o custo de transformar uma ideia numa atividade criadora \\nde valor. Planejar, colocar em prática e avaliar decisões financeiras ao longo do tempo. \\nGerir as finanças para assegurar que a atividade de criação de valor possa manter-se a \\nlongo prazo. \\n \\nMobilização de pessoas: é inspirar, entusiasmar e mobilizar parceiros'),\n",
       "  Document(metadata={'creator': 'Microsoft® Word para Microsoft 365', 'creationdate': '2025-04-28T16:59:30-03:00', 'page': 1, 'moddate': '2025-04-28T16:59:30-03:00', 'author': 'Roselaine Monteiro Moraes', 'page_label': '2', 'source': '../pdf/entrecomp.pdf', 'total_pages': 2, 'producer': 'Microsoft® Word para Microsoft 365'}, page_content='Educação financeira e econômica: é desenvolver conhecimentos financeiros \\ne econômicos, saber calcular o custo de transformar uma ideia numa atividade criadora \\nde valor. Planejar, colocar em prática e avaliar decisões financeiras ao longo do tempo. \\nGerir as finanças para assegurar que a atividade de criação de valor possa manter-se a \\nlongo prazo. \\n \\nMobilização de pessoas: é inspirar, entusiasmar e mobilizar parceiros'),\n",
       "  Document(metadata={'page': 1, 'author': 'Roselaine Monteiro Moraes', 'producer': 'Microsoft® Word para Microsoft 365', 'creator': 'Microsoft® Word para Microsoft 365', 'creationdate': '2025-04-28T16:59:30-03:00', 'source': '../pdf/entrecomp.pdf', 'moddate': '2025-04-28T16:59:30-03:00', 'total_pages': 2, 'page_label': '2'}, page_content='Educação financeira e econômica: é desenvolver conhecimentos financeiros \\ne econômicos, saber calcular o custo de transformar uma ideia numa atividade criadora \\nde valor. Planejar, colocar em prática e avaliar decisões financeiras ao longo do tempo. \\nGerir as finanças para assegurar que a atividade de criação de valor possa manter-se a \\nlongo prazo. \\n \\nMobilização de pessoas: é inspirar, entusiasmar e mobilizar parceiros'),\n",
       "  Document(metadata={'page': 0, 'source': '../pdf/entrecomp.pdf', 'creator': 'Microsoft® Word para Microsoft 365', 'page_label': '1', 'total_pages': 2, 'creationdate': '2025-04-28T16:59:30-03:00', 'moddate': '2025-04-28T16:59:30-03:00', 'author': 'Roselaine Monteiro Moraes', 'producer': 'Microsoft® Word para Microsoft 365'}, page_content='significativos. \\n \\nVisão: é trabalhar para uma visão de futuro, imaginar o futuro, desenvolver um olhar \\npara transformar ideias em ações e visualizar cenários futuros para ajudar a orientar \\nesforços e iniciativas. \\n \\nValorizar ideias: é fazer o máximo com as ideias e as oportunidades, avaliar que \\nvalor existe em termos sociais, culturais e econômicos, reconhecer o potencial de \\ncriação de valor de uma ideia e identificar formas adequadas de tirar o máximo dela.')]}"
      ]
     },
     "execution_count": 32,
     "metadata": {},
     "output_type": "execute_result"
    }
   ],
   "source": [
    "# chat_chain.invoke({\"query\": question})"
   ]
  }
 ],
 "metadata": {
  "kernelspec": {
   "display_name": "venv (3.12.4)",
   "language": "python",
   "name": "python3"
  },
  "language_info": {
   "codemirror_mode": {
    "name": "ipython",
    "version": 3
   },
   "file_extension": ".py",
   "mimetype": "text/x-python",
   "name": "python",
   "nbconvert_exporter": "python",
   "pygments_lexer": "ipython3",
   "version": "3.12.4"
  }
 },
 "nbformat": 4,
 "nbformat_minor": 5
}
