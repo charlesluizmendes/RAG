{
 "cells": [
  {
   "cell_type": "code",
   "execution_count": 1,
   "id": "7da12039",
   "metadata": {},
   "outputs": [],
   "source": [
    "import os\n",
    "from dotenv import load_dotenv\n",
    "from langchain_community.document_loaders.pdf import PyPDFLoader\n",
    "from langchain_text_splitters import RecursiveCharacterTextSplitter\n",
    "from langchain_community.vectorstores.chroma import Chroma\n",
    "from langchain_openai import OpenAIEmbeddings\n",
    "from langchain_openai.chat_models import ChatOpenAI\n",
    "from langchain.chains.retrieval_qa.base import RetrievalQA\n",
    "from langchain.prompts import PromptTemplate\n",
    "from langchain.globals import set_debug"
   ]
  },
  {
   "cell_type": "markdown",
   "id": "8e84e7a7",
   "metadata": {},
   "source": [
    "# Variables"
   ]
  },
  {
   "cell_type": "code",
   "execution_count": 2,
   "id": "775df766",
   "metadata": {},
   "outputs": [
    {
     "data": {
      "text/plain": [
       "True"
      ]
     },
     "execution_count": 2,
     "metadata": {},
     "output_type": "execute_result"
    }
   ],
   "source": [
    "load_dotenv(override=True)"
   ]
  },
  {
   "cell_type": "code",
   "execution_count": 3,
   "id": "501c0e43",
   "metadata": {},
   "outputs": [],
   "source": [
    "file = os.getenv(\"FILE\")\n",
    "persist_directory = os.getenv(\"PERSIST_DIRECTORY\") + \"/chroma\"\n",
    "api_key = os.getenv(\"OPENAI_API_KEY\")"
   ]
  },
  {
   "cell_type": "markdown",
   "id": "6e76f60a",
   "metadata": {},
   "source": [
    "# PDFLoader"
   ]
  },
  {
   "cell_type": "code",
   "execution_count": 4,
   "id": "9c4c719d",
   "metadata": {},
   "outputs": [],
   "source": [
    "loader = PyPDFLoader(file)\n",
    "file = loader.load()"
   ]
  },
  {
   "cell_type": "markdown",
   "id": "6a9258fa",
   "metadata": {},
   "source": [
    "# Recursive TextSplit"
   ]
  },
  {
   "cell_type": "code",
   "execution_count": 5,
   "id": "88c797d1",
   "metadata": {},
   "outputs": [],
   "source": [
    "recur_split = RecursiveCharacterTextSplitter(\n",
    "    chunk_size=500,\n",
    "    chunk_overlap=50,\n",
    "    separators=[\"\\n\\n\", \"\\n\", \".\", \" \", \"\"]\n",
    ")"
   ]
  },
  {
   "cell_type": "code",
   "execution_count": 6,
   "id": "de473534",
   "metadata": {},
   "outputs": [],
   "source": [
    "documents = recur_split.split_documents(file)"
   ]
  },
  {
   "cell_type": "markdown",
   "id": "a1474c7b",
   "metadata": {},
   "source": [
    "# Embbiding (OpenAI)"
   ]
  },
  {
   "cell_type": "code",
   "execution_count": 7,
   "id": "6f3d2773",
   "metadata": {},
   "outputs": [],
   "source": [
    "embeddings = OpenAIEmbeddings()"
   ]
  },
  {
   "cell_type": "markdown",
   "id": "3435a0f6",
   "metadata": {},
   "source": [
    "# Vector Store"
   ]
  },
  {
   "cell_type": "code",
   "execution_count": 8,
   "id": "f67a9a52",
   "metadata": {},
   "outputs": [],
   "source": [
    "vectordb = Chroma.from_documents(\n",
    "    documents=documents,\n",
    "    embedding=embeddings,\n",
    "    persist_directory=persist_directory\n",
    ")"
   ]
  },
  {
   "cell_type": "markdown",
   "id": "f84be063",
   "metadata": {},
   "source": [
    "# LLM (OpenAI)"
   ]
  },
  {
   "cell_type": "code",
   "execution_count": 9,
   "id": "4b0cfe1f",
   "metadata": {},
   "outputs": [],
   "source": [
    "llm = ChatOpenAI(model=\"gpt-4o-mini\", base_url=\"\", api_key=api_key, temperature=0)"
   ]
  },
  {
   "cell_type": "markdown",
   "id": "786cc5b1",
   "metadata": {},
   "source": [
    "# Chain"
   ]
  },
  {
   "cell_type": "code",
   "execution_count": 10,
   "id": "5db53788",
   "metadata": {},
   "outputs": [],
   "source": [
    "chat_chain = RetrievalQA.from_chain_type(\n",
    "    llm=llm,\n",
    "    retriever=vectordb.as_retriever(search_type='mmr'),\n",
    ")"
   ]
  },
  {
   "cell_type": "markdown",
   "id": "2b1a08a2",
   "metadata": {},
   "source": [
    "# Question"
   ]
  },
  {
   "cell_type": "code",
   "execution_count": 11,
   "id": "eaf16c4d",
   "metadata": {},
   "outputs": [],
   "source": [
    "question = \"O que é Identificar oportunidades?\""
   ]
  },
  {
   "cell_type": "markdown",
   "id": "856f88b3",
   "metadata": {},
   "source": [
    "# Answer"
   ]
  },
  {
   "cell_type": "code",
   "execution_count": 12,
   "id": "b914cbb1",
   "metadata": {},
   "outputs": [
    {
     "data": {
      "text/plain": [
       "{'query': 'O que é Identificar oportunidades?', 'result': 'Não sei.'}"
      ]
     },
     "execution_count": 12,
     "metadata": {},
     "output_type": "execute_result"
    }
   ],
   "source": [
    "chat_chain.invoke({\"query\": question})"
   ]
  },
  {
   "cell_type": "markdown",
   "id": "5c76594d",
   "metadata": {},
   "source": [
    "# Prompt"
   ]
  },
  {
   "cell_type": "code",
   "execution_count": 23,
   "id": "4d488c2c",
   "metadata": {},
   "outputs": [],
   "source": [
    "from langchain.prompts import PromptTemplate\n",
    "\n",
    "prompt = PromptTemplate.from_template(\n",
    "    \"\"\"\n",
    "Você é um assistente de extração de dados educacionais.  \n",
    "Sua tarefa é localizar **exatamente** os Códigos e Descrições **que já estão presentes no contexto abaixo**.  \n",
    "**Você NÃO deve criar, reescrever, resumir ou modificar nenhuma informação.**\n",
    "\n",
    "{context}\n",
    "\n",
    "REGRAS IMPORTANTES:\n",
    "- Você **NÃO** pode inventar nenhum conteúdo que não esteja literalmente no contexto acima.\n",
    "- Você deve retornar **apenas os códigos e descrições exatos e completos** que aparecem no contexto.\n",
    "- Sempre traga o Codigo e Descricao mais proximos dos dados fornecidos\"\n",
    "- **Não corte partes das descrições.**\n",
    "- **Não relacione o conteúdo com códigos errados.**\n",
    "\n",
    "FORMATO OBRIGATÓRIO DE SAÍDA (copiar literalmente do contexto):\n",
    "Código: <código exato>  \n",
    "Descrição: <descrição completa>\n",
    "\n",
    "---\n",
    "\n",
    "Pergunta do usuário:  \n",
    "{question}\n",
    "\"\"\"\n",
    ")\n"
   ]
  },
  {
   "cell_type": "markdown",
   "id": "d1f71af8",
   "metadata": {},
   "source": [
    "# Chain"
   ]
  },
  {
   "cell_type": "code",
   "execution_count": 24,
   "id": "18b2a3b0",
   "metadata": {},
   "outputs": [],
   "source": [
    "chat_chain = RetrievalQA.from_chain_type(\n",
    "    llm=llm,\n",
    "    retriever=vectordb.as_retriever(search_type=\"mmr\"),\n",
    "    chain_type_kwargs={\"prompt\":prompt},\n",
    "    return_source_documents=True\n",
    ")"
   ]
  },
  {
   "cell_type": "markdown",
   "id": "49b81916",
   "metadata": {},
   "source": [
    "# Question"
   ]
  },
  {
   "cell_type": "code",
   "execution_count": 29,
   "id": "a266c4a3",
   "metadata": {},
   "outputs": [],
   "source": [
    "question = \"**Ano Letivo** <9 ano>, **Disciplina** <Matemática>, sendo o **Conteúdo** <experimentos aleatórios> e o **Objetivo da Aula** é <reconhecer>.\""
   ]
  },
  {
   "cell_type": "markdown",
   "id": "4e6cdd0a",
   "metadata": {},
   "source": [
    "# Answer"
   ]
  },
  {
   "cell_type": "code",
   "execution_count": 30,
   "id": "63a42649",
   "metadata": {},
   "outputs": [
    {
     "data": {
      "text/plain": [
       "{'query': '**Ano Letivo** <9 ano>, **Disciplina** <Matemática>, sendo o **Conteúdo** <experimentos aleatórios> e o **Objetivo da Aula** é <reconhecer>.',\n",
       " 'result': 'Código: EF09MA19  \\nDescrição: Reconhecer, em experimentos aleatórios, eventos independentes e dependentes e calcular a probabilidade de sua ocorrência, nos dois casos.',\n",
       " 'source_documents': [Document(metadata={'source': '../pdf/matematica.pdf', 'creationdate': 'D:20250429004401', 'producer': 'PyFPDF 1.7.2 http://pyfpdf.googlecode.com/', 'page_label': '1', 'page': 0, 'total_pages': 3, 'creator': 'PyPDF'}, page_content='Matemática - 9º Ano\\nCódigo: EF09MA01\\nDescrição: Reconhecer que, uma vez fixada uma unidade de comprimento, existem segmentos de reta cujo\\ncomprimento não é expresso por número racional, como as medidas de diagonais de um polígono e alturas\\nde um triângulo.\\nCódigo: EF09MA02\\nDescrição: Reconhecer um número irracional como um número real cuja representação decimal é infinita e\\nnão periódica, e estimar a localização de alguns deles na reta numérica.\\nCódigo: EF09MA03'),\n",
       "  Document(metadata={'creator': 'PyPDF', 'page': 1, 'creationdate': 'D:20250429004401', 'page_label': '2', 'source': '../pdf/matematica.pdf', 'total_pages': 3, 'producer': 'PyFPDF 1.7.2 http://pyfpdf.googlecode.com/'}, page_content='plano cartesiano, sem o uso de fórmulas, e utilizar esse conhecimento para calcular, por exemplo, medidas\\nde perímetros e áreas de figuras planas construídas no plano.'),\n",
       "  Document(metadata={'total_pages': 3, 'creator': 'PyPDF', 'page': 2, 'producer': 'PyFPDF 1.7.2 http://pyfpdf.googlecode.com/', 'page_label': '3', 'creationdate': 'D:20250429004401', 'source': '../pdf/matematica.pdf'}, page_content='Código: EF09MA18\\nDescrição: Resolver e elaborar problemas que envolvam medidas de volumes de prismas e de cilindros\\nretos, inclusive com uso de expressões de cálculo, em situações cotidianas.\\nCódigo: EF09MA19\\nDescrição: Reconhecer, em experimentos aleatórios, eventos independentes e dependentes e calcular a\\nprobabilidade de sua ocorrência, nos dois casos.\\nCódigo: EF09MA20\\nDescrição: Analisar e identificar, em gráficos divulgados pela mídia, os elementos que podem induzir, às'),\n",
       "  Document(metadata={'producer': 'PyFPDF 1.7.2 http://pyfpdf.googlecode.com/', 'creator': 'PyPDF', 'total_pages': 3, 'page_label': '3', 'page': 2, 'source': '../pdf/matematica.pdf', 'creationdate': 'D:20250429004401'}, page_content='medidas de tendência central.\\nCódigo: EF09MA22\\nDescrição: Planejar e executar pesquisa amostral envolvendo tema da realidade social e comunicar os\\nresultados por meio de relatório contendo avaliação de medidas de tendência central e da amplitude, tabelas\\ne gráficos adequados, construídos com o apoio de planilhas eletrônicas.')]}"
      ]
     },
     "execution_count": 30,
     "metadata": {},
     "output_type": "execute_result"
    }
   ],
   "source": [
    "chat_chain.invoke({\"query\": question})"
   ]
  }
 ],
 "metadata": {
  "kernelspec": {
   "display_name": "venv (3.12.4)",
   "language": "python",
   "name": "python3"
  },
  "language_info": {
   "codemirror_mode": {
    "name": "ipython",
    "version": 3
   },
   "file_extension": ".py",
   "mimetype": "text/x-python",
   "name": "python",
   "nbconvert_exporter": "python",
   "pygments_lexer": "ipython3",
   "version": "3.12.4"
  }
 },
 "nbformat": 4,
 "nbformat_minor": 5
}
