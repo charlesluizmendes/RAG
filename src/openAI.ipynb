{
 "cells": [
  {
   "cell_type": "code",
   "execution_count": null,
   "id": "7da12039",
   "metadata": {},
   "outputs": [],
   "source": [
    "import os\n",
    "from dotenv import load_dotenv\n",
    "\n",
    "from pymongo import MongoClient\n",
    "from langchain_mongodb import MongoDBAtlasVectorSearch\n",
    "\n",
    "from langchain_community.document_loaders.pdf import PyPDFLoader\n",
    "from langchain_text_splitters import RecursiveCharacterTextSplitter\n",
    "from langchain_openai import OpenAIEmbeddings\n",
    "from langchain_openai.chat_models import ChatOpenAI\n",
    "from langchain.prompts import ChatPromptTemplate\n",
    "from langchain.chains.retrieval_qa.base import RetrievalQA\n",
    "\n",
    "from langchain.globals import set_debug"
   ]
  },
  {
   "cell_type": "markdown",
   "id": "8e84e7a7",
   "metadata": {},
   "source": [
    "# Variables"
   ]
  },
  {
   "cell_type": "code",
   "execution_count": 419,
   "id": "775df766",
   "metadata": {},
   "outputs": [
    {
     "data": {
      "text/plain": [
       "True"
      ]
     },
     "execution_count": 419,
     "metadata": {},
     "output_type": "execute_result"
    }
   ],
   "source": [
    "load_dotenv(override=True)"
   ]
  },
  {
   "cell_type": "code",
   "execution_count": null,
   "id": "501c0e43",
   "metadata": {},
   "outputs": [],
   "source": [
    "file = os.getenv(\"FILE\")\n",
    "api_key = os.getenv(\"OPENAI_API_KEY\")\n",
    "mongo_url = os.getenv(\"MONGO_URL\")\n",
    "mongo_db = os.getenv(\"MONGO_DB\")\n",
    "mongo_collection = os.getenv(\"MONGO_COLLECTION\")"
   ]
  },
  {
   "cell_type": "markdown",
   "id": "6e76f60a",
   "metadata": {},
   "source": [
    "# PDFLoader"
   ]
  },
  {
   "cell_type": "code",
   "execution_count": 421,
   "id": "9c4c719d",
   "metadata": {},
   "outputs": [],
   "source": [
    "loader = PyPDFLoader(file)\n",
    "files = loader.load()"
   ]
  },
  {
   "cell_type": "code",
   "execution_count": 422,
   "id": "faa123c6",
   "metadata": {},
   "outputs": [],
   "source": [
    "id = \"45657525-1a48-4c82-88aa-a9f9037b2d4b\""
   ]
  },
  {
   "cell_type": "code",
   "execution_count": 423,
   "id": "38f89148",
   "metadata": {},
   "outputs": [],
   "source": [
    "for file in files:\n",
    "    file.metadata['id'] = str(id)"
   ]
  },
  {
   "cell_type": "markdown",
   "id": "6a9258fa",
   "metadata": {},
   "source": [
    "# Recursive TextSplit"
   ]
  },
  {
   "cell_type": "code",
   "execution_count": 424,
   "id": "b3717e5b",
   "metadata": {},
   "outputs": [],
   "source": [
    "recur_split = RecursiveCharacterTextSplitter(\n",
    "    chunk_size=1000,\n",
    "    chunk_overlap=150\n",
    ")"
   ]
  },
  {
   "cell_type": "code",
   "execution_count": 425,
   "id": "de473534",
   "metadata": {},
   "outputs": [],
   "source": [
    "documents = recur_split.split_documents(files)"
   ]
  },
  {
   "cell_type": "markdown",
   "id": "a1474c7b",
   "metadata": {},
   "source": [
    "# Embbiding (OpenAI)"
   ]
  },
  {
   "cell_type": "code",
   "execution_count": 426,
   "id": "6f3d2773",
   "metadata": {},
   "outputs": [],
   "source": [
    "embeddings = OpenAIEmbeddings()"
   ]
  },
  {
   "cell_type": "markdown",
   "id": "3435a0f6",
   "metadata": {},
   "source": [
    "# Vector Store"
   ]
  },
  {
   "cell_type": "code",
   "execution_count": 428,
   "id": "edbfbdd9",
   "metadata": {},
   "outputs": [],
   "source": [
    "client = MongoClient(mongo_url)\n",
    "db = client[mongo_db]\n",
    "collection = db[mongo_collection]"
   ]
  },
  {
   "cell_type": "code",
   "execution_count": 429,
   "id": "c768f5f2",
   "metadata": {},
   "outputs": [
    {
     "name": "stderr",
     "output_type": "stream",
     "text": [
      "_id or id key found in metadata. Please pop from each dict and input as separate list.Retrieving methods will include the same id as '_id' in metadata.\n"
     ]
    }
   ],
   "source": [
    "vectordb = MongoDBAtlasVectorSearch.from_documents( \n",
    "    documents=documents, \n",
    "    embedding= embeddings, \n",
    "    collection=collection,\n",
    "    index_name=\"vector_index\"\n",
    ")"
   ]
  },
  {
   "cell_type": "markdown",
   "id": "86004a39",
   "metadata": {},
   "source": [
    "# Retriever"
   ]
  },
  {
   "cell_type": "code",
   "execution_count": 430,
   "id": "82eb1ad8",
   "metadata": {},
   "outputs": [],
   "source": [
    "retriever = vectordb.as_retriever(\n",
    "    search_type='similarity', \n",
    "    search_kwargs = {\n",
    "        \"k\": 5,\n",
    "        'fetch_k': 30,\n",
    "        'pre_filter': {'id': str(id)}\n",
    "    }\n",
    ")"
   ]
  },
  {
   "cell_type": "markdown",
   "id": "f84be063",
   "metadata": {},
   "source": [
    "# LLM (OpenAI)"
   ]
  },
  {
   "cell_type": "code",
   "execution_count": 431,
   "id": "4b0cfe1f",
   "metadata": {},
   "outputs": [],
   "source": [
    "llm = ChatOpenAI(model=\"gpt-4o\", api_key=api_key, temperature=0)"
   ]
  },
  {
   "cell_type": "markdown",
   "id": "5c76594d",
   "metadata": {},
   "source": [
    "# Prompt"
   ]
  },
  {
   "cell_type": "code",
   "execution_count": 432,
   "id": "46a1dfb4",
   "metadata": {},
   "outputs": [],
   "source": [
    "prompt = ChatPromptTemplate.from_template(\n",
    "\"\"\"\n",
    "Você é um assistente de extração de dados educacionais.  \n",
    "Sua tarefa é localizar **exatamente** os Códigos e Descrições **que já estão presentes no contexto abaixo** de acordo com os dados fornecidos.  \n",
    "**Você NÃO deve criar, reescrever, resumir ou modificar nenhuma informação.**\n",
    "\n",
    "{context}\n",
    "\n",
    "REGRAS IMPORTANTES:\n",
    "- Você **NÃO** pode inventar nenhum conteúdo que não esteja literalmente no contexto acima.\n",
    "- Você deve retornar **apenas os códigos e descrições exatos e completos** que aparecem no contexto.\n",
    "- **Não corte partes das descrições.**\n",
    "- **Não relacione o conteúdo com códigos errados.**\n",
    "\n",
    "FORMATO OBRIGATÓRIO DE SAÍDA (copiar literalmente do contexto):\n",
    "Código: <código exato>  \n",
    "Descrição: <descrição completa>\n",
    "\n",
    "---\n",
    "\n",
    "Pergunta do usuário:  \n",
    "{question}\n",
    "\"\"\"\n",
    ")"
   ]
  },
  {
   "cell_type": "markdown",
   "id": "d1f71af8",
   "metadata": {},
   "source": [
    "# Chain"
   ]
  },
  {
   "cell_type": "code",
   "execution_count": null,
   "id": "18b2a3b0",
   "metadata": {},
   "outputs": [],
   "source": [
    "chat_chain = RetrievalQA.from_chain_type(\n",
    "    llm=llm,\n",
    "    retriever=retriever,\n",
    "    chain_type_kwargs={\"prompt\":prompt},\n",
    "    return_source_documents=True\n",
    ")"
   ]
  },
  {
   "cell_type": "markdown",
   "id": "49b81916",
   "metadata": {},
   "source": [
    "# Question"
   ]
  },
  {
   "cell_type": "code",
   "execution_count": 436,
   "id": "a266c4a3",
   "metadata": {},
   "outputs": [],
   "source": [
    "question = \"**Ano Letivo** <9 ano>, **Disciplina** <Matemática>, sendo o **Conteúdo** <Porcentagem> e o **Objetivo da Aula** é <Uso para calcular juros>.\""
   ]
  },
  {
   "cell_type": "markdown",
   "id": "4e6cdd0a",
   "metadata": {},
   "source": [
    "# Answer"
   ]
  },
  {
   "cell_type": "code",
   "execution_count": 437,
   "id": "63a42649",
   "metadata": {},
   "outputs": [
    {
     "data": {
      "text/plain": [
       "{'query': '**Ano Letivo** <9 ano>, **Disciplina** <Matemática>, sendo o **Conteúdo** <Porcentagem> e o **Objetivo da Aula** é <Uso para calcular juros>.',\n",
       " 'result': 'Código: EF09MA05  \\nDescrição: Resolver e elaborar problemas que envolvam porcentagens, com a ideia de aplicação de percentuais sucessivos e a determinação das taxas percentuais, preferencialmente com o uso de tecnologias digitais, no contexto da educação financeira.',\n",
       " 'source_documents': [Document(id='689e88fa15c65a06b4a963e0', metadata={'_id': '689e88fa15c65a06b4a963e0', 'producer': 'PyFPDF 1.7.2 http://pyfpdf.googlecode.com/', 'creator': 'PyPDF', 'creationdate': 'D:20250429004401', 'source': '../pdf/matematica.pdf', 'total_pages': 3, 'page': 0, 'page_label': '1', 'id': '45657525-1a48-4c82-88aa-a9f9037b2d4b'}, page_content='tecnologias digitais, no contexto da educação financeira.\\nCódigo: EF09MA06\\nDescrição: Compreender as funções como relações de dependência unívoca entre duas variáveis e suas\\nrepresentações numérica, algébrica e gráfica e utilizar esse conceito para analisar situações que envolvam\\nrelações funcionais entre duas variáveis.\\nCódigo: EF09MA07\\nDescrição: Resolver problemas que envolvam a razão entre duas grandezas de espécies diferentes, como\\nvelocidade e densidade demográfica.'),\n",
       "  Document(id='689e88fa15c65a06b4a963df', metadata={'_id': '689e88fa15c65a06b4a963df', 'producer': 'PyFPDF 1.7.2 http://pyfpdf.googlecode.com/', 'creator': 'PyPDF', 'creationdate': 'D:20250429004401', 'source': '../pdf/matematica.pdf', 'total_pages': 3, 'page': 0, 'page_label': '1', 'id': '45657525-1a48-4c82-88aa-a9f9037b2d4b'}, page_content='Matemática - 9º Ano\\nCódigo: EF09MA01\\nDescrição: Reconhecer que, uma vez fixada uma unidade de comprimento, existem segmentos de reta cujo\\ncomprimento não é expresso por número racional, como as medidas de diagonais de um polígono e alturas\\nde um triângulo.\\nCódigo: EF09MA02\\nDescrição: Reconhecer um número irracional como um número real cuja representação decimal é infinita e\\nnão periódica, e estimar a localização de alguns deles na reta numérica.\\nCódigo: EF09MA03\\nDescrição: Efetuar cálculos com números reais, inclusive potências com expoentes negativos e fracionários.\\nCódigo: EF09MA04\\nDescrição: Resolver e elaborar problemas com números reais, inclusive em notação científica, envolvendo\\ndiferentes operações.\\nCódigo: EF09MA05\\nDescrição: Resolver e elaborar problemas que envolvam porcentagens, com a ideia de aplicação de\\npercentuais sucessivos e a determinação das taxas percentuais, preferencialmente com o uso de\\ntecnologias digitais, no contexto da educação financeira.\\nCódigo: EF09MA06'),\n",
       "  Document(id='689e88fa15c65a06b4a963e1', metadata={'_id': '689e88fa15c65a06b4a963e1', 'producer': 'PyFPDF 1.7.2 http://pyfpdf.googlecode.com/', 'creator': 'PyPDF', 'creationdate': 'D:20250429004401', 'source': '../pdf/matematica.pdf', 'total_pages': 3, 'page': 1, 'page_label': '2', 'id': '45657525-1a48-4c82-88aa-a9f9037b2d4b'}, page_content='Código: EF09MA08\\nDescrição: Resolver e elaborar problemas que envolvam relações de proporcionalidade direta e inversa\\nentre duas ou mais grandezas, inclusive escalas, divisão em partes proporcionais e taxa de variação, em\\ncontextos socioculturais, ambientais e de outras áreas.\\nCódigo: EF09MA09\\nDescrição: Compreender os processos de fatoração de expressões algébricas, com base em suas relações\\ncom os produtos notáveis, para resolver e elaborar problemas que possam ser representados por equações\\npolinomiais do 2º grau.\\nCódigo: EF09MA10\\nDescrição: Demonstrar relações simples entre os ângulos formados por retas paralelas cortadas por uma\\ntransversal.\\nCódigo: EF09MA11\\nDescrição: Resolver problemas por meio do estabelecimento de relações entre arcos, ângulos centrais e\\nângulos inscritos na circunferência, fazendo uso, inclusive, de softwares de geometria dinâmica.\\nCódigo: EF09MA12\\nDescrição: Reconhecer as condições necessárias e suficientes para que dois triângulos sejam semelhantes.'),\n",
       "  Document(id='689e88fa15c65a06b4a963e3', metadata={'_id': '689e88fa15c65a06b4a963e3', 'producer': 'PyFPDF 1.7.2 http://pyfpdf.googlecode.com/', 'creator': 'PyPDF', 'creationdate': 'D:20250429004401', 'source': '../pdf/matematica.pdf', 'total_pages': 3, 'page': 2, 'page_label': '3', 'id': '45657525-1a48-4c82-88aa-a9f9037b2d4b'}, page_content='Código: EF09MA16\\nDescrição: Reconhecer vistas ortogonais de figuras espaciais e aplicar esse conhecimento para desenhar\\nobjetos em perspectiva.\\nCódigo: EF09MA17\\nDescrição: Reconhecer e empregar unidades usadas para expressar medidas muito grandes ou muito\\npequenas, tais como distância entre planetas e sistemas solares, tamanho de vírus ou de células,\\ncapacidade de armazenamento de computadores, entre outros.\\nCódigo: EF09MA18\\nDescrição: Resolver e elaborar problemas que envolvam medidas de volumes de prismas e de cilindros\\nretos, inclusive com uso de expressões de cálculo, em situações cotidianas.\\nCódigo: EF09MA19\\nDescrição: Reconhecer, em experimentos aleatórios, eventos independentes e dependentes e calcular a\\nprobabilidade de sua ocorrência, nos dois casos.\\nCódigo: EF09MA20\\nDescrição: Analisar e identificar, em gráficos divulgados pela mídia, os elementos que podem induzir, às\\nvezes propositadamente, erros de leitura, como escalas inapropriadas, legendas não explicitadas'),\n",
       "  Document(id='689e88fa15c65a06b4a963e4', metadata={'_id': '689e88fa15c65a06b4a963e4', 'producer': 'PyFPDF 1.7.2 http://pyfpdf.googlecode.com/', 'creator': 'PyPDF', 'creationdate': 'D:20250429004401', 'source': '../pdf/matematica.pdf', 'total_pages': 3, 'page': 2, 'page_label': '3', 'id': '45657525-1a48-4c82-88aa-a9f9037b2d4b'}, page_content='vezes propositadamente, erros de leitura, como escalas inapropriadas, legendas não explicitadas\\ncorretamente, omissão de informações importantes (fontes e datas), entre outros.\\nCódigo: EF09MA21\\nDescrição: Escolher e construir o gráfico mais adequado (colunas, setores, linhas), com ou sem uso de\\nplanilhas eletrônicas, para apresentar um determinado conjunto de dados, destacando aspectos como as\\nmedidas de tendência central.\\nCódigo: EF09MA22\\nDescrição: Planejar e executar pesquisa amostral envolvendo tema da realidade social e comunicar os\\nresultados por meio de relatório contendo avaliação de medidas de tendência central e da amplitude, tabelas\\ne gráficos adequados, construídos com o apoio de planilhas eletrônicas.')]}"
      ]
     },
     "execution_count": 437,
     "metadata": {},
     "output_type": "execute_result"
    }
   ],
   "source": [
    "chat_chain.invoke({\"query\": question})"
   ]
  }
 ],
 "metadata": {
  "kernelspec": {
   "display_name": "venv (3.12.4)",
   "language": "python",
   "name": "python3"
  },
  "language_info": {
   "codemirror_mode": {
    "name": "ipython",
    "version": 3
   },
   "file_extension": ".py",
   "mimetype": "text/x-python",
   "name": "python",
   "nbconvert_exporter": "python",
   "pygments_lexer": "ipython3",
   "version": "3.12.4"
  }
 },
 "nbformat": 4,
 "nbformat_minor": 5
}
